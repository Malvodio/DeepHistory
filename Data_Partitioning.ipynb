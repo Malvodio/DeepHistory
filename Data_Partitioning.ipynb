{
  "nbformat": 4,
  "nbformat_minor": 0,
  "metadata": {
    "colab": {
      "name": "DiegoMiranda_TA1.ipynb",
      "provenance": [],
      "collapsed_sections": [],
      "include_colab_link": true
    },
    "kernelspec": {
      "display_name": "Python 3",
      "name": "python3"
    },
    "language_info": {
      "name": "python"
    }
  },
  "cells": [
    {
      "cell_type": "markdown",
      "metadata": {
        "id": "view-in-github",
        "colab_type": "text"
      },
      "source": [
        "<a href=\"https://colab.research.google.com/github/Malvodio/DeepHistory/blob/main/Data_Partitioning.ipynb\" target=\"_parent\"><img src=\"https://colab.research.google.com/assets/colab-badge.svg\" alt=\"Open In Colab\"/></a>"
      ]
    },
    {
      "cell_type": "markdown",
      "metadata": {
        "id": "kDiqJr-m4ZHu"
      },
      "source": [
        "# Tarea Académica 1 (TA1)\n",
        "\n",
        "**Curso:** CS199 - Tópicos Emergentes en Tecnologías de Entretenimiento (Deep Learning)\n",
        "\n",
        "**Profesor:** Jhosimar George Arias Figueroa\n",
        "\n",
        "*Universidad Peruana de Ciencias Aplicadas (UPC)*\n",
        "\n",
        "---\n",
        "\n",
        "## Datos del Alumno\n",
        "\n",
        "**Nombres y Apellidos:** *Diego Miranda Salazar*\n",
        "\n",
        "**Código:** *U201515166*\n",
        "\n",
        "---\n",
        "## Fecha de Entrega \n",
        "\n",
        "Puede entregar el trabajo hasta el día **Lunes 06 de Setiembre del 2021** hasta las 23:59 horas.\n",
        "\n",
        "## Nombre del archivo\n",
        "\n",
        "Deberá subir su trabajo con el nombre **DiegoMiranda_TA1**\n",
        "\n",
        "## Sobre el trabajo\n",
        "\n",
        "Puede acceder a la versión del trabajo en colab desde [aquí](https://colab.research.google.com/drive/1DJPCMaoTDHI0zQ3gVvY9CwEHHSyVfX8y?usp=sharing).\n",
        "\n",
        "Deberá sacar una copia a este notebook desde \"Archivo -> Guardar una copia en Drive\", y deberá completar todas las líneas de código que contengan comentarios TODO o esten inicializadas como None.\n",
        "\n",
        "## Objetivos\n",
        "\n",
        "En este trabajo implementará un clasificador de regresión logística usando operaciones sobre tensores y funciones predefinidas de PyTorch. Los objetivos del trabajo son los siguientes:\n",
        "\n",
        "- Aprenderá a implementar formulaciones matemáticas de forma eficiente usando tensores de PyTorch\n",
        "- Repasará conceptos básicos de machine learning que serán necesarios en futuros trabajos\n",
        "- Conocerá el flujo de trabajo usado al entrenar redes neuronales simples\n",
        "- Se familiarizará más con las funciones predefinidas de PyTorch y su simplicidad\n",
        "- Implementará todo el proceso, desde particionamiento de datos hasta las métricas de evaluación, usando diferentes operaciones y métodos de PyTorch\n",
        "\n",
        "## Calificación\n",
        "\n",
        "La nota del trabajo está basada en el puntaje total obtenido en este notebook y está dividido de la siguiente manera:\n",
        "\n",
        "#### Preparación del conjunto de datos (2 puntos)\n",
        "\n",
        "- Convertir la data a tensores (1 punto)\n",
        "- Particionamiento de datos (1 punto)\n",
        "\n",
        "#### Regresión logística desde cero (12 puntos)\n",
        "\n",
        "- Función de Activación (1 punto)\n",
        "- Inicialización de parámetros (1 punto)\n",
        "- Definición del Modelo (1 punto)\n",
        "- Función de Pérdida (1 punto)\n",
        "- Optimización (3 puntos)\n",
        "- Entrenamiento (3 puntos)\n",
        "- Predicción (1 punto)\n",
        "- Métrica de Evaluación (1 punto)\n",
        "\n",
        "#### Regresión logística usando métodos predefinidos (6 puntos)\n",
        "\n",
        "- Modelo (1.5 puntos)\n",
        "- Función de Pérdida (0.5 puntos)\n",
        "- Gradiente Descendente Estocástico (0.5 puntos)\n",
        "- Entrenamiento (2 puntos)\n",
        "- Predicción (0.5 puntos)\n",
        "- Métrica de Evaluación (0.5 puntos)\n",
        "- Prueba Final (0.5 puntos)\n",
        "\n",
        "El puntaje total es de $20$. \n",
        "\n",
        "*Los puntajes de la segunda parte son más bajos debido a que los métodos se implementan de manera similar a los de la primera parte del trabajo. La diferencia es que los parámetros no se usan explicitamente ya que están encapsulados en los módulos de PyTorch.*\n"
      ]
    },
    {
      "cell_type": "markdown",
      "metadata": {
        "id": "4IXxhUgUupWD"
      },
      "source": [
        "# Clasificador de Regresión Logística\n",
        "\n",
        "Este trabajo está basado en la implementación del clasificador de regresión logística el cual será aplicado sobre un conjunto de datos sintéticos. El flujo de trabajo se puede visualizar en la siguiente imagen:\n",
        "\n",
        "<p align=\"center\">\n",
        "<img src=\"https://drive.google.com/uc?export=view&id=1Uyzxq2Dez-5BW9yLOyCdyVfnwvg3BUZy\" width=\"1000px\" />\n",
        "<p/>\n"
      ]
    },
    {
      "cell_type": "markdown",
      "metadata": {
        "id": "MKq-llMyJUsP"
      },
      "source": [
        "## Importación de bibliotecas\n",
        "\n",
        "Empecemos importando las bibliotecas que serán usadas en este trabajo `numpy`, `matplotlib` y `torch`."
      ]
    },
    {
      "cell_type": "code",
      "metadata": {
        "id": "q5ven54VJgzg"
      },
      "source": [
        "%matplotlib inline\n",
        "import matplotlib.pyplot as plt # visualizaciones\n",
        "import torch # operaciones sobre tensores\n",
        "import random # para números aleatorios\n",
        "from sklearn.datasets import make_classification # generación de datos\n",
        "from sklearn.datasets import make_blobs # generación de datos\n",
        "from matplotlib.colors import ListedColormap # mapas de color"
      ],
      "execution_count": null,
      "outputs": []
    },
    {
      "cell_type": "markdown",
      "metadata": {
        "id": "pk4-SHPOWEIu"
      },
      "source": [
        "## Seeds para reproducibilidad\n",
        "\n",
        "Un paso muy importante a la hora de implementar nuestros modelos es el uso de `seeds` que permitirá reproducir los resultados obtenidos."
      ]
    },
    {
      "cell_type": "code",
      "metadata": {
        "id": "06tqtCEHWZ68"
      },
      "source": [
        "# Función para establecer el \"seed\"\n",
        "def set_seed(seed):\n",
        "  random.seed(seed)        # seed para generación de números aleatorios\n",
        "  torch.manual_seed(seed)  # seed de torch\n",
        "\n",
        "set_seed(42)"
      ],
      "execution_count": null,
      "outputs": []
    },
    {
      "cell_type": "markdown",
      "metadata": {
        "id": "8k8js2tJICHw"
      },
      "source": [
        "## Preparación del conjunto de datos\n",
        "\n",
        "En esta sección generaremos un conjunto de datos artificial, el cual convertirá a tensores y lo particionará en conjuntos de entrenamiento, validación y prueba."
      ]
    },
    {
      "cell_type": "markdown",
      "metadata": {
        "id": "3JmZo02RManY"
      },
      "source": [
        "### Generación del conjunto de datos\n",
        "\n",
        "Antes de iniciar con la implementación, generaremos un conjunto de datos. Para simplificar las cosas, construiremos un conjunto de datos artificial. Mantendremos los datos de dimensiones reducidas para que podamos visualizarlos fácilmente.\n",
        "\n",
        "En el siguiente código, generamos un conjunto de datos que contiene 1000 muestras, cada uno de los cuales consta de 2 características. Por lo tanto, nuestro conjunto de datos sintéticos será una matriz $\\mathbf{X}\\in \\mathbb{R}^{1000 \\times 2}$.\n",
        "\n",
        "La clase roja tendrá la etiqueta 1 y la clase azul la etiqueta 0. Para generar los datos usaremos `scikit-learn`, no usaremos esta biblioteca para otros fines."
      ]
    },
    {
      "cell_type": "code",
      "metadata": {
        "id": "ZIpwlpY2NWZX",
        "colab": {
          "base_uri": "https://localhost:8080/",
          "height": 265
        },
        "outputId": "d52534b7-e379-42e1-bda2-c891632d94cb"
      },
      "source": [
        "# Crear mapas de color para visualización\n",
        "cmap_light = ListedColormap(['#AAAAFF', '#FFAAAA'])\n",
        "cmap_bold = ListedColormap(['#0000FF', '#FF0000'])\n",
        "\n",
        "# Generamos data aleatoria\n",
        "X_array, y_array = make_blobs(1000, 2, centers=2, random_state=10, cluster_std = 2.5)\n",
        "X_array = X_array - 10\n",
        "\n",
        "# Visualizamos la data generada\n",
        "plt.scatter(X_array[:, 0], X_array[:, 1], c=y_array, s=5, cmap=cmap_bold)\n",
        "plt.show()"
      ],
      "execution_count": null,
      "outputs": [
        {
          "output_type": "display_data",
          "data": {
            "image/png": "[encoded data removed]",
            "text/plain": [
              "<Figure size 432x288 with 1 Axes>"
            ]
          },
          "metadata": {
            "needs_background": "light"
          }
        }
      ]
    },
    {
      "cell_type": "markdown",
      "metadata": {
        "id": "UXB_TwQlNdOo"
      },
      "source": [
        "Podemos observar que la data es linealmente separable. Por lo tanto, se espera encontrar el límite de decisión óptimo."
      ]
    },
    {
      "cell_type": "markdown",
      "metadata": {
        "id": "ZsUbMVBhOE4C"
      },
      "source": [
        "### Convertir la data a tensores (1 punto)\n",
        "\n",
        "La data generada es una lista de listas de python. Sin embargo, trabajará con tensores. Por lo tanto, será necesario convertir la data a tensores: "
      ]
    },
    {
      "cell_type": "code",
      "metadata": {
        "id": "N9EAQU_rO3e4",
        "colab": {
          "base_uri": "https://localhost:8080/"
        },
        "outputId": "de7f1147-6a6e-4350-bd88-0de3b1beeb00"
      },
      "source": [
        "# TODO: Convertir los arreglos X_array y y_array a tensores\n",
        "#       especificar el tipo de dato como torch.float para ambos\n",
        "#       datos (X) y etiquetas (y_true) \n",
        "X = torch.tensor(X_array,dtype=torch.float)\n",
        "y = torch.tensor(y_array,dtype=torch.float)\n",
        "\n",
        "# TODO: Actualmente 'y' es un vector de dimensión (n), deberá convertir\n",
        "#       este vector a su forma matricial. Puede usar .view o .reshape\n",
        "#       El tamaño deseado es (n,1)\n",
        "\n",
        "y = y.view(y.shape[0],1)\n",
        "\n",
        "# Verificación de implementación\n",
        "assert(torch.is_tensor(X) == True)\n",
        "assert(torch.is_tensor(y) == True)\n",
        "assert(X.dtype == torch.float)\n",
        "assert(y.dtype == torch.float)\n",
        "assert(y.shape == (y.shape[0],1))\n",
        "\n",
        "print('Tamaño del dataset: ', X.shape)\n",
        "print('Tamaño de las etiquetas: ', y.shape)"
      ],
      "execution_count": null,
      "outputs": [
        {
          "output_type": "stream",
          "name": "stdout",
          "text": [
            "Tamaño del dataset:  torch.Size([1000, 2])\n",
            "Tamaño de las etiquetas:  torch.Size([1000, 1])\n"
          ]
        }
      ]
    },
    {
      "cell_type": "markdown",
      "metadata": {
        "id": "PdFe0exNN-73"
      },
      "source": [
        "### Particionamiento de datos (1 punto)\n",
        "\n",
        "Como no contamos con un conjunto de datos de validación y de prueba, el primer paso es particionar los datos.\n",
        "\n",
        "#### Particionamiento Hold-out\n",
        "\n",
        "Particionaremos el conjunto de datos en entrenamiento y prueba. Para ello, adicionaremos un parámetro `train_size` con valores entre $0$ y $1$ que indica el porcentaje de datos a considerar en la data de entrenamiento. Por ejemplo, si tenemos $1000$ datos y especificamos `train_size` igual a $0.8$. Entonces el método retornará dos conjuntos de datos: $(X_{train}, y_{train})$ y $(X_{test}, y_{test})$ con $800$ y $200$ muestras respectivamente."
      ]
    },
    {
      "cell_type": "code",
      "metadata": {
        "id": "A2fbypLNQiTW"
      },
      "source": [
        "def train_test_split(X, y, train_size=0.8):\n",
        "\n",
        "  '''\n",
        "    Este método permite dividir un conjunto de datos (X,y) en dos conjuntos \n",
        "    de datos (X_train, y_train) y (X_test, y_test) dada la proporción de datos \n",
        "    de entrenamiento deseado. \n",
        "\n",
        "    Es necesario aleatorizar los datos antes de realizar la división.\n",
        "    \n",
        "    Args:\n",
        "      - X: dataset de dimensión (n, m), donde n es el número de muestras y\n",
        "           m es el número de características.\n",
        "      - y: arreglo de dimensión (n), donde n es el número de muestras. Este\n",
        "           arreglo contiene las etiquetas (clases) de la data.\n",
        "      - train_size: representa la proporción del conjunto de datos a incluir en \n",
        "                    la data de entrenamiento.\n",
        "\n",
        "    Returns:\n",
        "      - X_train: tensor de dimensión (n_train, m)\n",
        "      - y_train: tensor de dimensión (n_train)\n",
        "      - X_test: tensor de dimensión (n_val, m)\n",
        "      - y_test: tensor de dimensióm (n_val)\n",
        "\n",
        "    Note: \n",
        "      - Los datos particionados deben sumar el total (n_train+n_val = n)\n",
        "      - Implementar el método usando solo operaciones de tensores de torch.\n",
        "      - No es válido usar métodos como split o random_split\n",
        "      - A continuación se deja una plantilla que puede usar, pero no es\n",
        "        obligatorio, puede realizar la implementación como mejor le parezca.\n",
        "  '''\n",
        "  n = X.shape[0]\n",
        "\n",
        "  # TODO: Crear una lista de índices aleatorios de los datos. Puede usar torch.randperm\n",
        "  indices = torch.randperm(n)\n",
        "\n",
        "  # TODO: Definir el número de muestras de la data de entrenamiento\n",
        "  n_train = int(n*train_size)\n",
        "\n",
        "  # TODO: Seleccionar los índices que se usarán en la data de entrenamiento y de prueba\n",
        "  train_indices = indices[:n_train]\n",
        "  test_indices = indices[n_train:]\n",
        "\n",
        "    # TODO: Particionar los datos usando los índices seleccionados anteriormente\n",
        "  X_train, y_train = X[train_indices,:], y[train_indices,:]\n",
        "  X_test, y_test = X[test_indices,:], y[test_indices,:]\n",
        "\n",
        "  # Retornamos los conjuntos de datos particionados\n",
        "  return X_train, y_train, X_test, y_test"
      ],
      "execution_count": null,
      "outputs": []
    },
    {
      "cell_type": "markdown",
      "metadata": {
        "id": "EzH0K6SmKkHw"
      },
      "source": [
        "Verifiquemos si las dimensiones del método de particionamiento implementado son las correctas:"
      ]
    },
    {
      "cell_type": "code",
      "metadata": {
        "id": "OFRiusdRKmTK",
        "colab": {
          "base_uri": "https://localhost:8080/"
        },
        "outputId": "51a20bed-c2f5-411d-e2a5-d90ef091b119"
      },
      "source": [
        "# Test para probar la implementación del particionamiento de datos\n",
        "train_sizes = [0.2, 0.3, 0.4, 0.5, 0.6, 0.7, 0.75, 0.8, 0.85, 0.9]\n",
        "correct = True\n",
        "for train_size in train_sizes:\n",
        "  _X_train, _y_train, _X_test, _y_test = train_test_split(X, y, train_size)\n",
        "  difference = X.shape[0] - _X_train.shape[0] - _X_test.shape[0]\n",
        "  difference_y = y.shape[0] - _y_train.shape[0] - _y_test.shape[0]\n",
        "  if difference != 0 or difference_y != 0:\n",
        "    print(':( Las dimensiones del particionamiento no son correctas.\\n')\n",
        "    print(f'Total: ({X.shape},{y.shape})')\n",
        "    print(f'Train: ({_X_train.shape},{_y_train.shape})')\n",
        "    print(f'Test: ({_X_test.shape},{_y_test.shape})')\n",
        "    correct = False\n",
        "    break\n",
        "  elif _y_train.shape[1] != 1 or _y_test.shape[1] != 1:\n",
        "    print(':( Las dimensiones de las etiquetas no son correctas.\\n')\n",
        "    print(f'y train: {_y_train.shape}')\n",
        "    print(f'y test: {_y_test.shape}')\n",
        "if correct:\n",
        "  print(':) Las dimensiones del particionamiento son correctas.')"
      ],
      "execution_count": null,
      "outputs": [
        {
          "output_type": "stream",
          "name": "stdout",
          "text": [
            ":) Las dimensiones del particionamiento son correctas.\n"
          ]
        }
      ]
    },
    {
      "cell_type": "markdown",
      "metadata": {
        "id": "Ib-dZg0jZTOc"
      },
      "source": [
        "Realizaremos el particionamiento de los datos considerando 60% para entrenamiento, 20% para validación y 20% para prueba:"
      ]
    },
    {
      "cell_type": "code",
      "metadata": {
        "id": "bYBJYetPY0qS",
        "colab": {
          "base_uri": "https://localhost:8080/"
        },
        "outputId": "916930f3-9ac2-4a20-f44d-9f7f83bb9506"
      },
      "source": [
        "# Particionamos el conjunto de datos en entrenamiento (train), validación (val)\n",
        "# y prueba (test)\n",
        "_X_train, _y_train, X_test, y_test = train_test_split(X, y, train_size=0.8)\n",
        "X_train, y_train, X_val, y_val = train_test_split(_X_train, _y_train, train_size=0.75)\n",
        "\n",
        "print('Tamaño original del dataset:', X.shape)\n",
        "print('---------------------------')\n",
        "print('Tamaño de la data de entrenamiento:', X_train.shape)\n",
        "print('Tamaño de la data de validación:', X_val.shape)\n",
        "print('Tamaño de la data de prueba:', X_test.shape)"
      ],
      "execution_count": null,
      "outputs": [
        {
          "output_type": "stream",
          "name": "stdout",
          "text": [
            "Tamaño original del dataset: torch.Size([1000, 2])\n",
            "---------------------------\n",
            "Tamaño de la data de entrenamiento: torch.Size([600, 2])\n",
            "Tamaño de la data de validación: torch.Size([200, 2])\n",
            "Tamaño de la data de prueba: torch.Size([200, 2])\n"
          ]
        }
      ]
    },
    {
      "cell_type": "markdown",
      "metadata": {
        "id": "eGy0aKHLZj4U"
      },
      "source": [
        "### Visualización del conjunto de datos\n",
        "\n",
        "Procederemos con la visualización de los particionamientos previamente realizados. En este paso solo mostraremos la data de entrenamiento y de validación para saber el tipo de clasificación que necesitamos realizar. La data de prueba solo la usaremos al final de este trabajo."
      ]
    },
    {
      "cell_type": "code",
      "metadata": {
        "id": "hN_eR7RvZoVF",
        "colab": {
          "base_uri": "https://localhost:8080/",
          "height": 336
        },
        "outputId": "fd685b48-2f3f-4679-d99c-0fe950873d57"
      },
      "source": [
        "def plot_dataset(X_train, y_train, X_test, y_test, is_validation=True):\n",
        "  \"\"\"\n",
        "    Este método permite visualizar nuestros datos de entrenamiento y prueba\n",
        "  \"\"\"\n",
        "  plt.subplots(figsize =(15, 5))\n",
        "  #plt.subplots(figsize =(11, 4))\n",
        "  plt.subplot(1, 2, 1)\n",
        "  plt.scatter(X_train[:, 0], X_train[:, 1], c=y_train, s=8, cmap=cmap_bold)  \n",
        "  plt.title('Data de Entrenamiento')\n",
        "  plt.subplot(1, 2, 2)\n",
        "  plt.scatter(X_test[:,0], X_test[:,1], s=8)\n",
        "  if is_validation:\n",
        "    plt.title('Data de Validación')\n",
        "  else:\n",
        "    plt.title('Data de Prueba')\n",
        "  plt.show()\n",
        "\n",
        "plot_dataset(X_train.numpy(), y_train.numpy(), X_val.numpy(), y_val.numpy())"
      ],
      "execution_count": null,
      "outputs": [
        {
          "output_type": "display_data",
          "data": {
            "image/png": "[encoded data removed]",
            "text/plain": [
              "<Figure size 1080x360 with 2 Axes>"
            ]
          },
          "metadata": {
            "needs_background": "light"
          }
        }
      ]
    },
    {
      "cell_type": "markdown",
      "metadata": {
        "id": "y_WmmnQhbL7T"
      },
      "source": [
        "## Regresión logística desde cero (12 puntos)\n",
        "\n",
        "En esta sección implementará el método desde cero incluyendo el modelo, la función de pérdida y el optimizador de gradiente descendente. Si bien los frameworks de deep learning modernos pueden automatizar casi todo este trabajo, implementar las cosas desde cero es la única forma de asegurarnos de que realmente sabemos lo que estamos haciendo. \n",
        "\n",
        "La implementación estará basada solamente en operaciones sobre tensores, no es válido usar paquetes como `torch.nn` o `torch.optim`. Más adelante, realizará una implementación más concisa, aprovechando los métodos ya definidos de PyTorch. "
      ]
    },
    {
      "cell_type": "markdown",
      "metadata": {
        "id": "Exwr4QGWcgrQ"
      },
      "source": [
        "### Función de Activación (1 punto)\n",
        "\n",
        "La función de activación usada en regresión logística es la función sigmoidea:\n",
        "\n",
        "\\begin{align*}\n",
        "\\sigma(z) = \\frac{1}{1+e^{-z}}\n",
        "\\end{align*}\n",
        "\n",
        "A continuación, deberá implementar esta función:"
      ]
    },
    {
      "cell_type": "code",
      "metadata": {
        "id": "sU2bDXqsc80Q"
      },
      "source": [
        "def sigmoid(z):\n",
        "  '''\n",
        "    Este método implementa la función sigmoidea\n",
        "    \n",
        "    Args:\n",
        "      - z: un escalar o tensor de torch de tamaño variable\n",
        "\n",
        "    Returns:\n",
        "      - un escalar o tensor del mismo tamaño de z\n",
        "\n",
        "  '''\n",
        "  #TODO: Implemente la función sigmoidea\n",
        "  s = 1/(1+(1/torch.exp(z)))\n",
        "\n",
        "  assert(torch.is_tensor(s) == True)\n",
        "  assert(s.shape == z.shape)\n",
        "  return s"
      ],
      "execution_count": null,
      "outputs": []
    },
    {
      "cell_type": "markdown",
      "metadata": {
        "id": "I6bHZcQ_dxi6"
      },
      "source": [
        "Recordemos que la idea principal de la función sigmoidea es que ajusta los valores entre 0 y 1. La función tiene una \"forma de s\" muy característica, que rápidamente va a 1 cuando z tiene al +∞ o va a 0 cuando z tiene al -∞. Esto hace que la función sea muy adecuada para la clasificación binaria. A continuación visualizaremos la función:"
      ]
    },
    {
      "cell_type": "code",
      "metadata": {
        "id": "hKLVADGXd8rf",
        "colab": {
          "base_uri": "https://localhost:8080/",
          "height": 295
        },
        "outputId": "29712394-8f12-46b9-a088-6ec0e8a5894b"
      },
      "source": [
        "# Valores entre -15 y 15\n",
        "z = torch.arange(-15, 15)\n",
        "# Aplicamos la función sigmoide a los valores generados\n",
        "s = sigmoid(z)\n",
        "\n",
        "plt.plot(z.numpy(), s.numpy(), marker='o')\n",
        "plt.title('Sigmoid function')\n",
        "plt.xlabel('z')\n",
        "plt.ylabel('sigmoid(z)')\n",
        "plt.show()"
      ],
      "execution_count": null,
      "outputs": [
        {
          "output_type": "display_data",
          "data": {
            "image/png": "[encoded data removed]",
            "text/plain": [
              "<Figure size 432x288 with 1 Axes>"
            ]
          },
          "metadata": {
            "needs_background": "light"
          }
        }
      ]
    },
    {
      "cell_type": "markdown",
      "metadata": {
        "id": "eJ58jCDyd8KF"
      },
      "source": [
        "### Inicialización de parámetros (1 punto)\n",
        "\n",
        "Un paso importante es la inicialización de parámetros que deberá implementar en la siguiente función:"
      ]
    },
    {
      "cell_type": "code",
      "metadata": {
        "id": "U4rXfivxfhdK"
      },
      "source": [
        "def initialize_params(m):\n",
        "  \"\"\"\n",
        "    Este método crea dos tensores representando los pesos y el bias. \n",
        "    Ambos tensores serán inicializados con ceros. Considerar que los pesos (w)\n",
        "    tienen una dimensión de (m, 1) y el bias tiene una dimensión de (1,)\n",
        "\n",
        "    Este método crea dos tensores representando los pesos y el bias. \n",
        "    Inicializamos los pesos muestreando números aleatorios de una distribución \n",
        "    normal con media 0 y una desviación estándar de 0.01, y el bias con un \n",
        "    valor igual a 0. \n",
        "    \n",
        "    Considerar que los pesos (w) tienen una dimensión de (m, 1) y el bias \n",
        "    tiene una dimensión de (1,)\n",
        "\n",
        "    Args:\n",
        "      - m: tamaño del tensor w que crearemos (número de características)\n",
        "    \n",
        "    Returns:\n",
        "      - w: tensor de dimensión (m, 1)\n",
        "      - b: tensor de dimensión (1,)\n",
        "  \"\"\"\n",
        "  # TODO: Inicializar los pesos 'w' muestreando números aleatorios de una\n",
        "  #       distribución normal com media 0 y desviación estándar 0.01.\n",
        "  #       Puede usar métodos definidos de pytorch\n",
        "  w = torch.normal(0, 0.01, size=(m, 1))\n",
        "\n",
        "  # TODO: Inicializar el bias 'b' con zeros\n",
        "  b = torch.zeros(1)\n",
        "  \n",
        "  # Verificamos la implementación\n",
        "  assert(w.shape == (m, 1))\n",
        "  assert(b.shape == (1,))\n",
        "  assert(torch.is_tensor(w))\n",
        "  assert(torch.is_tensor(b))\n",
        "\n",
        "  return w, b"
      ],
      "execution_count": null,
      "outputs": []
    },
    {
      "cell_type": "code",
      "metadata": {
        "id": "kX1ZNJyIhngj",
        "colab": {
          "base_uri": "https://localhost:8080/"
        },
        "outputId": "bd202fef-7504-4c09-8b32-23e42f9fdc1e"
      },
      "source": [
        "# Probemos la implementación\n",
        "m = 2\n",
        "w, b = initialize_params(m)\n",
        "print (\"w = \" + str(w))\n",
        "print (\"b = \" + str(b))"
      ],
      "execution_count": null,
      "outputs": [
        {
          "output_type": "stream",
          "name": "stdout",
          "text": [
            "w = tensor([[0.0068],\n",
            "        [0.0083]])\n",
            "b = tensor([0.])\n"
          ]
        }
      ]
    },
    {
      "cell_type": "markdown",
      "metadata": {
        "id": "ebRw5tKMyFmM"
      },
      "source": [
        "### Límite de decisión\n",
        "\n",
        "Podemos visualizar el limite de decisión acorde a los parámetros aleatorios:"
      ]
    },
    {
      "cell_type": "code",
      "metadata": {
        "id": "ZrO0TjW-pbim",
        "colab": {
          "base_uri": "https://localhost:8080/",
          "height": 265
        },
        "outputId": "ab392f61-b469-43d8-ec38-90c881c6bba7"
      },
      "source": [
        "def plot_decision_boundary_no_label(X, w, b):\n",
        "  plt.scatter(X[:, 0], X[:, 1], s=5, cmap=cmap_bold)  \n",
        "  x_values = torch.tensor([X[:,0].min(), X[:,0].max() ])\n",
        "  if w[1] > 0:\n",
        "    y_values = -(b + x_values * w[0])/ w[1]\n",
        "  else: \n",
        "    y_values = -(b + x_values * w[0])\n",
        "  plt.plot(x_values, y_values, c='purple')\n",
        "  plt.show()  \n",
        "\n",
        "plot_decision_boundary_no_label(X_train, w, b)"
      ],
      "execution_count": null,
      "outputs": [
        {
          "output_type": "display_data",
          "data": {
            "image/png": "[encoded data removed]",
            "text/plain": [
              "<Figure size 432x288 with 1 Axes>"
            ]
          },
          "metadata": {
            "needs_background": "light"
          }
        }
      ]
    },
    {
      "cell_type": "markdown",
      "metadata": {
        "id": "Sz2V137oycy1"
      },
      "source": [
        "Como podemos observar el limite de decisión inicial no separa ambas clases de forma correcta, esto se debe a que los parámetros poseen valores aleatorios."
      ]
    },
    {
      "cell_type": "markdown",
      "metadata": {
        "id": "a_73SVoWiNCT"
      },
      "source": [
        "### Definición del Modelo (1 punto)\n",
        "\n",
        "A continuación, definiremos el modelo. Al igual que en regresión lineal, la transformación afín ($z$) está dada por el producto de la matriz de las características de entrada $\\mathbf{X}$ y el vector de pesos $\\mathbf{w}$, sumados con el bias $b$. Es decir,\n",
        "\n",
        "$$z = \\mathbf{X} \\mathbf{w} + b,$$\n",
        "\n",
        "como lo mencionado en clase, una interpretación de $z$ es que son distancias al límite de decisión. En regresión logística estamos interesados en predecir probabilidades. Por lo tanto, tenemos que aplicar la función sigmoide a la transformación afín. Como resultado obtendremos las predicciones del modelo:\n",
        "\n",
        "$$\\hat y = \\sigma(z),$$\n",
        "\n",
        "donde $\\sigma$ es la función sigmoide previamente implementada.\n"
      ]
    },
    {
      "cell_type": "code",
      "metadata": {
        "id": "QXzrMFDsniDY"
      },
      "source": [
        "def model(X, w, b):\n",
        "  \"\"\"\n",
        "    Este método realiza la transformación afín entre los datos de entrada\n",
        "    y los parámetros, luego se obtienen probabilidades aplicando la función de \n",
        "    activación sigmoide previamente implementada.\n",
        "\n",
        "    Args:\n",
        "      - X: tensor de dimensión (n, m), donde n es el número de datos y m\n",
        "           es el número de características\n",
        "      - w: tensor de dimensión (m, 1), representando los pesos del modelo\n",
        "      - b: tensor de dimensión (1,), representando el bias del modelo\n",
        "\n",
        "    Returns:\n",
        "      - y_pred: tensor de dimensión (n, 1), representando las predicciones\n",
        "                con valores entre 0 y 1\n",
        "  \"\"\"\n",
        "  # TODO: Implementar la transformación afín\n",
        "  z = torch.matmul(X, w) + b\n",
        "\n",
        "  # TODO: Aplicar la función de activación sigmoide\n",
        "  y_pred = sigmoid(z)\n",
        "\n",
        "  assert(y_pred.shape == (X.shape[0], 1))\n",
        "  return y_pred"
      ],
      "execution_count": null,
      "outputs": []
    },
    {
      "cell_type": "markdown",
      "metadata": {
        "id": "8pxZEZf-pcFR"
      },
      "source": [
        "Podemos probar la implementación, prediciendo valores para la data de entrenamiento:"
      ]
    },
    {
      "cell_type": "code",
      "metadata": {
        "id": "zZNl8MjJpdVL",
        "colab": {
          "base_uri": "https://localhost:8080/"
        },
        "outputId": "18b38924-bf79-4c96-f320-371273db3392"
      },
      "source": [
        "# Probemos si el código se ejecuta de forma correcta\n",
        "y_pred_train = model(X_train, w, b)\n",
        "\n",
        "print('Predicciones iniciales')\n",
        "print(y_pred_train[0:10])"
      ],
      "execution_count": null,
      "outputs": [
        {
          "output_type": "stream",
          "name": "stdout",
          "text": [
            "Predicciones iniciales\n",
            "tensor([[0.4742],\n",
            "        [0.4925],\n",
            "        [0.4582],\n",
            "        [0.4423],\n",
            "        [0.4543],\n",
            "        [0.4524],\n",
            "        [0.4460],\n",
            "        [0.4774],\n",
            "        [0.4840],\n",
            "        [0.4721]])\n"
          ]
        }
      ]
    },
    {
      "cell_type": "markdown",
      "metadata": {
        "id": "WTSQPa2-0tdS"
      },
      "source": [
        "El modelo nos devuelve la predicción actual (probabilidades) dados los parámetros y la data. Los valores deben estar entre 0 y 1."
      ]
    },
    {
      "cell_type": "markdown",
      "metadata": {
        "id": "Neh-6RZx38iD"
      },
      "source": [
        "### Función de Pérdida (1 punto)\n",
        "\n",
        "La función de pérdida usual para clasificación binaria es la *entropía cruzada binaria (binary cross-entropy)* entre los valores predichos, $\\hat y$, y los valores reales, $y$.\n",
        "\n",
        "$$\\mathcal{l}^{(i)}(\\mathbf{w}, b) = - y^{(i)} \\log(\\hat y^{(i)}) - (1 - y^{(i)}) \\log(1 - \\hat y^{(i)}).$$\n",
        "\n",
        "Para medir la calidad de un modelo en todo el conjunto de datos de $n$ ejemplos, simplemente promediamos las pérdidas en el conjunto de entrenamiento\n",
        "\n",
        "$$\\mathcal{L}(\\mathbf{w}, b)= \\frac{1}{n}\\sum_{i=0}^n l^{(i)}(\\mathbf{w}, b) = -\\frac{1}{n} \\sum_{i=0}^n y^{(i)} \\log(\\hat y^{(i)}) + (1 - y^{(i)}) \\log(1 - \\hat y^{(i)}),$$\n",
        "\n",
        "donde $\\hat y^{(i)} = \\sigma (\\mathbf{w}^\\top \\mathbf{x}^{(i)} + b)$ es la predicción del modelo. \n",
        "\n",
        "A continuación implementará la función de pérdida:\n"
      ]
    },
    {
      "cell_type": "code",
      "metadata": {
        "id": "5yZuPpbk7nYA"
      },
      "source": [
        "def log(z, eps=1e-20):\n",
        "  \"\"\"\n",
        "     Logaritmo numéricamente estable\n",
        "  \"\"\"\n",
        "  return torch.log(torch.maximum(z, torch.tensor(eps)))\n",
        "\n",
        "def BCE(y_pred, y_true):\n",
        "  \"\"\"\n",
        "    Este método calcula la función de pérdida de entropía cruzada binaria.\n",
        "\n",
        "    Args:\n",
        "      - y_pred: tensor de dimensión (n, 1), representando probabilidades\n",
        "      - y_true: tensor de dimensión (n, 1), representando los valores reales (0 o 1)\n",
        "\n",
        "    Returns:\n",
        "      - cost: valor flotante representando el promedio de las pérdidas de cada muestra\n",
        "  \"\"\"\n",
        "  #TODO: Usando la formulación anteriormente definida, implemente la función\n",
        "  #      de pérdida. Implementar la versión vectorizada sin usar bucles.\n",
        "  #      * No usar torch.log() directamente, mejor use la función log() \n",
        "  #        definida anteriormente. \n",
        "  cost = -1*(1/y_true.shape[0])*torch.sum(y_true*log(y_pred)+(1-y_true)*log(1-y_pred))\n",
        "  \n",
        "  return cost\n"
      ],
      "execution_count": null,
      "outputs": []
    },
    {
      "cell_type": "code",
      "metadata": {
        "id": "OxdF9vxS9DQ-",
        "colab": {
          "base_uri": "https://localhost:8080/"
        },
        "outputId": "a1ac97f0-900a-4b24-ca5d-0f6ea6213cb6"
      },
      "source": [
        "# Probemos la implementación del método\n",
        "print(\"Error actual: \", BCE(y_pred_train, y_train).item())"
      ],
      "execution_count": null,
      "outputs": [
        {
          "output_type": "stream",
          "name": "stdout",
          "text": [
            "Error actual:  0.6724939346313477\n"
          ]
        }
      ]
    },
    {
      "cell_type": "markdown",
      "metadata": {
        "id": "dhh3FRnx_X2p"
      },
      "source": [
        "### Optimización (3 puntos)\n",
        "\n",
        "Para optimizar el modelo implementará el algoritmo de gradiente descendente. La aplicación más simple de este algoritmo consiste en tomar la derivada de la función de pérdida, que es un promedio de las pérdidas calculadas en cada uno de los ejemplos del conjunto de datos. En la práctica, esto puede ser extremadamente lento: debemos pasar todo el conjunto de datos antes de realizar una sola actualización. Por lo tanto, a menudo nos conformaremos con muestrear un mini lote aleatorio de ejemplos cada vez que necesitemos calcular la actualización de parámetros, una variante llamada *mini-batch gradient descent*. \n",
        "\n",
        "La siguiente figura muestra un ejemplo de como se calculan los gradientes usando mini lotes:\n",
        "\n",
        "<p align=\"center\">\n",
        "<img src=\"https://drive.google.com/uc?export=view&id=1AjhlqZdJq9tm_vCdtL6xwwIqSnH7dla4\" width=\"800px\" />\n",
        "<p/>\n",
        "\n",
        "El primer paso es particionar la data en mini lotes aleatorios, los cuales serán usados de forma independiente para realizar predicciones y calcular la pérdida. El segundo paso es calcular los gradientes de la función de pérdida por lote. Finalmente se realiza la actualización de parámetros usando los gradientes calculados.\n",
        "\n"
      ]
    },
    {
      "cell_type": "markdown",
      "metadata": {
        "id": "YC-_BIkaIBay"
      },
      "source": [
        "#### Particionamiento en mini lotes (1 punto)\n",
        "\n",
        "El primer paso del algoritmo es particionar los datos en mini lotes. Para ello, en cada iteración obtenemos un mini lote, $\\mathcal{B}$, que consta de un número fijo de muestras. En la figura previamente mostrada se usan mini lotes de tamaño tres ($|B|=3$). Tener en cuenta que muchas veces no es posible obtener un lote de tamaño exacto (Lote 4), esto ocurre cuando el número de datos no es divisible por el tamaño del lote ingresado. Asimismo, considerar que para la data de entrenamiento es necesario aleatorizar los datos antes de realizar el particionamiento en lotes, esto es opcional para la data de prueba.\n",
        "\n",
        "A continuación implementará el método que permita particionar la data en lotes dado el tamaño del lote (`batch_size`) y si se desea aleatorizar los datos antes del particionamiento (`shuffle`). Esta última opción es necesaria usarla durante el entrenamiento:\n",
        "\n"
      ]
    },
    {
      "cell_type": "code",
      "metadata": {
        "id": "X4yR-xedMhM1"
      },
      "source": [
        "def data_iter(X, y, batch_size, shuffle=True):\n",
        "  \"\"\"\n",
        "    Este método particiona la data en mini lotes de forma aleatoria acorde al \n",
        "    batch_size. En caso el número de datos, n, no sea divisible por el batch_size,\n",
        "    considerar los datos faltantes como un lote. Por ejemplo: Si n = 11 y \n",
        "    batch_size=3 entonces tenemos tres lotes con 3 muestras y un lote con 2 muestras\n",
        "\n",
        "    Args:\n",
        "      - X: tensor de dimensión (n, m), donde n es el número de datos y m\n",
        "           es el número de características\n",
        "      - y: tensor de dimensión (n, 1), representando los valores reales\n",
        "      - batch_size: tamaño de cada lote\n",
        "      - shuffle: True para que los datos se aleatoricen en cada época\n",
        "\n",
        "    Returns:\n",
        "      - Los lotes actuales mediante 'yield' para usar el método como iterador\n",
        "  \"\"\"\n",
        "  n = X.shape[0]\n",
        "  \n",
        "  if shuffle:\n",
        "    # TODO: Crear una lista de índices aleatorios de los datos. Puede usar torch.randperm\n",
        "    indices = torch.randperm(n)\n",
        "  else:\n",
        "    indices = range(n)\n",
        "\n",
        "  # Iteramos sobre los datos considerando el tamaño de cada lote (batch_size)\n",
        "  for i in range(0, n, batch_size):\n",
        "    \n",
        "    # TODO: Obtenga los índices del lote actual. El tamaño de cada lote debe \n",
        "    #       ser igual a batch_size con excepción del último lote que\n",
        "    #       puede ser <= batch_size\n",
        "    batch_indices = indices[i:i+batch_size if i+batch_size <=n else n]\n",
        "    \n",
        "    # TODO: Obtenga el lote de los datos y etiquetas usando los índices\n",
        "    #       previamente seleccionados\n",
        "    X_batch, y_batch = X[batch_indices,:],y[batch_indices,:]\n",
        "\n",
        "    # Retornamos los lotes actuales con yield para usar el método como iterador\n",
        "    yield X_batch, y_batch"
      ],
      "execution_count": null,
      "outputs": []
    },
    {
      "cell_type": "markdown",
      "metadata": {
        "id": "NwpOIVifMmBr"
      },
      "source": [
        "Probaremos la implementación mostrando el tamaño de cada lote:"
      ]
    },
    {
      "cell_type": "code",
      "metadata": {
        "id": "USiYGTuVMmLh",
        "colab": {
          "base_uri": "https://localhost:8080/"
        },
        "outputId": "f64da6f3-ce68-484b-e38b-d577b4c28684"
      },
      "source": [
        "# Tamaño de cada lote\n",
        "batch_size = 32\n",
        "\n",
        "# Número total de muestras\n",
        "total_samples = 0\n",
        "\n",
        "# Iteramos sobre todos los datos y mostramos el tamaño de cada lote\n",
        "for i, (X_batch, y_batch) in enumerate(data_iter(X_train, y_train, batch_size), 1):\n",
        "  total_samples += X_batch.shape[0]\n",
        "  print(f'Lote {i} tiene tamaño {X_batch.shape[0]}')\n",
        "\n",
        "if total_samples == X_train.shape[0]:\n",
        "  print(':) El número total de muestras por lotes es correcto.')\n",
        "else:\n",
        "  print(':( El número total de muestras por lotes difiere del total de muestras.')"
      ],
      "execution_count": null,
      "outputs": [
        {
          "output_type": "stream",
          "name": "stdout",
          "text": [
            "Lote 1 tiene tamaño 32\n",
            "Lote 2 tiene tamaño 32\n",
            "Lote 3 tiene tamaño 32\n",
            "Lote 4 tiene tamaño 32\n",
            "Lote 5 tiene tamaño 32\n",
            "Lote 6 tiene tamaño 32\n",
            "Lote 7 tiene tamaño 32\n",
            "Lote 8 tiene tamaño 32\n",
            "Lote 9 tiene tamaño 32\n",
            "Lote 10 tiene tamaño 32\n",
            "Lote 11 tiene tamaño 32\n",
            "Lote 12 tiene tamaño 32\n",
            "Lote 13 tiene tamaño 32\n",
            "Lote 14 tiene tamaño 32\n",
            "Lote 15 tiene tamaño 32\n",
            "Lote 16 tiene tamaño 32\n",
            "Lote 17 tiene tamaño 32\n",
            "Lote 18 tiene tamaño 32\n",
            "Lote 19 tiene tamaño 24\n",
            ":) El número total de muestras por lotes es correcto.\n"
          ]
        }
      ]
    },
    {
      "cell_type": "markdown",
      "metadata": {
        "id": "uJsuAaE1N0Kd"
      },
      "source": [
        "#### Gradiente de la función de pérdida (1 punto)\n",
        "\n",
        "El siguiente paso es calcular el gradiente de la función de pérdida con respecto a los parámetros del modelo. El gradiente de la entropía cruzada binaria (BCE) con respecto a los pesos, está dado por lo siguiente:\n",
        "\n",
        "$$ \\nabla_{\\mathbf{w}} \\mathcal{L}(\\mathbf{w},b) = \\frac{1}{n} \\mathbf X^\\top (\\hat y - y),$$\n",
        "\n",
        "donde $\\hat y = \\sigma( \\mathbf{Xw} + b)$. El gradiente con respecto al bias, está dado por lo siguiente:\n",
        "\n",
        "$$ \\nabla_{b} \\mathcal{L}(\\mathbf{w},b) = \\frac{1}{n} \\mathbf 1^\\top (\\hat y - y),$$\n",
        "\n",
        "donde $ \\mathbf{1}$ es una matriz columna de unos, creada a partir del gradiente con respecto al bias el cual es igual a $1$ para todas las muestras. Recuerde que esta multiplicación por la matriz columna de unos se puede reducir a una sumatoria. A continuación, deberá de implementar el método que retorna los gradientes dado un conjunto datos y los parámetros del modelo:"
      ]
    },
    {
      "cell_type": "code",
      "metadata": {
        "id": "yJam53luOHbU"
      },
      "source": [
        "def gradient(X, y_pred, y_true):\n",
        "  \"\"\"\n",
        "    Este método calcula el gradiente de la función de pérdida BCE.\n",
        "\n",
        "    Args:\n",
        "      - X: tensor de dimensión (n, m), donde n es el número de datos y m\n",
        "           es el número de características\n",
        "      - y_pred: tensor de dimensión (n, 1), representando probabilidades\n",
        "      - y_true: tensor de dimensión (n, 1), representando los valores reales\n",
        "\n",
        "    Returns:\n",
        "      - w_grad: tensor de dimensión (m, 1), representando los gradientes de los pesos\n",
        "      - b_grad: tensor de dimensión (1,), representando los gradientes del bias\n",
        "  \"\"\"\n",
        "\n",
        "  # Nos aseguramos de que y_true tenga las mismas dimensiones que y_pred\n",
        "  n = X.shape[0]\n",
        "\n",
        "  # TODO: Implemente el gradiente con respecto a los pesos y el bias siguiendo\n",
        "  # las formulaciones brindadas anteriormente\n",
        "  w_grad = 1/n*torch.matmul(torch.t(X),y_pred-y_true)\n",
        "  b_grad = (1/n)*torch.matmul(torch.t(torch.ones_like(X)),y_pred-y_true)\n",
        "  b_grad = (1/n)*torch.sum(y_pred-y_true,dim=0)\n",
        "\n",
        "  #print(b_grad)\n",
        "  #print(b_grad.shape)\n",
        "\n",
        "  # Verificamos dimensiones de resultados\n",
        "  assert(w_grad.shape == (X.shape[1], 1))\n",
        "  assert(b_grad.shape == (1,))\n",
        "\n",
        "  return w_grad, b_grad "
      ],
      "execution_count": null,
      "outputs": []
    },
    {
      "cell_type": "code",
      "metadata": {
        "id": "NDM_nBt_OK7X",
        "colab": {
          "base_uri": "https://localhost:8080/"
        },
        "outputId": "333b1622-6c77-4c70-9502-bbe87bced94a"
      },
      "source": [
        "# Probemos la funcionalidad del método\n",
        "w_grad, b_grad = gradient(X_train, y_pred_train, y_train)\n",
        "\n",
        "print(\"Gradiente de w: \", w_grad)\n",
        "print(\"Gradiente de b: \", b_grad)"
      ],
      "execution_count": null,
      "outputs": [
        {
          "output_type": "stream",
          "name": "stdout",
          "text": [
            "Gradiente de w:  tensor([[ 1.0353],\n",
            "        [-2.9797]])\n",
            "Gradiente de b:  tensor([-0.0452])\n"
          ]
        }
      ]
    },
    {
      "cell_type": "markdown",
      "metadata": {
        "id": "M26viSqbOTBb"
      },
      "source": [
        "#### Actualización de parámetros (1 punto)\n",
        "\n",
        "El último paso es actualizar los parámetros usando los gradientes por cada mini lote. Para ello, cada gradiente lo multiplicamos por la tasa de aprendizaje $\\eta$ y restamos el término resultante de los valores de los parámetros actuales. Podemos expresar la actualización de un mini lote matemáticamente de la siguiente manera ($\\nabla$ denota el gradiente):\n",
        "\n",
        "$$(\\mathbf{w},b) \\leftarrow (\\mathbf{w},b) - \\frac{\\eta}{|\\mathcal{B}|} \\sum_{i \\in \\mathcal{B}} \\nabla_{(\\mathbf{w},b)} l^{(i)}(\\mathbf{w},b).$$\n",
        "\n",
        "A diferencia de la implementación full-batch (visto en el notebook de regresión lineal), podemos ver que en esta versión dividimos por el tamaño del lote $|\\mathcal{B}|$, ya que consideramos un subconjunto de muestras en lugar de todo el conjunto de datos."
      ]
    },
    {
      "cell_type": "code",
      "metadata": {
        "id": "0QLfaKv-OpSL"
      },
      "source": [
        "def gradient_descent_step(w, b, w_grad, b_grad, learning_rate):#, batch_size):\n",
        "  \"\"\"\n",
        "    Este método calcula un paso de gradiente descendente\n",
        "\n",
        "    Args:\n",
        "      - w: tensor de dimensión (m, 1), representando los pesos del modelo\n",
        "      - b: tensor de dimensión (1,), representando el bias del modelo\n",
        "      - w_grad: tensor de dimensión (m, 1), representando los gradientes de los pesos\n",
        "      - b_grad: tensor de dimensión (1,), representando los gradientes del bias\n",
        "      - learning_rate: constante representando la tasa de aprendizaje\n",
        "\n",
        "    Returns:\n",
        "      No retornamos nada, pero actualizamos los parámetros w y b por referencia  \n",
        "  \"\"\"\n",
        "  # TODO: Actualice los pesos usando gradiente descendente\n",
        "  w -= learning_rate*w_grad#/batch_size\n",
        "\n",
        "  # TODO: Actualice el bias usando gradiente descendente\n",
        "  b -= learning_rate*b_grad#/batch_size"
      ],
      "execution_count": null,
      "outputs": []
    },
    {
      "cell_type": "markdown",
      "metadata": {
        "id": "3Pf0VkYzPXIo"
      },
      "source": [
        "Verifiquemos si la implementación actualiza los parámetros:"
      ]
    },
    {
      "cell_type": "code",
      "metadata": {
        "id": "yvUd2D7FPXQx",
        "colab": {
          "base_uri": "https://localhost:8080/"
        },
        "outputId": "b7a5b693-c886-4763-d103-fa2e8130bd76"
      },
      "source": [
        "# Creamos parámetros temporales para probar la implementación\n",
        "w, b = initialize_params(m)\n",
        "\n",
        "# Realizamos un paso de gradiente descendente\n",
        "gradient_descent_step(w, b, w_grad, b_grad, 0.1)#, 32)\n",
        "\n",
        "# Mostramos los parámetros actualizados\n",
        "print (\"w = \" + str(w))\n",
        "print (\"b = \" + str(b))"
      ],
      "execution_count": null,
      "outputs": [
        {
          "output_type": "stream",
          "name": "stdout",
          "text": [
            "w = tensor([[-0.1047],\n",
            "        [ 0.3088]])\n",
            "b = tensor([0.0045])\n"
          ]
        }
      ]
    },
    {
      "cell_type": "markdown",
      "metadata": {
        "id": "lZCQVHgsPjuC"
      },
      "source": [
        "Los parámetros actualizados deben ser diferentes de cero."
      ]
    },
    {
      "cell_type": "markdown",
      "metadata": {
        "id": "OaKQveLt6N0i"
      },
      "source": [
        "### Entrenamiento (3 puntos)\n",
        "\n",
        "En las secciones anteriores se han implementado diferentes métodos que se usarán durante el entrenamiento. Recordar que el entrenamiento se realiza durante un número específico de épocas. En cada época iteramos sobre todo el conjunto de datos y realizamos el entrenamiento. Una fase adicional e importante es la validación del modelo que se realiza una vez terminado el entrenamiento por época. En términos generales, el algoritmo está dado por lo siguiente:\n",
        "\n",
        "* Inicializar los parámetros $(\\mathbf{w}, b)$\n",
        "* Iterar por un determinado número de épocas. Para cada época:\n",
        "    * Entrenar el modelo usando la data de entrenamiento\n",
        "    * Validar el modelo usando la data de validación\n",
        "\n",
        "A continuación, se implementarán métodos para el entrenamiento y validación por época y luego usaremos estas funciones en un método de entrenamiento principal."
      ]
    },
    {
      "cell_type": "markdown",
      "metadata": {
        "id": "q183FDTkr9MK"
      },
      "source": [
        "#### Fase de Entrenamiento (1 punto)\n",
        " \n",
        "Durante esta fase se usará la data de entrenamiento `(X_train, y_train)`. En esta fase **actualizamos los parámetros del modelo** mediante gradiente descendente usando mini lotes. El algoritmo es el siguiente:\n",
        "\n",
        "* Iterar sobre el conjunto de datos usando mini lotes. Para cada mini lote ($\\mathbf{X}, y$):\n",
        "\n",
        "  * Predecir probabilidades $\\hat y \\leftarrow \\sigma(\\mathbf{X}\\mathbf{w} + b)$\n",
        "  * Calcular el gradiente $\\mathbf{g} \\leftarrow \\nabla_{(\\mathbf{w},b)} \\frac{1}{|\\mathcal{B}|} \\sum_{i \\in \\mathcal{B}} l(\\hat{y}^{(i)}, y^{(i)}, \\mathbf{w}, b)$\n",
        "  * Actualizar los parámetros $(\\mathbf{w}, b) \\leftarrow (\\mathbf{w}, b) - \\eta \\mathbf{g}$\n",
        "\n",
        "A continuación, se definirá un método para realizar las operaciones de entrenamiento:"
      ]
    },
    {
      "cell_type": "code",
      "metadata": {
        "id": "x_G3N102u2Mv"
      },
      "source": [
        "def train_step(X_train, y_train, w, b, learning_rate, batch_size):\n",
        "  \"\"\"\n",
        "    Este método realiza la fase de entrenamiento usando la data de entrenamiento \n",
        "    (X_train, y_train) la que usaremos para actualizar los parámetros del modelo.\n",
        "\n",
        "    Args:\n",
        "      - X_train: tensor de dimensión (n, m), donde n es el número de \n",
        "            datos de entrenamiento y m es el número de características\n",
        "      - y_train: tensor de dimensión (n, 1), representando las etiquetas\n",
        "            reales de la data de entrenamiento \n",
        "      - w: tensor de dimensión (m, 1), representando los pesos del modelo\n",
        "      - b: tensor de dimensión (1,), representando el bias del modelo\n",
        "      - learning_rate: tasa de aprendizaje\n",
        "      - batch_size: tamaño de cada lote\n",
        "\n",
        "    Returns:\n",
        "      - train_loss: pérdida total de la data de entrenamiento\n",
        "  \"\"\"\n",
        "  n, m = X_train.shape\n",
        "  \n",
        "  # Pérdida de entrenamiento total\n",
        "  train_loss = 0.\n",
        "\n",
        "  # Iteramos sobre todos los datos de entrenamiento usando mini lotes\n",
        "  for X, y in data_iter(X_train, y_train, batch_size):\n",
        "\n",
        "    # TODO: Obtener probabilidades del lote actual a partir del modelo\n",
        "    y_pred = model(X,w,b)\n",
        "\n",
        "    # TODO: Calcular la pérdida usando el método BCE\n",
        "    loss = BCE(y_pred,y)\n",
        "\n",
        "    # TODO: Calcular los gradientes de la función de pérdida usando el lote de\n",
        "    #       entrenamiento (X, y) y sus predicciones\n",
        "    w_grad, b_grad = gradient(X,y_pred,y)\n",
        "\n",
        "    # TODO: Actualizar los parámetros con gradiente descendente\n",
        "    gradient_descent_step(w, b, w_grad, b_grad, learning_rate)\n",
        "\n",
        "    # Acumulamos pérdida\n",
        "    train_loss += loss.item() * X.shape[0]\n",
        "\n",
        "  # Pérdida promedio\n",
        "  train_loss /= n\n",
        "\n",
        "  return train_loss"
      ],
      "execution_count": null,
      "outputs": []
    },
    {
      "cell_type": "code",
      "metadata": {
        "id": "Nd73e8OlwzzL",
        "colab": {
          "base_uri": "https://localhost:8080/"
        },
        "outputId": "8dfe98ea-9fe6-44e1-90c8-45750be1e681"
      },
      "source": [
        "# Probemos la implementación\n",
        "m = 2\n",
        "w, b = initialize_params(m)\n",
        "print(f'Error de entrenamiento: {train_step(X_train, y_train, w, b, 0.001, 32):.8f}')"
      ],
      "execution_count": null,
      "outputs": [
        {
          "output_type": "stream",
          "name": "stdout",
          "text": [
            "Error de entrenamiento: 0.67249684\n"
          ]
        }
      ]
    },
    {
      "cell_type": "markdown",
      "metadata": {
        "id": "wAUoN5yf6dKJ"
      },
      "source": [
        "Se espera un error de entrenamiento mayor a $0.5$ y menor a $0.7$."
      ]
    },
    {
      "cell_type": "markdown",
      "metadata": {
        "id": "4_rbN9bF6uvI"
      },
      "source": [
        "#### Fase de Validación (1 punto)\n",
        "\n",
        "Siempre es importante validar el modelo para saber si está generalizando correctamente, es por ello que usaremos la data de validación `(X_val, y_val)`. La validación se llevará a cabo en cada época, luego de la fase de entrenamiento. Recuerde que en la fase de validación **no actualizamos los parámetros**, por lo tanto, no calculamos gradientes y no usamos gradiente descendente. El algoritmo es el siguiente:\n",
        "\n",
        "* Iterar sobre el conjunto de datos usando mini lotes. Para cada mini lote ($\\mathbf{X}, y$):\n",
        "\n",
        "  * Predecir probabilidades $\\hat y = \\sigma(\\mathbf{X}\\mathbf{w} + b)$\n",
        "  * Calcular el error $\\frac{1}{|\\mathcal{B}|} \\sum_{i \\in \\mathcal{B}} l(\\hat{y}^{(i)}, y^{(i)}, \\mathbf{w}, b)$\n",
        "  \n",
        "A continuación, se definirá un método para realizar las operaciones de validación:"
      ]
    },
    {
      "cell_type": "code",
      "metadata": {
        "id": "PsRFIdBOC1FH"
      },
      "source": [
        "def validation_step(X_val, y_val, w, b, batch_size):\n",
        "  \"\"\"\n",
        "    Este método realiza la fase de validación usando la data de validación \n",
        "    (X_val, y_val) y los parámetros del modelo entrenado.\n",
        "\n",
        "    Args:\n",
        "      - X_val: tensor de dimensión (n_val, m), donde n_val es el número de \n",
        "            datos de validación y m es el número de características\n",
        "      - y_val: tensor de dimensión (n_val, 1), representando las etiquetas\n",
        "            reales de la data de validación \n",
        "      - w: tensor de dimensión (m, 1), representando los pesos del modelo\n",
        "      - b: tensor de dimensión (1,), representando el bias del modelo\n",
        "      - batch_size: tamaño de cada lote\n",
        "\n",
        "    Returns:\n",
        "      - val_loss: pérdida de toda la data de validación\n",
        "  \"\"\"\n",
        "  n_val, m = X_val.shape\n",
        "  \n",
        "  # Pérdida de validación total\n",
        "  val_loss = 0.\n",
        "\n",
        "  # Debido a que en la fase de validación no actualizamos los parámetros\n",
        "  # no es necesario usar los gradientes\n",
        "  with torch.no_grad():\n",
        "\n",
        "    # Iteramos sobre todos los datos de validación usando mini lotes\n",
        "    # No es necesario aleatorizar la data de validación\n",
        "    for X, y in data_iter(X_val, y_val, batch_size, False):\n",
        "\n",
        "      # TODO: Obtener probabilidades del lote actual a partir del modelo\n",
        "      y_pred = model(X,w,b)\n",
        "\n",
        "      # TODO: Calcular la pérdida usando el método BCE \n",
        "      loss = BCE(y_pred,y)\n",
        "      \n",
        "      # Acumulamos pérdida\n",
        "      val_loss += loss.item() * X.shape[0]\n",
        "\n",
        "  # Pérdida promedio\n",
        "  val_loss /= n_val\n",
        "\n",
        "  return val_loss"
      ],
      "execution_count": null,
      "outputs": []
    },
    {
      "cell_type": "code",
      "metadata": {
        "id": "NKXF0qCbE-MV",
        "colab": {
          "base_uri": "https://localhost:8080/"
        },
        "outputId": "d34d0911-3fe9-41bb-e3e5-6a69b1d20f04"
      },
      "source": [
        "# Probemos la implementación\n",
        "print(f'Error de validación: {validation_step(X_val, y_val, w, b, 32):.8f}')"
      ],
      "execution_count": null,
      "outputs": [
        {
          "output_type": "stream",
          "name": "stdout",
          "text": [
            "Error de validación: 0.57277378\n"
          ]
        }
      ]
    },
    {
      "cell_type": "markdown",
      "metadata": {
        "id": "Pm4Pp4_-G-6L"
      },
      "source": [
        "#### Fase Principal (1 punto)\n",
        "\n",
        "Ahora que tenemos todas las partes en su lugar, estamos listos para implementar el algoritmo de entrenamiento principal. Recordemos que el algoritmo está dado por lo siguiente:\n",
        "\n",
        "* Inicializar los parámetros $(\\mathbf{w}, b)$\n",
        "* Iterar por un determinado número de épocas. Para cada época:\n",
        "    * Entrenar el modelo usando la data de entrenamiento\n",
        "    * Validar el modelo usando la data de validación\n",
        "\n",
        "En cada *época*, iteraremos a través de todo el conjunto de datos usando mini lotes. El número de épocas, `num_epochs`, la tasa de aprendizaje, `lr`, y el tamaño del lote, `batch_size`, son hiperparámetros que debemos definir previos al entrenamiento. Desafortunadamente, definir los valores de los hiperparámetros es complicado y requiere algunos ajustes por prueba y error. "
      ]
    },
    {
      "cell_type": "code",
      "metadata": {
        "id": "jebmLiHo-uVG"
      },
      "source": [
        "def train_model(X_train, y_train, X_val, y_val, num_epochs, learning_rate, batch_size):\n",
        "  \"\"\"\n",
        "    Este método realiza el entrenamiento del modelo usando (X_train, y_train), y\n",
        "    valida los resultados con (X_val, y_val).\n",
        "\n",
        "    Args:\n",
        "      - X_train: tensor de dimensión (n, m), donde n es el número de \n",
        "            datos de entrenamiento y m es el número de características\n",
        "      - y_train: tensor de dimensión (n, 1), representando las etiquetas\n",
        "            reales de la data de entrenamiento     \n",
        "      - X_val: tensor de dimensión (n_val, m), donde n_val es el número de \n",
        "            datos de validación y m es el número de características\n",
        "      - y_val: tensor de dimensión (n_val, 1), representando las etiquetas\n",
        "            reales de la data de validación \n",
        "      - num_epochs: número de épocas\n",
        "      - learning_rate: tasa de aprendizaje\n",
        "      - batch_size: tamaño de cada lote\n",
        "\n",
        "    Returns:\n",
        "      - w: tensor de dimensión (m, 1), representando los pesos actualizados\n",
        "      - b: tensor de dimensión (1,), representando el bias actualizado\n",
        "  \"\"\"\n",
        "  n, m = X_train.shape\n",
        "\n",
        "  # TODO: Inicializar los los parámetros del modelo\n",
        "  w, b = initialize_params(m)\n",
        "\n",
        "  # TODO: Iterar sobre el número de épocas especificado\n",
        "  for epoch in range(num_epochs):\n",
        "    # Fase de Entrenamiento\n",
        "    # TODO: Usar el método antes implementado para realizar el entrenamiento\n",
        "    train_loss = train_step(X_train, y_train, w, b, learning_rate, batch_size)\n",
        "\n",
        "    # Fase de Validación\n",
        "    # TODO: Usar el método antes implementado para realizar la validación    \n",
        "    val_loss = validation_step(X_val, y_val, w, b, batch_size)\n",
        "\n",
        "    # Imprimimos los errores de entrenamiento y validación\n",
        "    print(f'Epoch ({epoch+1}/{num_epochs}): train_loss = {train_loss:.8f}, val_loss= {val_loss:.8f}')\n",
        "\n",
        "  return w, b  "
      ],
      "execution_count": null,
      "outputs": []
    },
    {
      "cell_type": "markdown",
      "metadata": {
        "id": "-B0Hv20iBMkb"
      },
      "source": [
        "Ahora probaremos la implementación. Puede probar otros valores en los hiperparámetros que mejoren los resultados:"
      ]
    },
    {
      "cell_type": "code",
      "metadata": {
        "id": "POxxBXQWA4vV",
        "colab": {
          "base_uri": "https://localhost:8080/"
        },
        "outputId": "9c46d707-208e-4e85-a661-0f97b46f7aac"
      },
      "source": [
        "# Hiperparámetros\n",
        "num_epochs = 500\n",
        "learning_rate = 0.1\n",
        "batch_size = 32\n",
        "\n",
        "# Realizamos el entrenamiento\n",
        "w, b = train_model(X_train, y_train, X_val, y_val, num_epochs, learning_rate, batch_size)"
      ],
      "execution_count": null,
      "outputs": [
        {
          "output_type": "stream",
          "name": "stdout",
          "text": [
            "Epoch (1/500): train_loss = 0.18186839, val_loss= 0.10088057\n",
            "Epoch (2/500): train_loss = 0.10399512, val_loss= 0.06810453\n",
            "Epoch (3/500): train_loss = 0.08495912, val_loss= 0.07068280\n",
            "Epoch (4/500): train_loss = 0.07800312, val_loss= 0.05591370\n",
            "Epoch (5/500): train_loss = 0.07600862, val_loss= 0.04919173\n",
            "Epoch (6/500): train_loss = 0.07079547, val_loss= 0.04978632\n",
            "Epoch (7/500): train_loss = 0.07123866, val_loss= 0.05145899\n",
            "Epoch (8/500): train_loss = 0.06473291, val_loss= 0.04594831\n",
            "Epoch (9/500): train_loss = 0.06621920, val_loss= 0.04356080\n",
            "Epoch (10/500): train_loss = 0.06749361, val_loss= 0.05129819\n",
            "Epoch (11/500): train_loss = 0.06155810, val_loss= 0.04114991\n",
            "Epoch (12/500): train_loss = 0.06899585, val_loss= 0.03962775\n",
            "Epoch (13/500): train_loss = 0.06398158, val_loss= 0.03792581\n",
            "Epoch (14/500): train_loss = 0.06409724, val_loss= 0.03744528\n",
            "Epoch (15/500): train_loss = 0.06239735, val_loss= 0.03891751\n",
            "Epoch (16/500): train_loss = 0.06057997, val_loss= 0.03566579\n",
            "Epoch (17/500): train_loss = 0.06281780, val_loss= 0.03653739\n",
            "Epoch (18/500): train_loss = 0.05939976, val_loss= 0.03462358\n",
            "Epoch (19/500): train_loss = 0.05892311, val_loss= 0.03403783\n",
            "Epoch (20/500): train_loss = 0.05930744, val_loss= 0.03403041\n",
            "Epoch (21/500): train_loss = 0.06039425, val_loss= 0.03305332\n",
            "Epoch (22/500): train_loss = 0.05897886, val_loss= 0.03275597\n",
            "Epoch (23/500): train_loss = 0.06030170, val_loss= 0.03241744\n",
            "Epoch (24/500): train_loss = 0.05963004, val_loss= 0.03197567\n",
            "Epoch (25/500): train_loss = 0.05546125, val_loss= 0.03593806\n",
            "Epoch (26/500): train_loss = 0.05668444, val_loss= 0.03143017\n",
            "Epoch (27/500): train_loss = 0.05455573, val_loss= 0.03081171\n",
            "Epoch (28/500): train_loss = 0.05777318, val_loss= 0.03047563\n",
            "Epoch (29/500): train_loss = 0.05492123, val_loss= 0.03367645\n",
            "Epoch (30/500): train_loss = 0.05321315, val_loss= 0.03220572\n",
            "Epoch (31/500): train_loss = 0.05422215, val_loss= 0.02970725\n",
            "Epoch (32/500): train_loss = 0.05555047, val_loss= 0.03683624\n",
            "Epoch (33/500): train_loss = 0.05329164, val_loss= 0.03261333\n",
            "Epoch (34/500): train_loss = 0.05420404, val_loss= 0.02867075\n",
            "Epoch (35/500): train_loss = 0.05250722, val_loss= 0.02853033\n",
            "Epoch (36/500): train_loss = 0.05674400, val_loss= 0.03177422\n",
            "Epoch (37/500): train_loss = 0.05286875, val_loss= 0.02861055\n",
            "Epoch (38/500): train_loss = 0.05356240, val_loss= 0.02770401\n",
            "Epoch (39/500): train_loss = 0.05227145, val_loss= 0.03174495\n",
            "Epoch (40/500): train_loss = 0.05144532, val_loss= 0.02781801\n",
            "Epoch (41/500): train_loss = 0.04982070, val_loss= 0.02764811\n",
            "Epoch (42/500): train_loss = 0.05227061, val_loss= 0.02681406\n",
            "Epoch (43/500): train_loss = 0.04871073, val_loss= 0.02715609\n",
            "Epoch (44/500): train_loss = 0.04785167, val_loss= 0.02854532\n",
            "Epoch (45/500): train_loss = 0.05134173, val_loss= 0.02674195\n",
            "Epoch (46/500): train_loss = 0.04729547, val_loss= 0.02665625\n",
            "Epoch (47/500): train_loss = 0.04880077, val_loss= 0.02570895\n",
            "Epoch (48/500): train_loss = 0.04741543, val_loss= 0.02556658\n",
            "Epoch (49/500): train_loss = 0.04602826, val_loss= 0.02650632\n",
            "Epoch (50/500): train_loss = 0.04485066, val_loss= 0.02653977\n",
            "Epoch (51/500): train_loss = 0.04927089, val_loss= 0.02494880\n",
            "Epoch (52/500): train_loss = 0.04405502, val_loss= 0.02832074\n",
            "Epoch (53/500): train_loss = 0.04516307, val_loss= 0.02413339\n",
            "Epoch (54/500): train_loss = 0.04495346, val_loss= 0.02979908\n",
            "Epoch (55/500): train_loss = 0.04661385, val_loss= 0.03468308\n",
            "Epoch (56/500): train_loss = 0.04785143, val_loss= 0.02629272\n",
            "Epoch (57/500): train_loss = 0.04456171, val_loss= 0.02399581\n",
            "Epoch (58/500): train_loss = 0.04428706, val_loss= 0.02471570\n",
            "Epoch (59/500): train_loss = 0.04297687, val_loss= 0.02536058\n",
            "Epoch (60/500): train_loss = 0.04451673, val_loss= 0.02322463\n",
            "Epoch (61/500): train_loss = 0.04488072, val_loss= 0.02281440\n",
            "Epoch (62/500): train_loss = 0.04253944, val_loss= 0.02427975\n",
            "Epoch (63/500): train_loss = 0.04461702, val_loss= 0.02296962\n",
            "Epoch (64/500): train_loss = 0.04260438, val_loss= 0.02292743\n",
            "Epoch (65/500): train_loss = 0.04168634, val_loss= 0.02728509\n",
            "Epoch (66/500): train_loss = 0.04457365, val_loss= 0.02190220\n",
            "Epoch (67/500): train_loss = 0.04158218, val_loss= 0.02175274\n",
            "Epoch (68/500): train_loss = 0.04140297, val_loss= 0.02228282\n",
            "Epoch (69/500): train_loss = 0.04124812, val_loss= 0.02227688\n",
            "Epoch (70/500): train_loss = 0.04194454, val_loss= 0.02408300\n",
            "Epoch (71/500): train_loss = 0.04032651, val_loss= 0.02148619\n",
            "Epoch (72/500): train_loss = 0.03962561, val_loss= 0.02243854\n",
            "Epoch (73/500): train_loss = 0.04061234, val_loss= 0.02129285\n",
            "Epoch (74/500): train_loss = 0.03939951, val_loss= 0.02082224\n",
            "Epoch (75/500): train_loss = 0.04157742, val_loss= 0.02107596\n",
            "Epoch (76/500): train_loss = 0.04045940, val_loss= 0.02051046\n",
            "Epoch (77/500): train_loss = 0.03914410, val_loss= 0.02021998\n",
            "Epoch (78/500): train_loss = 0.04057598, val_loss= 0.02018368\n",
            "Epoch (79/500): train_loss = 0.03966915, val_loss= 0.02340656\n",
            "Epoch (80/500): train_loss = 0.04084271, val_loss= 0.01992008\n",
            "Epoch (81/500): train_loss = 0.03856721, val_loss= 0.01971891\n",
            "Epoch (82/500): train_loss = 0.03881178, val_loss= 0.02063299\n",
            "Epoch (83/500): train_loss = 0.03773624, val_loss= 0.01995106\n",
            "Epoch (84/500): train_loss = 0.03815258, val_loss= 0.01969630\n",
            "Epoch (85/500): train_loss = 0.03770707, val_loss= 0.01954726\n",
            "Epoch (86/500): train_loss = 0.03902873, val_loss= 0.01932062\n",
            "Epoch (87/500): train_loss = 0.03692591, val_loss= 0.01953964\n",
            "Epoch (88/500): train_loss = 0.03767548, val_loss= 0.01878590\n",
            "Epoch (89/500): train_loss = 0.03560805, val_loss= 0.02133338\n",
            "Epoch (90/500): train_loss = 0.03695908, val_loss= 0.02079394\n",
            "Epoch (91/500): train_loss = 0.03578191, val_loss= 0.01943430\n",
            "Epoch (92/500): train_loss = 0.03503509, val_loss= 0.01851791\n",
            "Epoch (93/500): train_loss = 0.03657506, val_loss= 0.01826035\n",
            "Epoch (94/500): train_loss = 0.03554012, val_loss= 0.01870162\n",
            "Epoch (95/500): train_loss = 0.03297864, val_loss= 0.01822963\n",
            "Epoch (96/500): train_loss = 0.03637071, val_loss= 0.01788959\n",
            "Epoch (97/500): train_loss = 0.03581717, val_loss= 0.01766479\n",
            "Epoch (98/500): train_loss = 0.03575837, val_loss= 0.01756761\n",
            "Epoch (99/500): train_loss = 0.03387261, val_loss= 0.02012865\n",
            "Epoch (100/500): train_loss = 0.03480444, val_loss= 0.01767605\n",
            "Epoch (101/500): train_loss = 0.03403193, val_loss= 0.01738427\n",
            "Epoch (102/500): train_loss = 0.03664605, val_loss= 0.01804566\n",
            "Epoch (103/500): train_loss = 0.03548473, val_loss= 0.01707807\n",
            "Epoch (104/500): train_loss = 0.03383684, val_loss= 0.01693959\n",
            "Epoch (105/500): train_loss = 0.03344917, val_loss= 0.01756003\n",
            "Epoch (106/500): train_loss = 0.03402592, val_loss= 0.01694595\n",
            "Epoch (107/500): train_loss = 0.03240358, val_loss= 0.01671294\n",
            "Epoch (108/500): train_loss = 0.03249257, val_loss= 0.01698386\n",
            "Epoch (109/500): train_loss = 0.03205782, val_loss= 0.01676490\n",
            "Epoch (110/500): train_loss = 0.03294015, val_loss= 0.01847853\n",
            "Epoch (111/500): train_loss = 0.03299596, val_loss= 0.01628030\n",
            "Epoch (112/500): train_loss = 0.03180857, val_loss= 0.01635051\n",
            "Epoch (113/500): train_loss = 0.03172175, val_loss= 0.01599685\n",
            "Epoch (114/500): train_loss = 0.03214739, val_loss= 0.01672018\n",
            "Epoch (115/500): train_loss = 0.03153096, val_loss= 0.01583550\n",
            "Epoch (116/500): train_loss = 0.03113072, val_loss= 0.01581235\n",
            "Epoch (117/500): train_loss = 0.03024706, val_loss= 0.01630589\n",
            "Epoch (118/500): train_loss = 0.03056776, val_loss= 0.01582189\n",
            "Epoch (119/500): train_loss = 0.03041721, val_loss= 0.01719733\n",
            "Epoch (120/500): train_loss = 0.02996013, val_loss= 0.01582620\n",
            "Epoch (121/500): train_loss = 0.03036093, val_loss= 0.01592549\n",
            "Epoch (122/500): train_loss = 0.03081418, val_loss= 0.01513902\n",
            "Epoch (123/500): train_loss = 0.03101014, val_loss= 0.01510059\n",
            "Epoch (124/500): train_loss = 0.02864357, val_loss= 0.01705662\n",
            "Epoch (125/500): train_loss = 0.02980949, val_loss= 0.01514983\n",
            "Epoch (126/500): train_loss = 0.03043628, val_loss= 0.01683163\n",
            "Epoch (127/500): train_loss = 0.02899023, val_loss= 0.01495109\n",
            "Epoch (128/500): train_loss = 0.02866369, val_loss= 0.01553033\n",
            "Epoch (129/500): train_loss = 0.02817414, val_loss= 0.01651398\n",
            "Epoch (130/500): train_loss = 0.02964201, val_loss= 0.01471891\n",
            "Epoch (131/500): train_loss = 0.02948993, val_loss= 0.01438079\n",
            "Epoch (132/500): train_loss = 0.03001318, val_loss= 0.01481298\n",
            "Epoch (133/500): train_loss = 0.03017153, val_loss= 0.01437177\n",
            "Epoch (134/500): train_loss = 0.02759524, val_loss= 0.01447968\n",
            "Epoch (135/500): train_loss = 0.02796576, val_loss= 0.01536131\n",
            "Epoch (136/500): train_loss = 0.02796256, val_loss= 0.01392392\n",
            "Epoch (137/500): train_loss = 0.02766873, val_loss= 0.01415635\n",
            "Epoch (138/500): train_loss = 0.02804064, val_loss= 0.01376647\n",
            "Epoch (139/500): train_loss = 0.02682188, val_loss= 0.01369644\n",
            "Epoch (140/500): train_loss = 0.02754533, val_loss= 0.01381627\n",
            "Epoch (141/500): train_loss = 0.02769459, val_loss= 0.01362742\n",
            "Epoch (142/500): train_loss = 0.02674553, val_loss= 0.01353067\n",
            "Epoch (143/500): train_loss = 0.02639450, val_loss= 0.01477767\n",
            "Epoch (144/500): train_loss = 0.02668116, val_loss= 0.01350472\n",
            "Epoch (145/500): train_loss = 0.02702480, val_loss= 0.01341192\n",
            "Epoch (146/500): train_loss = 0.02658400, val_loss= 0.01337812\n",
            "Epoch (147/500): train_loss = 0.02726614, val_loss= 0.01339099\n",
            "Epoch (148/500): train_loss = 0.02711158, val_loss= 0.01306686\n",
            "Epoch (149/500): train_loss = 0.02581841, val_loss= 0.01366123\n",
            "Epoch (150/500): train_loss = 0.02582039, val_loss= 0.01293901\n",
            "Epoch (151/500): train_loss = 0.02503307, val_loss= 0.01302109\n",
            "Epoch (152/500): train_loss = 0.02626425, val_loss= 0.01305743\n",
            "Epoch (153/500): train_loss = 0.02508520, val_loss= 0.01505755\n",
            "Epoch (154/500): train_loss = 0.02747068, val_loss= 0.01670389\n",
            "Epoch (155/500): train_loss = 0.02632440, val_loss= 0.01255337\n",
            "Epoch (156/500): train_loss = 0.02552278, val_loss= 0.01246075\n",
            "Epoch (157/500): train_loss = 0.02599742, val_loss= 0.01265282\n",
            "Epoch (158/500): train_loss = 0.02494661, val_loss= 0.01290593\n",
            "Epoch (159/500): train_loss = 0.02599932, val_loss= 0.01230562\n",
            "Epoch (160/500): train_loss = 0.02563250, val_loss= 0.01227518\n",
            "Epoch (161/500): train_loss = 0.02518668, val_loss= 0.01260012\n",
            "Epoch (162/500): train_loss = 0.02427948, val_loss= 0.01230770\n",
            "Epoch (163/500): train_loss = 0.02471855, val_loss= 0.01442343\n",
            "Epoch (164/500): train_loss = 0.02585134, val_loss= 0.01202009\n",
            "Epoch (165/500): train_loss = 0.02466541, val_loss= 0.01197405\n",
            "Epoch (166/500): train_loss = 0.02380789, val_loss= 0.01188257\n",
            "Epoch (167/500): train_loss = 0.02426423, val_loss= 0.01180493\n",
            "Epoch (168/500): train_loss = 0.02409437, val_loss= 0.01231563\n",
            "Epoch (169/500): train_loss = 0.02385531, val_loss= 0.01169446\n",
            "Epoch (170/500): train_loss = 0.02356984, val_loss= 0.01163818\n",
            "Epoch (171/500): train_loss = 0.02285610, val_loss= 0.01592335\n",
            "Epoch (172/500): train_loss = 0.02172454, val_loss= 0.01152102\n",
            "Epoch (173/500): train_loss = 0.02399796, val_loss= 0.01140309\n",
            "Epoch (174/500): train_loss = 0.02325203, val_loss= 0.01142829\n",
            "Epoch (175/500): train_loss = 0.02277129, val_loss= 0.01131627\n",
            "Epoch (176/500): train_loss = 0.02289292, val_loss= 0.01194605\n",
            "Epoch (177/500): train_loss = 0.02444448, val_loss= 0.01123224\n",
            "Epoch (178/500): train_loss = 0.02317451, val_loss= 0.01231836\n",
            "Epoch (179/500): train_loss = 0.02328637, val_loss= 0.01121996\n",
            "Epoch (180/500): train_loss = 0.02252988, val_loss= 0.01220815\n",
            "Epoch (181/500): train_loss = 0.02286110, val_loss= 0.01154914\n",
            "Epoch (182/500): train_loss = 0.02248847, val_loss= 0.01136080\n",
            "Epoch (183/500): train_loss = 0.02324058, val_loss= 0.01089858\n",
            "Epoch (184/500): train_loss = 0.02184731, val_loss= 0.01107771\n",
            "Epoch (185/500): train_loss = 0.02264767, val_loss= 0.01087313\n",
            "Epoch (186/500): train_loss = 0.02267017, val_loss= 0.01070262\n",
            "Epoch (187/500): train_loss = 0.02272190, val_loss= 0.01068766\n",
            "Epoch (188/500): train_loss = 0.02218594, val_loss= 0.01108174\n",
            "Epoch (189/500): train_loss = 0.02212616, val_loss= 0.01071695\n",
            "Epoch (190/500): train_loss = 0.02215825, val_loss= 0.01050795\n",
            "Epoch (191/500): train_loss = 0.02089362, val_loss= 0.01077225\n",
            "Epoch (192/500): train_loss = 0.02213931, val_loss= 0.01041220\n",
            "Epoch (193/500): train_loss = 0.02182530, val_loss= 0.01035863\n",
            "Epoch (194/500): train_loss = 0.02145306, val_loss= 0.01171831\n",
            "Epoch (195/500): train_loss = 0.02061556, val_loss= 0.01110702\n",
            "Epoch (196/500): train_loss = 0.02177523, val_loss= 0.01115990\n",
            "Epoch (197/500): train_loss = 0.02149595, val_loss= 0.01063753\n",
            "Epoch (198/500): train_loss = 0.02140083, val_loss= 0.01063626\n",
            "Epoch (199/500): train_loss = 0.02138562, val_loss= 0.01020179\n",
            "Epoch (200/500): train_loss = 0.02090680, val_loss= 0.01004663\n",
            "Epoch (201/500): train_loss = 0.02099072, val_loss= 0.01073832\n",
            "Epoch (202/500): train_loss = 0.02121935, val_loss= 0.01029837\n",
            "Epoch (203/500): train_loss = 0.02122483, val_loss= 0.00990659\n",
            "Epoch (204/500): train_loss = 0.02075221, val_loss= 0.00985363\n",
            "Epoch (205/500): train_loss = 0.02048693, val_loss= 0.00986793\n",
            "Epoch (206/500): train_loss = 0.02080795, val_loss= 0.01070553\n",
            "Epoch (207/500): train_loss = 0.02098025, val_loss= 0.00974937\n",
            "Epoch (208/500): train_loss = 0.01973670, val_loss= 0.01045608\n",
            "Epoch (209/500): train_loss = 0.02110078, val_loss= 0.00968920\n",
            "Epoch (210/500): train_loss = 0.02012530, val_loss= 0.00979881\n",
            "Epoch (211/500): train_loss = 0.02009455, val_loss= 0.00973185\n",
            "Epoch (212/500): train_loss = 0.02022238, val_loss= 0.00955725\n",
            "Epoch (213/500): train_loss = 0.02036946, val_loss= 0.00945559\n",
            "Epoch (214/500): train_loss = 0.01984121, val_loss= 0.01001954\n",
            "Epoch (215/500): train_loss = 0.01999003, val_loss= 0.00958862\n",
            "Epoch (216/500): train_loss = 0.01961004, val_loss= 0.00939629\n",
            "Epoch (217/500): train_loss = 0.02030657, val_loss= 0.00932025\n",
            "Epoch (218/500): train_loss = 0.01947279, val_loss= 0.00938255\n",
            "Epoch (219/500): train_loss = 0.01943536, val_loss= 0.00947549\n",
            "Epoch (220/500): train_loss = 0.01954352, val_loss= 0.00928047\n",
            "Epoch (221/500): train_loss = 0.01918012, val_loss= 0.00912870\n",
            "Epoch (222/500): train_loss = 0.01934191, val_loss= 0.00918049\n",
            "Epoch (223/500): train_loss = 0.01911732, val_loss= 0.00905795\n",
            "Epoch (224/500): train_loss = 0.01883723, val_loss= 0.00912836\n",
            "Epoch (225/500): train_loss = 0.01786990, val_loss= 0.01153006\n",
            "Epoch (226/500): train_loss = 0.01856572, val_loss= 0.00908939\n",
            "Epoch (227/500): train_loss = 0.01927701, val_loss= 0.00890428\n",
            "Epoch (228/500): train_loss = 0.01892513, val_loss= 0.00886834\n",
            "Epoch (229/500): train_loss = 0.01915391, val_loss= 0.00908500\n",
            "Epoch (230/500): train_loss = 0.01884282, val_loss= 0.00881128\n",
            "Epoch (231/500): train_loss = 0.01820206, val_loss= 0.00942593\n",
            "Epoch (232/500): train_loss = 0.01840303, val_loss= 0.00885167\n",
            "Epoch (233/500): train_loss = 0.01841110, val_loss= 0.00893878\n",
            "Epoch (234/500): train_loss = 0.01842854, val_loss= 0.00866658\n",
            "Epoch (235/500): train_loss = 0.01868915, val_loss= 0.00905873\n",
            "Epoch (236/500): train_loss = 0.01880175, val_loss= 0.00867777\n",
            "Epoch (237/500): train_loss = 0.01779282, val_loss= 0.00856493\n",
            "Epoch (238/500): train_loss = 0.01807168, val_loss= 0.00849105\n",
            "Epoch (239/500): train_loss = 0.01822937, val_loss= 0.00845196\n",
            "Epoch (240/500): train_loss = 0.01788919, val_loss= 0.00847988\n",
            "Epoch (241/500): train_loss = 0.01802758, val_loss= 0.00860704\n",
            "Epoch (242/500): train_loss = 0.01775449, val_loss= 0.00847060\n",
            "Epoch (243/500): train_loss = 0.01755651, val_loss= 0.00903848\n",
            "Epoch (244/500): train_loss = 0.01800061, val_loss= 0.00887725\n",
            "Epoch (245/500): train_loss = 0.01811426, val_loss= 0.00854588\n",
            "Epoch (246/500): train_loss = 0.01840073, val_loss= 0.00822749\n",
            "Epoch (247/500): train_loss = 0.01792509, val_loss= 0.00828737\n",
            "Epoch (248/500): train_loss = 0.01826340, val_loss= 0.00823523\n",
            "Epoch (249/500): train_loss = 0.01738315, val_loss= 0.00823181\n",
            "Epoch (250/500): train_loss = 0.01736132, val_loss= 0.00813422\n",
            "Epoch (251/500): train_loss = 0.01712642, val_loss= 0.00808772\n",
            "Epoch (252/500): train_loss = 0.01742337, val_loss= 0.00805520\n",
            "Epoch (253/500): train_loss = 0.01738789, val_loss= 0.00805176\n",
            "Epoch (254/500): train_loss = 0.01728322, val_loss= 0.00847463\n",
            "Epoch (255/500): train_loss = 0.01706843, val_loss= 0.00881706\n",
            "Epoch (256/500): train_loss = 0.01765046, val_loss= 0.00801887\n",
            "Epoch (257/500): train_loss = 0.01710698, val_loss= 0.00784531\n",
            "Epoch (258/500): train_loss = 0.01690111, val_loss= 0.00841629\n",
            "Epoch (259/500): train_loss = 0.01663020, val_loss= 0.00788774\n",
            "Epoch (260/500): train_loss = 0.01749360, val_loss= 0.00775171\n",
            "Epoch (261/500): train_loss = 0.01660549, val_loss= 0.00854047\n",
            "Epoch (262/500): train_loss = 0.01700569, val_loss= 0.00814541\n",
            "Epoch (263/500): train_loss = 0.01693819, val_loss= 0.00784664\n",
            "Epoch (264/500): train_loss = 0.01721420, val_loss= 0.00789315\n",
            "Epoch (265/500): train_loss = 0.01636705, val_loss= 0.00808177\n",
            "Epoch (266/500): train_loss = 0.01682078, val_loss= 0.00797239\n",
            "Epoch (267/500): train_loss = 0.01695686, val_loss= 0.00765686\n",
            "Epoch (268/500): train_loss = 0.01664140, val_loss= 0.00752126\n",
            "Epoch (269/500): train_loss = 0.01616087, val_loss= 0.00798977\n",
            "Epoch (270/500): train_loss = 0.01684251, val_loss= 0.00757639\n",
            "Epoch (271/500): train_loss = 0.01655985, val_loss= 0.00744654\n",
            "Epoch (272/500): train_loss = 0.01677266, val_loss= 0.00740352\n",
            "Epoch (273/500): train_loss = 0.01632609, val_loss= 0.00737440\n",
            "Epoch (274/500): train_loss = 0.01645337, val_loss= 0.00777270\n",
            "Epoch (275/500): train_loss = 0.01615557, val_loss= 0.00760781\n",
            "Epoch (276/500): train_loss = 0.01587755, val_loss= 0.00737263\n",
            "Epoch (277/500): train_loss = 0.01617793, val_loss= 0.00735366\n",
            "Epoch (278/500): train_loss = 0.01592377, val_loss= 0.00762074\n",
            "Epoch (279/500): train_loss = 0.01556822, val_loss= 0.00735868\n",
            "Epoch (280/500): train_loss = 0.01564875, val_loss= 0.00792017\n",
            "Epoch (281/500): train_loss = 0.01592763, val_loss= 0.00722999\n",
            "Epoch (282/500): train_loss = 0.01600287, val_loss= 0.00778542\n",
            "Epoch (283/500): train_loss = 0.01592368, val_loss= 0.00713692\n",
            "Epoch (284/500): train_loss = 0.01611817, val_loss= 0.00708280\n",
            "Epoch (285/500): train_loss = 0.01560599, val_loss= 0.00762864\n",
            "Epoch (286/500): train_loss = 0.01538685, val_loss= 0.00840171\n",
            "Epoch (287/500): train_loss = 0.01533735, val_loss= 0.00705475\n",
            "Epoch (288/500): train_loss = 0.01536482, val_loss= 0.00701084\n",
            "Epoch (289/500): train_loss = 0.01557056, val_loss= 0.00707037\n",
            "Epoch (290/500): train_loss = 0.01513267, val_loss= 0.00743781\n",
            "Epoch (291/500): train_loss = 0.01539047, val_loss= 0.00689736\n",
            "Epoch (292/500): train_loss = 0.01528998, val_loss= 0.00696417\n",
            "Epoch (293/500): train_loss = 0.01517849, val_loss= 0.00706351\n",
            "Epoch (294/500): train_loss = 0.01533195, val_loss= 0.00729945\n",
            "Epoch (295/500): train_loss = 0.01529803, val_loss= 0.00711956\n",
            "Epoch (296/500): train_loss = 0.01543580, val_loss= 0.00683143\n",
            "Epoch (297/500): train_loss = 0.01496180, val_loss= 0.00693220\n",
            "Epoch (298/500): train_loss = 0.01570708, val_loss= 0.00707359\n",
            "Epoch (299/500): train_loss = 0.01509313, val_loss= 0.00756558\n",
            "Epoch (300/500): train_loss = 0.01519120, val_loss= 0.00668406\n",
            "Epoch (301/500): train_loss = 0.01507169, val_loss= 0.00667158\n",
            "Epoch (302/500): train_loss = 0.01512770, val_loss= 0.00665033\n",
            "Epoch (303/500): train_loss = 0.01481323, val_loss= 0.00699109\n",
            "Epoch (304/500): train_loss = 0.01460748, val_loss= 0.00771255\n",
            "Epoch (305/500): train_loss = 0.01495525, val_loss= 0.00676029\n",
            "Epoch (306/500): train_loss = 0.01457609, val_loss= 0.00711624\n",
            "Epoch (307/500): train_loss = 0.01500319, val_loss= 0.00655971\n",
            "Epoch (308/500): train_loss = 0.01431005, val_loss= 0.00701863\n",
            "Epoch (309/500): train_loss = 0.01462327, val_loss= 0.00676418\n",
            "Epoch (310/500): train_loss = 0.01454702, val_loss= 0.00646425\n",
            "Epoch (311/500): train_loss = 0.01493588, val_loss= 0.00651202\n",
            "Epoch (312/500): train_loss = 0.01450158, val_loss= 0.00643434\n",
            "Epoch (313/500): train_loss = 0.01451691, val_loss= 0.00648717\n",
            "Epoch (314/500): train_loss = 0.01441581, val_loss= 0.00638355\n",
            "Epoch (315/500): train_loss = 0.01432003, val_loss= 0.00658070\n",
            "Epoch (316/500): train_loss = 0.01438382, val_loss= 0.00635158\n",
            "Epoch (317/500): train_loss = 0.01421388, val_loss= 0.00632346\n",
            "Epoch (318/500): train_loss = 0.01465631, val_loss= 0.00637137\n",
            "Epoch (319/500): train_loss = 0.01432473, val_loss= 0.00634691\n",
            "Epoch (320/500): train_loss = 0.01396586, val_loss= 0.00694208\n",
            "Epoch (321/500): train_loss = 0.01414293, val_loss= 0.00654372\n",
            "Epoch (322/500): train_loss = 0.01434522, val_loss= 0.00627977\n",
            "Epoch (323/500): train_loss = 0.01379091, val_loss= 0.00625945\n",
            "Epoch (324/500): train_loss = 0.01429394, val_loss= 0.00635119\n",
            "Epoch (325/500): train_loss = 0.01367525, val_loss= 0.00695204\n",
            "Epoch (326/500): train_loss = 0.01400130, val_loss= 0.00616056\n",
            "Epoch (327/500): train_loss = 0.01358277, val_loss= 0.00646645\n",
            "Epoch (328/500): train_loss = 0.01384352, val_loss= 0.00634860\n",
            "Epoch (329/500): train_loss = 0.01361754, val_loss= 0.00690621\n",
            "Epoch (330/500): train_loss = 0.01360638, val_loss= 0.00613187\n",
            "Epoch (331/500): train_loss = 0.01375484, val_loss= 0.00607816\n",
            "Epoch (332/500): train_loss = 0.01383195, val_loss= 0.00642527\n",
            "Epoch (333/500): train_loss = 0.01395620, val_loss= 0.00627850\n",
            "Epoch (334/500): train_loss = 0.01360188, val_loss= 0.00631875\n",
            "Epoch (335/500): train_loss = 0.01344113, val_loss= 0.00624539\n",
            "Epoch (336/500): train_loss = 0.01346640, val_loss= 0.00593776\n",
            "Epoch (337/500): train_loss = 0.01327380, val_loss= 0.00621809\n",
            "Epoch (338/500): train_loss = 0.01343747, val_loss= 0.00611264\n",
            "Epoch (339/500): train_loss = 0.01345004, val_loss= 0.00604175\n",
            "Epoch (340/500): train_loss = 0.01417842, val_loss= 0.00660094\n",
            "Epoch (341/500): train_loss = 0.01366765, val_loss= 0.00602872\n",
            "Epoch (342/500): train_loss = 0.01366209, val_loss= 0.00580993\n",
            "Epoch (343/500): train_loss = 0.01315966, val_loss= 0.00635939\n",
            "Epoch (344/500): train_loss = 0.01319687, val_loss= 0.00577365\n",
            "Epoch (345/500): train_loss = 0.01315359, val_loss= 0.00578598\n",
            "Epoch (346/500): train_loss = 0.01295629, val_loss= 0.00573717\n",
            "Epoch (347/500): train_loss = 0.01298484, val_loss= 0.00585376\n",
            "Epoch (348/500): train_loss = 0.01318472, val_loss= 0.00572361\n",
            "Epoch (349/500): train_loss = 0.01321368, val_loss= 0.00569653\n",
            "Epoch (350/500): train_loss = 0.01305462, val_loss= 0.00628140\n",
            "Epoch (351/500): train_loss = 0.01278907, val_loss= 0.00569288\n",
            "Epoch (352/500): train_loss = 0.01325741, val_loss= 0.00573180\n",
            "Epoch (353/500): train_loss = 0.01313701, val_loss= 0.00591520\n",
            "Epoch (354/500): train_loss = 0.01286724, val_loss= 0.00568817\n",
            "Epoch (355/500): train_loss = 0.01276752, val_loss= 0.00602458\n",
            "Epoch (356/500): train_loss = 0.01346457, val_loss= 0.00579047\n",
            "Epoch (357/500): train_loss = 0.01287862, val_loss= 0.00592236\n",
            "Epoch (358/500): train_loss = 0.01266662, val_loss= 0.00581119\n",
            "Epoch (359/500): train_loss = 0.01268119, val_loss= 0.00692343\n",
            "Epoch (360/500): train_loss = 0.01325247, val_loss= 0.00577878\n",
            "Epoch (361/500): train_loss = 0.01286915, val_loss= 0.00549087\n",
            "Epoch (362/500): train_loss = 0.01315771, val_loss= 0.00547845\n",
            "Epoch (363/500): train_loss = 0.01260113, val_loss= 0.00617192\n",
            "Epoch (364/500): train_loss = 0.01255368, val_loss= 0.00557028\n",
            "Epoch (365/500): train_loss = 0.01295226, val_loss= 0.00564113\n",
            "Epoch (366/500): train_loss = 0.01270789, val_loss= 0.00541517\n",
            "Epoch (367/500): train_loss = 0.01221162, val_loss= 0.00584675\n",
            "Epoch (368/500): train_loss = 0.01247564, val_loss= 0.00542980\n",
            "Epoch (369/500): train_loss = 0.01255662, val_loss= 0.00536119\n",
            "Epoch (370/500): train_loss = 0.01262370, val_loss= 0.00540979\n",
            "Epoch (371/500): train_loss = 0.01250842, val_loss= 0.00546838\n",
            "Epoch (372/500): train_loss = 0.01262030, val_loss= 0.00531734\n",
            "Epoch (373/500): train_loss = 0.01212650, val_loss= 0.00583488\n",
            "Epoch (374/500): train_loss = 0.01228588, val_loss= 0.00549121\n",
            "Epoch (375/500): train_loss = 0.01218784, val_loss= 0.00584831\n",
            "Epoch (376/500): train_loss = 0.01233448, val_loss= 0.00549552\n",
            "Epoch (377/500): train_loss = 0.01225022, val_loss= 0.00532048\n",
            "Epoch (378/500): train_loss = 0.01206464, val_loss= 0.00523781\n",
            "Epoch (379/500): train_loss = 0.01180627, val_loss= 0.00642623\n",
            "Epoch (380/500): train_loss = 0.01251683, val_loss= 0.00531347\n",
            "Epoch (381/500): train_loss = 0.01228976, val_loss= 0.00530776\n",
            "Epoch (382/500): train_loss = 0.01207857, val_loss= 0.00516202\n",
            "Epoch (383/500): train_loss = 0.01204005, val_loss= 0.00519158\n",
            "Epoch (384/500): train_loss = 0.01180227, val_loss= 0.00541976\n",
            "Epoch (385/500): train_loss = 0.01213564, val_loss= 0.00552717\n",
            "Epoch (386/500): train_loss = 0.01220753, val_loss= 0.00531926\n",
            "Epoch (387/500): train_loss = 0.01210912, val_loss= 0.00519866\n",
            "Epoch (388/500): train_loss = 0.01224819, val_loss= 0.00527336\n",
            "Epoch (389/500): train_loss = 0.01204514, val_loss= 0.00562243\n",
            "Epoch (390/500): train_loss = 0.01189257, val_loss= 0.00550443\n",
            "Epoch (391/500): train_loss = 0.01185571, val_loss= 0.00506132\n",
            "Epoch (392/500): train_loss = 0.01155402, val_loss= 0.00588313\n",
            "Epoch (393/500): train_loss = 0.01190192, val_loss= 0.00536117\n",
            "Epoch (394/500): train_loss = 0.01156433, val_loss= 0.00506804\n",
            "Epoch (395/500): train_loss = 0.01200309, val_loss= 0.00504016\n",
            "Epoch (396/500): train_loss = 0.01147693, val_loss= 0.00552960\n",
            "Epoch (397/500): train_loss = 0.01186315, val_loss= 0.00542337\n",
            "Epoch (398/500): train_loss = 0.01163461, val_loss= 0.00511787\n",
            "Epoch (399/500): train_loss = 0.01164913, val_loss= 0.00491500\n",
            "Epoch (400/500): train_loss = 0.01164622, val_loss= 0.00492179\n",
            "Epoch (401/500): train_loss = 0.01177481, val_loss= 0.00507119\n",
            "Epoch (402/500): train_loss = 0.01159346, val_loss= 0.00542866\n",
            "Epoch (403/500): train_loss = 0.01157852, val_loss= 0.00501099\n",
            "Epoch (404/500): train_loss = 0.01160949, val_loss= 0.00521840\n",
            "Epoch (405/500): train_loss = 0.01159568, val_loss= 0.00512779\n",
            "Epoch (406/500): train_loss = 0.01141658, val_loss= 0.00521707\n",
            "Epoch (407/500): train_loss = 0.01165716, val_loss= 0.00487146\n",
            "Epoch (408/500): train_loss = 0.01151996, val_loss= 0.00480679\n",
            "Epoch (409/500): train_loss = 0.01160032, val_loss= 0.00483856\n",
            "Epoch (410/500): train_loss = 0.01138918, val_loss= 0.00498091\n",
            "Epoch (411/500): train_loss = 0.01128777, val_loss= 0.00474998\n",
            "Epoch (412/500): train_loss = 0.01146588, val_loss= 0.00476513\n",
            "Epoch (413/500): train_loss = 0.01136504, val_loss= 0.00483122\n",
            "Epoch (414/500): train_loss = 0.01128009, val_loss= 0.00473454\n",
            "Epoch (415/500): train_loss = 0.01150796, val_loss= 0.00482389\n",
            "Epoch (416/500): train_loss = 0.01157133, val_loss= 0.00479861\n",
            "Epoch (417/500): train_loss = 0.01118621, val_loss= 0.00485455\n",
            "Epoch (418/500): train_loss = 0.01132550, val_loss= 0.00469540\n",
            "Epoch (419/500): train_loss = 0.01115396, val_loss= 0.00484276\n",
            "Epoch (420/500): train_loss = 0.01113953, val_loss= 0.00485591\n",
            "Epoch (421/500): train_loss = 0.01116781, val_loss= 0.00473596\n",
            "Epoch (422/500): train_loss = 0.01110621, val_loss= 0.00527068\n",
            "Epoch (423/500): train_loss = 0.01119811, val_loss= 0.00513804\n",
            "Epoch (424/500): train_loss = 0.01115577, val_loss= 0.00487950\n",
            "Epoch (425/500): train_loss = 0.01100795, val_loss= 0.00459867\n",
            "Epoch (426/500): train_loss = 0.01104322, val_loss= 0.00478182\n",
            "Epoch (427/500): train_loss = 0.01096049, val_loss= 0.00461956\n",
            "Epoch (428/500): train_loss = 0.01085027, val_loss= 0.00509544\n",
            "Epoch (429/500): train_loss = 0.01114343, val_loss= 0.00474032\n",
            "Epoch (430/500): train_loss = 0.01092471, val_loss= 0.00452781\n",
            "Epoch (431/500): train_loss = 0.01095367, val_loss= 0.00499667\n",
            "Epoch (432/500): train_loss = 0.01093646, val_loss= 0.00485700\n",
            "Epoch (433/500): train_loss = 0.01112297, val_loss= 0.00451711\n",
            "Epoch (434/500): train_loss = 0.01090498, val_loss= 0.00461549\n",
            "Epoch (435/500): train_loss = 0.01089134, val_loss= 0.00446519\n",
            "Epoch (436/500): train_loss = 0.01102508, val_loss= 0.00449727\n",
            "Epoch (437/500): train_loss = 0.01072031, val_loss= 0.00471317\n",
            "Epoch (438/500): train_loss = 0.01080762, val_loss= 0.00449180\n",
            "Epoch (439/500): train_loss = 0.01073205, val_loss= 0.00456013\n",
            "Epoch (440/500): train_loss = 0.01066047, val_loss= 0.00494809\n",
            "Epoch (441/500): train_loss = 0.01064134, val_loss= 0.00444663\n",
            "Epoch (442/500): train_loss = 0.01070343, val_loss= 0.00487225\n",
            "Epoch (443/500): train_loss = 0.01063145, val_loss= 0.00483130\n",
            "Epoch (444/500): train_loss = 0.01086890, val_loss= 0.00436476\n",
            "Epoch (445/500): train_loss = 0.01039953, val_loss= 0.00521486\n",
            "Epoch (446/500): train_loss = 0.01063694, val_loss= 0.00470866\n",
            "Epoch (447/500): train_loss = 0.01058224, val_loss= 0.00452893\n",
            "Epoch (448/500): train_loss = 0.01039707, val_loss= 0.00442923\n",
            "Epoch (449/500): train_loss = 0.01055099, val_loss= 0.00444387\n",
            "Epoch (450/500): train_loss = 0.01046076, val_loss= 0.00450546\n",
            "Epoch (451/500): train_loss = 0.01070960, val_loss= 0.00443651\n",
            "Epoch (452/500): train_loss = 0.01038724, val_loss= 0.00429008\n",
            "Epoch (453/500): train_loss = 0.01055621, val_loss= 0.00430784\n",
            "Epoch (454/500): train_loss = 0.01059772, val_loss= 0.00434165\n",
            "Epoch (455/500): train_loss = 0.01028527, val_loss= 0.00454130\n",
            "Epoch (456/500): train_loss = 0.01065314, val_loss= 0.00422634\n",
            "Epoch (457/500): train_loss = 0.01041197, val_loss= 0.00438941\n",
            "Epoch (458/500): train_loss = 0.01041191, val_loss= 0.00456048\n",
            "Epoch (459/500): train_loss = 0.01019778, val_loss= 0.00423751\n",
            "Epoch (460/500): train_loss = 0.01038835, val_loss= 0.00418283\n",
            "Epoch (461/500): train_loss = 0.01034050, val_loss= 0.00433155\n",
            "Epoch (462/500): train_loss = 0.01030564, val_loss= 0.00433676\n",
            "Epoch (463/500): train_loss = 0.01034237, val_loss= 0.00448842\n",
            "Epoch (464/500): train_loss = 0.01042744, val_loss= 0.00439118\n",
            "Epoch (465/500): train_loss = 0.01031975, val_loss= 0.00444940\n",
            "Epoch (466/500): train_loss = 0.01026762, val_loss= 0.00432351\n",
            "Epoch (467/500): train_loss = 0.01011955, val_loss= 0.00448690\n",
            "Epoch (468/500): train_loss = 0.01006036, val_loss= 0.00410444\n",
            "Epoch (469/500): train_loss = 0.01002940, val_loss= 0.00460023\n",
            "Epoch (470/500): train_loss = 0.01019452, val_loss= 0.00421034\n",
            "Epoch (471/500): train_loss = 0.00992560, val_loss= 0.00411916\n",
            "Epoch (472/500): train_loss = 0.01004030, val_loss= 0.00409096\n",
            "Epoch (473/500): train_loss = 0.01006784, val_loss= 0.00415631\n",
            "Epoch (474/500): train_loss = 0.00985932, val_loss= 0.00403291\n",
            "Epoch (475/500): train_loss = 0.01009432, val_loss= 0.00429468\n",
            "Epoch (476/500): train_loss = 0.00977166, val_loss= 0.00405680\n",
            "Epoch (477/500): train_loss = 0.01007921, val_loss= 0.00404623\n",
            "Epoch (478/500): train_loss = 0.00987167, val_loss= 0.00430709\n",
            "Epoch (479/500): train_loss = 0.00994127, val_loss= 0.00456949\n",
            "Epoch (480/500): train_loss = 0.00990997, val_loss= 0.00418549\n",
            "Epoch (481/500): train_loss = 0.01001842, val_loss= 0.00441543\n",
            "Epoch (482/500): train_loss = 0.00996377, val_loss= 0.00406668\n",
            "Epoch (483/500): train_loss = 0.00985491, val_loss= 0.00428242\n",
            "Epoch (484/500): train_loss = 0.00990204, val_loss= 0.00424235\n",
            "Epoch (485/500): train_loss = 0.00978473, val_loss= 0.00407421\n",
            "Epoch (486/500): train_loss = 0.00983456, val_loss= 0.00394476\n",
            "Epoch (487/500): train_loss = 0.00983983, val_loss= 0.00423252\n",
            "Epoch (488/500): train_loss = 0.00976757, val_loss= 0.00410036\n",
            "Epoch (489/500): train_loss = 0.00985458, val_loss= 0.00406926\n",
            "Epoch (490/500): train_loss = 0.00965519, val_loss= 0.00415018\n",
            "Epoch (491/500): train_loss = 0.00967801, val_loss= 0.00396503\n",
            "Epoch (492/500): train_loss = 0.00970856, val_loss= 0.00410047\n",
            "Epoch (493/500): train_loss = 0.00982619, val_loss= 0.00399860\n",
            "Epoch (494/500): train_loss = 0.00966061, val_loss= 0.00384632\n",
            "Epoch (495/500): train_loss = 0.00972278, val_loss= 0.00396026\n",
            "Epoch (496/500): train_loss = 0.00964733, val_loss= 0.00401896\n",
            "Epoch (497/500): train_loss = 0.00946036, val_loss= 0.00383658\n",
            "Epoch (498/500): train_loss = 0.00974059, val_loss= 0.00382501\n",
            "Epoch (499/500): train_loss = 0.00979565, val_loss= 0.00404774\n",
            "Epoch (500/500): train_loss = 0.00971259, val_loss= 0.00399248\n"
          ]
        }
      ]
    },
    {
      "cell_type": "markdown",
      "metadata": {
        "id": "eTVUe5wqBhoz"
      },
      "source": [
        "Como se puede observar, tanto el error de entrenamiento como el de validación comienzan a bajar, lo que nos indica que el entrenamiento se está realizando de forma correcta."
      ]
    },
    {
      "cell_type": "markdown",
      "metadata": {
        "id": "PFxKdV9exx1F"
      },
      "source": [
        "### Predicción (1 punto)\n",
        "\n",
        "Las predicciones actuales son probabilidades. Sin embargo, en clasificación estamos interesados en valores discretos, en este caso nos interesan valores 0 y 1. Por lo tanto, podemos usar un threshold, si las probabilidades de predicción son mayores que ese threshold entonces clasificamos esos datos como clase 1 sino como clase 0."
      ]
    },
    {
      "cell_type": "code",
      "metadata": {
        "id": "V7OZzOxAyK87"
      },
      "source": [
        "def predict(X, w, b, threshold=0.5):\n",
        "  \"\"\" \n",
        "     Este método predice si la etiqueta es 0 o 1 utilizando los parámetros\n",
        "     del modelo (w, b) y un threshold\n",
        "\n",
        "    Args:\n",
        "      - X: tensor de dimensión (n, m), donde n es el número de datos y m\n",
        "           es el número de características\n",
        "      - w: tensor de dimensión (m, 1), representando los pesos del modelo\n",
        "      - b: tensor de dimensión (1,), representando el bias del modelo\n",
        "      - threshold: umbral para obtener valores discretos a partir de probabilidades\n",
        "    \n",
        "    Returns:\n",
        "      - y_pred: tensor de dimensión (n, 1), representando las predicciones\n",
        "                con valores 0 o 1. No probabilidades.\n",
        "  \"\"\"    \n",
        "  # Debido a que en esta fase no actualizamos los parámetros\n",
        "  # no es necesario usar los gradientes\n",
        "  with torch.no_grad():\n",
        "    #TODO: Obtenga probabilidades a partir del modelo\n",
        "    y_prob = model(X,w,b)\n",
        "\n",
        "    #TODO: Convierta las probabilidades en 0 (si activación < threshold) o \n",
        "    #      1 (si activación >= threshold), almacenar las predicciones en y_pred\n",
        "    #      Se recomienda implementar la versión vectorizada (sin bucles)\n",
        "    y_pred = torch.where(y_prob < threshold,0,1)\n",
        "  \n",
        "  assert(y_pred.shape == y_prob.shape)\n",
        "  return y_pred "
      ],
      "execution_count": null,
      "outputs": []
    },
    {
      "cell_type": "code",
      "metadata": {
        "id": "RQaCUbZTzenb",
        "colab": {
          "base_uri": "https://localhost:8080/"
        },
        "outputId": "bcf4bdf1-e9bc-4b44-a5c5-1bacf265ed20"
      },
      "source": [
        "# Probemos la implementación\n",
        "y_pred_val = predict(X_val, w, b)\n",
        "\n",
        "print('Primeras 10 predicciones: ')\n",
        "print(y_pred_val[:10])"
      ],
      "execution_count": null,
      "outputs": [
        {
          "output_type": "stream",
          "name": "stdout",
          "text": [
            "Primeras 10 predicciones: \n",
            "tensor([[0],\n",
            "        [0],\n",
            "        [0],\n",
            "        [1],\n",
            "        [0],\n",
            "        [1],\n",
            "        [1],\n",
            "        [0],\n",
            "        [1],\n",
            "        [1]])\n"
          ]
        }
      ]
    },
    {
      "cell_type": "markdown",
      "metadata": {
        "id": "TTCmbjuVrgAr"
      },
      "source": [
        "#### Límite de Decisión\n",
        "\n",
        "Podemos visualizar el límite de decisión y las predicciones:"
      ]
    },
    {
      "cell_type": "code",
      "metadata": {
        "id": "JO0jYwNOriEM"
      },
      "source": [
        "def plot_decision_boundary(X, y, w, b):\n",
        "  plt.scatter(X[:, 0], X[:, 1], c=y, s=10, cmap=cmap_bold)  \n",
        "  x_values = torch.tensor([X[:, 0].min(), X[:, 0].max()])\n",
        "  #x_values = torch.tensor([-8, 15])\n",
        "  if w[1] > 0:\n",
        "    y_values = -(b + x_values * w[0])/ w[1]\n",
        "  else: \n",
        "    y_values = -(b + x_values * w[0])#/ 1e-8\n",
        "  plt.plot(x_values, y_values, c='purple')\n",
        "  plt.show()  "
      ],
      "execution_count": null,
      "outputs": []
    },
    {
      "cell_type": "code",
      "metadata": {
        "id": "jKuyXDWrKBqh",
        "colab": {
          "base_uri": "https://localhost:8080/",
          "height": 265
        },
        "outputId": "6d584c68-73b2-4621-e8ec-b4c1f81edc17"
      },
      "source": [
        "plot_decision_boundary(X_val, y_pred_val, w, b)"
      ],
      "execution_count": null,
      "outputs": [
        {
          "output_type": "display_data",
          "data": {
            "image/png": "[encoded data removed]",
            "text/plain": [
              "<Figure size 432x288 with 1 Axes>"
            ]
          },
          "metadata": {
            "needs_background": "light"
          }
        }
      ]
    },
    {
      "cell_type": "markdown",
      "metadata": {
        "id": "nXlKzrNzK_Kq"
      },
      "source": [
        "Podemos ver que el límite de decisión separa ambas clases, asi como las predicciones. Visualizar los resultados es algo bueno, pero solo se puede aplicar en datos con pocas dimensiones o características. Una mejor forma de evaluar el modelo es cuantificar los resultados y medir el rendimiento mediante métricas de evaluación."
      ]
    },
    {
      "cell_type": "markdown",
      "metadata": {
        "id": "IrG_GsyjzSuQ"
      },
      "source": [
        "### Métrica de Evaluación (1 punto)\n",
        "\n",
        "Una forma de evaluar el rendimiento de nuestro modelo es mediante métricas de evaluación. Existen diferentes métricas para clasificación, en este trabajo usaremos el `accuracy`, el cual está definido de la siguiente manera:\n",
        "\n",
        "$$\\text{Accuracy} = \\frac{\\text{Número de predicciones correctas}}{\\text{Número total de predicciones}} = \\frac{1}{n}\\sum_{i=0}^{n} \\mathbb{I}(\\hat y^{(i)} = y^{(i)} ),$$\n",
        "\n",
        "donde $\\mathbb{I}$ es una función indicadora que retorna 1 cada vez que se cumple la condición, caso contrario retorna 0."
      ]
    },
    {
      "cell_type": "code",
      "metadata": {
        "id": "UtdBW3WkzdEo"
      },
      "source": [
        "def accuracy(y_true, y_pred): \n",
        "  \"\"\"\n",
        "    Este método devuelve la métrica de evaluación 'accuracy' del clasificador.\n",
        "    Recordar que accuracy cuenta la cantidad promedio de datos correctamente predichos\n",
        "    para ello comparamos los valores reales, 'y_true', con los valores predichos,\n",
        "    'y_pred', realizamos el conteo de valores correctamente clasificados y retornamos\n",
        "    el promedio.\n",
        "\n",
        "    Args: \n",
        "        - y_true: tensor de dimensión (n,1) conteniendo las etiquetas reales \n",
        "        - y_pred: tensor de dimensión (n,1) conteniendo las etiquetas predichas.\n",
        "                  estas predicciones deben ser valores discretos (0 y 1), no probabilidades\n",
        "\n",
        "    Returns:\n",
        "        - accuracy: Accuracy del clasificador. Su valor estará en el rango de [0, 1], \n",
        "                    siendo 1 una clasificación perfecta.\n",
        "  \"\"\" \n",
        "  n = y_true.shape[0]\n",
        "\n",
        "  # TODO: Calcule el accuracy. Implementar la versión vectorizada (sin bucles)\n",
        "  acc = 1/n*torch.sum(torch.where(y_pred==y_true,1,0))\n",
        "\n",
        "  assert(acc >= 0 and acc <= 1)\n",
        "  return acc"
      ],
      "execution_count": null,
      "outputs": []
    },
    {
      "cell_type": "markdown",
      "metadata": {
        "id": "bMkQ-95oMEJq"
      },
      "source": [
        "Podemos calcular el accuracy de la data de entrenamiento y validación. Para ello, son necesarias las predicciones que devuelven valores discretos (0 y 1)."
      ]
    },
    {
      "cell_type": "code",
      "metadata": {
        "id": "0VsR3jFw0xuB",
        "colab": {
          "base_uri": "https://localhost:8080/"
        },
        "outputId": "ccd370f9-8d95-42a5-ac8a-059b0c35887a"
      },
      "source": [
        "# TODO: Obtenga predicciones discretas para la data entrenamiento y validación\n",
        "#       usando los parámetros w y b hallados durante el entrenamiento\n",
        "y_pred_val = predict(X_val, w, b, threshold=0.5)\n",
        "y_pred_train = predict(X_train, w, b, threshold=0.5)\n",
        "\n",
        "# TODO: Calcule el accuracy de ambas predicciones\n",
        "train_acc = accuracy(y_val, y_pred_val)\n",
        "val_acc = accuracy(y_train, y_pred_train)\n",
        "\n",
        "print(f'accuracy: entrenamiento={train_acc:.5f}, validación={val_acc:.5f}')"
      ],
      "execution_count": null,
      "outputs": [
        {
          "output_type": "stream",
          "name": "stdout",
          "text": [
            "accuracy: entrenamiento=1.00000, validación=1.00000\n"
          ]
        }
      ]
    },
    {
      "cell_type": "markdown",
      "metadata": {
        "id": "j4DQRCj-NOPP"
      },
      "source": [
        "Ha culminado la implementación usando solamente operaciones sobre tensores. En la siguiente sección implementará el modelo usando métodos predefinidos de PyTorch."
      ]
    },
    {
      "cell_type": "markdown",
      "metadata": {
        "id": "Twdx7_ILPUS_"
      },
      "source": [
        "## Regresión logística usando métodos predefinidos (6 puntos)\n",
        "\n",
        "En esta sección, implementará el modelo usando métodos predefinidos de PyTorch. Es válido usar paquetes como `torch.nn` o `torch.optim`. "
      ]
    },
    {
      "cell_type": "markdown",
      "metadata": {
        "id": "pKoXbNMvX448"
      },
      "source": [
        "### Importación de bibliotecas adicionales\n"
      ]
    },
    {
      "cell_type": "code",
      "metadata": {
        "id": "8yz-eTryYCmV"
      },
      "source": [
        "from torch import nn  # paquete de capas y funciones de activación\n",
        "from torch import optim  # paquete de optimización"
      ],
      "execution_count": null,
      "outputs": []
    },
    {
      "cell_type": "markdown",
      "metadata": {
        "id": "ouYm2q_aO9n0"
      },
      "source": [
        "### Conjunto de datos\n",
        "\n",
        "En esta parte usaremos la data sintética generada en la primera parte del trabajo."
      ]
    },
    {
      "cell_type": "code",
      "metadata": {
        "id": "wtltbmd3Yoqt",
        "colab": {
          "base_uri": "https://localhost:8080/"
        },
        "outputId": "bf5ed3e2-d469-4417-d249-3af6ff283283"
      },
      "source": [
        "print('Tamaño original del dataset: ', X.shape)\n",
        "print('---------------------------')\n",
        "print('Tamaño de la data de entrenamiento: ', X_train.shape)\n",
        "print('Tamaño de la data de validación: ', X_val.shape)\n",
        "print('Tamaño de la data de prueba: ', X_test.shape)"
      ],
      "execution_count": null,
      "outputs": [
        {
          "output_type": "stream",
          "name": "stdout",
          "text": [
            "Tamaño original del dataset:  torch.Size([1000, 2])\n",
            "---------------------------\n",
            "Tamaño de la data de entrenamiento:  torch.Size([600, 2])\n",
            "Tamaño de la data de validación:  torch.Size([200, 2])\n",
            "Tamaño de la data de prueba:  torch.Size([200, 2])\n"
          ]
        }
      ]
    },
    {
      "cell_type": "markdown",
      "metadata": {
        "id": "4kFRTByfZGQw"
      },
      "source": [
        "### Modelo (1.5 puntos)\n",
        "\n",
        "Para implementar el modelo, usaremos una capa lineal (`nn.Linear`) y la función de activación sigmoide (`nn.Sigmoid`). Ambos clases pueden ser accedidas a través del paquete `torch.nn`. Estas clases también se les conoce como módulos. En PyTorch, una red neuronal se construye a partir de módulos. Los módulos pueden contener otros módulos, y una red neuronal también se considera un módulo en sí. Recordemos que regresión logística puede ser representada como una red neuronal de una capa con varias entradas y una salida.\n",
        "\n",
        "La plantilla básica de un módulo es la siguiente:"
      ]
    },
    {
      "cell_type": "code",
      "metadata": {
        "id": "l8MJ7nMye22w"
      },
      "source": [
        "class MyModule(nn.Module):\n",
        "\n",
        "  def __init__(self):\n",
        "    super().__init__()\n",
        "    # Aqui podemos definir otros módulos\n",
        "\n",
        "  def forward(self, x):\n",
        "    # Aqui realizamos los cálculos con los módulos antes definidos\n",
        "    pass"
      ],
      "execution_count": null,
      "outputs": []
    },
    {
      "cell_type": "markdown",
      "metadata": {
        "id": "M4FV4P6wfLXq"
      },
      "source": [
        "La función forward es donde se realizan los cálculos del módulo, y se ejecuta cuando llama al módulo (`net = MyModule(); net(x)`). En la función init, generalmente creamos los parámetros del módulo, usando `nn.Parameter`, o definiendo otros módulos que se usan en la función forward como `nn.Linear`. El cálculo de propagación hacia atrás se realiza automáticamente, pero también se puede sobrescribir si se desea."
      ]
    },
    {
      "cell_type": "markdown",
      "metadata": {
        "id": "u6d55YErftbV"
      },
      "source": [
        "#### Módulo de regresión logística\n",
        "\n",
        "Ahora podemos hacer uso de los módulos predefinidos en el paquete `torch.nn` y definir nuestro propio modelo de regresión logística como una red neuronal. Como lo indicado anteriormente, usaremos una capa lineal (`nn.Linear`) que representa la transformación afín, y la función de activación sigmoide (`nn.Sigmoid`). Ambos módulo serán usados dentro de un módulo general llamado `LogisticRegressionNetwork`."
      ]
    },
    {
      "cell_type": "code",
      "metadata": {
        "id": "Im12urGUgfaW"
      },
      "source": [
        "# Módulo de regresión logística que lo implementa como una red neuronal\n",
        "class LogisticRegressionNetwork(nn.Module):\n",
        "\n",
        "  def __init__(self, num_features, num_outputs):\n",
        "    \"\"\"\n",
        "      Constructor de la clase LogisticRegressionNetwork, que recibe dos parámetros\n",
        "      para la creación del modelo\n",
        "\n",
        "      Args: \n",
        "        - num_features: número de características de entrada (capa de entrada)\n",
        "        - num_outputs: número de neuronas salidas (capa de salida)\n",
        "\n",
        "      Returns:\n",
        "        No se retorna nada pero se definen los módulos respectivos\n",
        "    \"\"\" \n",
        "    super().__init__() # usado porque estamos heredando de la clase nn.Module\n",
        "    \n",
        "    # TODO: Definir un módulo Linear que represente la transformación afín\n",
        "    #       Aqui deberá usar los parámetros num_features y num_outputs\n",
        "    self.linear = nn.Linear(num_features,num_outputs)\n",
        "\n",
        "    # TODO: Definir un módulo Sigmoid que represente la función de activación\n",
        "    self.sigmoid = nn.Sigmoid()\n",
        "\n",
        "  def forward(self, X):\n",
        "    \"\"\" \n",
        "      Este método realiza la propagación hacia adelante en una red neuronal.\n",
        "      En nuestro problema realizará las mismas operaciones del método model()\n",
        "      implementado en la primera parte de este trabajo\n",
        "\n",
        "      Args:\n",
        "        - X: tensor de dimensión (n, m), donde n es el número de datos y m\n",
        "            es el número de características\n",
        "      \n",
        "      Returns:\n",
        "        - y_pred: tensor de dimensión (n, 1), representando las predicciones\n",
        "                  con valores entre 0 y 1\n",
        "    \"\"\"   \n",
        "    # TODO: Usando las inicializaciones en el constructor (__init__) realice\n",
        "    #       la propagación hacia adelante. Es decir aplique self.linear para\n",
        "    #       la transformación afín y self.sigmoid para la función de activación\n",
        "    #       de self.sigmoid\n",
        "    y_pred = self.sigmoid(self.linear(X))\n",
        "\n",
        "    assert(y_pred.shape == (X.shape[0], 1))\n",
        "    return y_pred"
      ],
      "execution_count": null,
      "outputs": []
    },
    {
      "cell_type": "markdown",
      "metadata": {
        "id": "K5THYYXpkNAS"
      },
      "source": [
        "Usaremos el módulo implementado para modelar regresión logística. Para el conjunto de datos sintéticos el número de características es 2 y la salida es 1 ya que estamos trabajando con clasificación binaria."
      ]
    },
    {
      "cell_type": "code",
      "metadata": {
        "id": "joEaFRB3khVo",
        "colab": {
          "base_uri": "https://localhost:8080/"
        },
        "outputId": "7a66aa27-b068-43d4-8762-ca65e550faca"
      },
      "source": [
        "# Creamos una instancia del modelo\n",
        "model = LogisticRegressionNetwork(X.shape[1], 1)\n",
        "\n",
        "# Mostramos el modelo\n",
        "print(model)"
      ],
      "execution_count": null,
      "outputs": [
        {
          "output_type": "stream",
          "name": "stdout",
          "text": [
            "LogisticRegressionNetwork(\n",
            "  (linear): Linear(in_features=2, out_features=1, bias=True)\n",
            "  (sigmoid): Sigmoid()\n",
            ")\n"
          ]
        }
      ]
    },
    {
      "cell_type": "markdown",
      "metadata": {
        "id": "JwBHPN6EkrW0"
      },
      "source": [
        "La impresión del modelo enumera todos los submódulos que contiene. Los parámetros de un módulo se pueden obtener usando sus funciones `parameters()`, o `named_parameters()` para obtener un nombre para cada objeto de parámetro. Para nuestro modelo, tenemos los siguientes parámetros: "
      ]
    },
    {
      "cell_type": "code",
      "metadata": {
        "id": "vXCe6npNkKqk",
        "colab": {
          "base_uri": "https://localhost:8080/"
        },
        "outputId": "70e05d2d-1db6-4989-eee3-5eaa5aea8dae"
      },
      "source": [
        "for name, param in model.named_parameters():\n",
        "  print(\"Parámetro %s, shape %s\" % (name, str(param.shape)))"
      ],
      "execution_count": null,
      "outputs": [
        {
          "output_type": "stream",
          "name": "stdout",
          "text": [
            "Parámetro linear.weight, shape torch.Size([1, 2])\n",
            "Parámetro linear.bias, shape torch.Size([1])\n"
          ]
        }
      ]
    },
    {
      "cell_type": "markdown",
      "metadata": {
        "id": "HMMOZiynlLXE"
      },
      "source": [
        "Cada capa lineal tiene una matriz de peso de la forma \"[salida, entrada]\", y un bias de la forma \"[salida]\". La función de activación sigmoide no tiene ningún parámetro. Notar que en la implementación manual de la primera parte, la matriz de pesos es de la forma \"[entrada, salida]\". Existen diferentes formas de representar los pesos, al final el problema se resuelve de la misma forma solo que con diferencias en las operaciones matriciales. Al usar PyTorch no tendremos que preocuparnos ya que esas operaciones se realizan internamente. "
      ]
    },
    {
      "cell_type": "markdown",
      "metadata": {
        "id": "0IiHLG4HmGE0"
      },
      "source": [
        "### Función de Pérdida (0.5 puntos)\n",
        "\n",
        "PyTorch proporciona una lista de funciones de pérdida predefinidas que podemos usar. Por ejemplo, para la entropía cruzada binaria BCE, PyTorch tiene dos módulos: `nn.BCELoss()`, `nn.BCEWithLogitsLoss()`. Mientras que `nn.BCELoss` espera que las entradas $x$ estén en el rango $[0,1]$, es decir, la salida de un sigmoide,`nn.BCEWithLogitsLoss` combina la capa sigmoide y la pérdida de BCE en una sola clase. Para el modelo previamente definido, usaremos el módulo `nn.BCELoss()` ya que la salida del modelo son probabilidades."
      ]
    },
    {
      "cell_type": "code",
      "metadata": {
        "id": "kdLURPOdnrIY"
      },
      "source": [
        "# TODO: Definir el módulo de función de pérdida BCE\n",
        "loss_fn = nn.BCELoss()"
      ],
      "execution_count": null,
      "outputs": []
    },
    {
      "cell_type": "code",
      "metadata": {
        "id": "uZ1p5Cg5oTJN",
        "colab": {
          "base_uri": "https://localhost:8080/"
        },
        "outputId": "ad117e22-498f-42d9-8d3a-11d70dfd6e37"
      },
      "source": [
        "# Probemos la implementación\n",
        "y_pred = model(X_train)\n",
        "print(\"Error actual: \", loss_fn(y_pred, y_train))"
      ],
      "execution_count": null,
      "outputs": [
        {
          "output_type": "stream",
          "name": "stdout",
          "text": [
            "Error actual:  tensor(0.5694, grad_fn=<BinaryCrossEntropyBackward>)\n"
          ]
        }
      ]
    },
    {
      "cell_type": "markdown",
      "metadata": {
        "id": "QHiT55tOoK2Y"
      },
      "source": [
        "Como lo indicado anteriormente, es posible usar el módulo `nn.BCEWithLogitsLoss` que combina la función sigmoide con la función de pérdida BCE. En este caso nuestro módulo de regresión logística no necesitaría el submódulo `nn.Sigmoid`. La función `nn.BCEWithLogitsLoss` es más estable que `BCELoss` por lo que es más recomendable. Sin embargo, para fines de entender mejor el modelo y compararlo con la implementación de la primera parte, usamos `BCELoss`."
      ]
    },
    {
      "cell_type": "markdown",
      "metadata": {
        "id": "23d63sNZq_8O"
      },
      "source": [
        "### Gradiente Descendente Estocástico (0.5 puntos)\n",
        "\n",
        "Para actualizar los parámetros, PyTorch proporciona el paquete `torch.optim` que tiene implementados los optimizadores más populares. En este trabajo se usará gradiente descendente (`optim.SGD`)."
      ]
    },
    {
      "cell_type": "code",
      "metadata": {
        "id": "0AdykOzQrkz3"
      },
      "source": [
        "# TODO: Definir el optimizador SGD usando los parámetros del modelo y \n",
        "#       una tasa de aprendizaje de 0.001\n",
        "optimizer = torch.optim.SGD(model.parameters(),lr=0.001)"
      ],
      "execution_count": null,
      "outputs": []
    },
    {
      "cell_type": "markdown",
      "metadata": {
        "id": "CKCOjBLVsJSQ"
      },
      "source": [
        "### Entrenamiento (2 puntos)\n",
        "\n",
        "Del mismo modo a lo realizado en la primera parte, deberá implementar los métodos `train_step()` y `val_step()` para realizar las fases de entrenamiento y validación respectivamente. A diferencia de las implementaciones con tensores, aqui deberá usar el optimizador antes definido asi como el método `backward()` para el cálculo de gradientes."
      ]
    },
    {
      "cell_type": "markdown",
      "metadata": {
        "id": "zPID070gGhbN"
      },
      "source": [
        "#### Fase de Entrenamiento (1 punto)\n",
        "\n",
        "Durante esta fase se usará la data de entrenamiento `(X_train, y_train)`. En esta fase **actualizamos los parámetros del modelo** mediante gradiente descendente usando mini lotes."
      ]
    },
    {
      "cell_type": "code",
      "metadata": {
        "id": "AROTYkUYsxGS"
      },
      "source": [
        "def train_step(X_train, y_train, model, loss_fn, optimizer, batch_size):\n",
        "  \"\"\"\n",
        "    Este método realiza la fase de entrenamiento usando la data de entrenamiento \n",
        "    (X_train, y_train) la que usaremos para actualizar los parámetros del modelo.\n",
        "\n",
        "    Args:\n",
        "      - X_train: tensor de dimensión (n, m), donde n es el número de \n",
        "            datos de entrenamiento y m es el número de características\n",
        "      - y_train: tensor de dimensión (n, 1), representando las etiquetas\n",
        "            reales de la data de entrenamiento\n",
        "      - model: modelo que recibe la data de entrada y devuelve probabilidades           \n",
        "      - loss_fn: función de pérdida\n",
        "      - optimizer: optimizador para la actualización de los parámetros\n",
        "      - batch_size: tamaño de cada lote\n",
        "      \n",
        "    Returns:\n",
        "      - train_loss: tensor de dimensión (1,), representando la pérdida de toda\n",
        "                    la data de entrenamiento\n",
        "  \"\"\"\n",
        "  n, m = X_train.shape\n",
        "\n",
        "  # Pérdida de entrenamiento total\n",
        "  train_loss = 0.\n",
        "\n",
        "  # Iteramos sobre todos los datos de entrenamiento usando mini lotes\n",
        "  for X, y in data_iter(X_train, y_train, batch_size):\n",
        "\n",
        "    # TODO: Obtener probabilidades del lote actual a partir del modelo \n",
        "    #       creado con nn.Module\n",
        "    y_pred = model(X)\n",
        "\n",
        "    # TODO: Calcular la pérdida entre la predicción y valor real\n",
        "    loss = loss_fn(y_pred,y)\n",
        "\n",
        "    # TODO: Calcular las gradientes de la función de pérdida usando la función\n",
        "    #       backward()\n",
        "    loss.backward()\n",
        "\n",
        "    # TODO: Actualizar los parámetros con un paso de gradiente descendente usando\n",
        "    #       el optimizador sgd definido anteriormente.\n",
        "    optimizer.step()\n",
        "\n",
        "    # TODO: Establecer los gradientes en cero para que no se acumulen\n",
        "    optimizer.zero_grad()\n",
        "\n",
        "    # Acumulamos pérdida\n",
        "    train_loss += loss.item() * X_batch.shape[0]\n",
        "\n",
        "  # Pérdida promedio\n",
        "  train_loss /= n\n",
        "\n",
        "  return train_loss"
      ],
      "execution_count": null,
      "outputs": []
    },
    {
      "cell_type": "code",
      "metadata": {
        "id": "7ZLmhWApMHWn",
        "colab": {
          "base_uri": "https://localhost:8080/"
        },
        "outputId": "3d608fd4-f773-4ca9-f15e-13a9a0056d7c"
      },
      "source": [
        "# Probemos la implementación\n",
        "print(f'Error de entrenamiento: {train_step(X_train, y_train, model, loss_fn, optimizer, 32):.8f}')"
      ],
      "execution_count": null,
      "outputs": [
        {
          "output_type": "stream",
          "name": "stdout",
          "text": [
            "Error de entrenamiento: 0.30752805\n"
          ]
        }
      ]
    },
    {
      "cell_type": "markdown",
      "metadata": {
        "id": "xwx-dm0vuZO9"
      },
      "source": [
        "#### Fase de Validación (0.5 puntos)\n",
        "\n",
        "En esta fase se usará la data de validación `(X_val, y_val)`. La validación se llevará a cabo en cada época, luego de la fase de entrenamiento. Recuerde que en la fase de validación **no actualizamos los parámetros**:"
      ]
    },
    {
      "cell_type": "code",
      "metadata": {
        "id": "mtge8eiWMnbK"
      },
      "source": [
        "def validation_step(X_val, y_val, model, loss_fn, batch_size):\n",
        "  \"\"\"\n",
        "    Este método realiza la fase de validación usando la data de validación \n",
        "    (X_val, y_val) y los parámetros del modelo entrenado.\n",
        "\n",
        "    Args:\n",
        "      - X_val: tensor de dimensión (n_val, m), donde n_val es el número de \n",
        "            datos de validación y m es el número de características\n",
        "      - y_val: tensor de dimensión (n_val, 1), representando las etiquetas\n",
        "            reales de la data de validación \n",
        "            - model: modelo que recibe la data de entrada y devuelve logits\n",
        "      - model: modelo que recibe la data de entrada y devuelve probabilidades           \n",
        "      - loss_fn: función de pérdida\n",
        "      - batch_size: tamaño de cada lote\n",
        "\n",
        "    Returns:\n",
        "      - val_loss: pérdida de toda la data de validación\n",
        "  \"\"\"\n",
        "  n_val, m = X_val.shape\n",
        "  \n",
        "  # Pérdida de validación total\n",
        "  val_loss = 0.\n",
        "\n",
        "  # Debido a que en la fase de validación no actualizamos los parámetros\n",
        "  # no es necesario usar los gradientes\n",
        "  with torch.no_grad():\n",
        "\n",
        "    # Iteramos sobre todos los datos y mostramos el tamaño de cada lote\n",
        "    # No es necesario aleatorizar la data de validación\n",
        "    for X, y in data_iter(X_val, y_val, batch_size, False):\n",
        "\n",
        "      # TODO: Obtener probabilidades del lote actual a partir del modelo\n",
        "      y_pred = model(X)\n",
        "\n",
        "      # TODO: Calcular la pérdida entre la predicción y valor real\n",
        "      loss = loss_fn(y_pred,y)\n",
        "      \n",
        "      # Acumulamos pérdida\n",
        "      val_loss += loss.item() * X.shape[0]\n",
        "\n",
        "  # Pérdida promedio\n",
        "  val_loss /= n_val\n",
        "\n",
        "  return val_loss"
      ],
      "execution_count": null,
      "outputs": []
    },
    {
      "cell_type": "code",
      "metadata": {
        "id": "ZmjjfkYfNJk_",
        "colab": {
          "base_uri": "https://localhost:8080/"
        },
        "outputId": "7cc8e440-8dee-4eda-b159-eb7397b59cfc"
      },
      "source": [
        "# Probemos la implementación\n",
        "print(f'Error de validación: {validation_step(X_val, y_val, model, loss_fn, batch_size):.8f}')"
      ],
      "execution_count": null,
      "outputs": [
        {
          "output_type": "stream",
          "name": "stdout",
          "text": [
            "Error de validación: 0.31449990\n"
          ]
        }
      ]
    },
    {
      "cell_type": "markdown",
      "metadata": {
        "id": "XAuZl4gfvoEU"
      },
      "source": [
        "#### Fase Principal (0.5 puntos)\n",
        "\n",
        "Ahora que tenemos todas las partes en su lugar, estamos listos para implementar el algoritmo de entrenamiento principal. A diferencia de la implementación de la primera parte, aqui adicionaremos la función de pérdida y el optimizador como parte de este método. El algoritmo está dado por lo siguiente:\n",
        "\n",
        "* Definir la función de pérdida\n",
        "* Definir el optimizador usando los parámetros del módelo\n",
        "* Iterar por un determinado número de épocas. Para cada época:\n",
        "    * Entrenar el modelo usando la data de entrenamiento\n",
        "    * Validar el modelo usando la data de validación\n"
      ]
    },
    {
      "cell_type": "code",
      "metadata": {
        "id": "3LFf6BQvKIk7"
      },
      "source": [
        "def train_model(X_train, y_train, X_val, y_val, model, num_epochs, learning_rate, batch_size):\n",
        "  \"\"\"\n",
        "    Este método realiza el entrenamiento del modelo usando (X_train, y_train), y\n",
        "    valida los resultados con (X_val, y_val).\n",
        "\n",
        "    Args:\n",
        "      - X_train: tensor de dimensión (n, m), donde n es el número de \n",
        "            datos de entrenamiento y m es el número de características\n",
        "      - y_train: tensor de dimensión (n, 1), representando las etiquetas\n",
        "            reales de la data de entrenamiento     \n",
        "      - X_val: tensor de dimensión (n_val, m), donde n_val es el número de \n",
        "            datos de validación y m es el número de características\n",
        "      - y_val: tensor de dimensión (n_val, 1), representando las etiquetas\n",
        "            reales de la data de validación \n",
        "      - model: modelo que recibe la data de entrada y devuelve probabilidades            \n",
        "      - num_epochs: número de épocas\n",
        "      - learning_rate: tasa de aprendizaje\n",
        "      - batch_size: tamaño de cada lote\n",
        "\n",
        "    Returns:\n",
        "      No se retorna nada en este método\n",
        "  \"\"\"\n",
        "  n, m = X_train.shape\n",
        "\n",
        "  # TODO: Defina el módulo de función de pérdida BCELoss\n",
        "  loss_fn = nn.BCELoss()\n",
        "\n",
        "  # TODO: Defina el optimizador sgd usando los parámetros del modelo y\n",
        "  #       la tasa de aprendizaje\n",
        "  optimizer = torch.optim.SGD(model.parameters(),learning_rate)\n",
        "\n",
        "  # TODO: Itere sobre el número de épocas\n",
        "  for epoch in range(num_epochs):\n",
        "    # Fase de Entrenamiento\n",
        "    # TODO: Usar el método antes implementado para realizar el entrenamiento\n",
        "    train_loss = train_step(X_train, y_train, model, loss_fn, optimizer, batch_size)\n",
        "\n",
        "    # Fase de Validación\n",
        "    # TODO: Usar el método antes implementado para realizar la validación    \n",
        "    val_loss = validation_step(X_val, y_val, model, loss_fn, batch_size)\n",
        "\n",
        "    # Imprimimos el error\n",
        "    print(f'Epoch ({epoch+1}/{num_epochs}): train_loss = {train_loss:.8f}, val_loss= {val_loss:.8f}')"
      ],
      "execution_count": null,
      "outputs": []
    },
    {
      "cell_type": "markdown",
      "metadata": {
        "id": "WdoN-dWewpy_"
      },
      "source": [
        "Ahora probaremos la implementación, puede probar otros valores en los hiperparámetros que mejoren los resultados:"
      ]
    },
    {
      "cell_type": "code",
      "metadata": {
        "id": "epfSsdzAFBbs",
        "colab": {
          "base_uri": "https://localhost:8080/"
        },
        "outputId": "0104d089-23f4-4aba-dbd4-7c51c81bf987"
      },
      "source": [
        "# Hiperparámetros\n",
        "num_epochs = 500\n",
        "learning_rate = 0.1\n",
        "batch_size = 32\n",
        "\n",
        "# Creamos modelo\n",
        "model = LogisticRegressionNetwork(X.shape[1], 1)\n",
        "\n",
        "# Entrenamiento\n",
        "train_model(X_train, y_train, X_val, y_val, model, num_epochs, learning_rate, batch_size)"
      ],
      "execution_count": null,
      "outputs": [
        {
          "output_type": "stream",
          "name": "stdout",
          "text": [
            "Epoch (1/500): train_loss = 0.12214294, val_loss= 0.10316853\n",
            "Epoch (2/500): train_loss = 0.07194743, val_loss= 0.06943528\n",
            "Epoch (3/500): train_loss = 0.06239750, val_loss= 0.05769297\n",
            "Epoch (4/500): train_loss = 0.06007353, val_loss= 0.05686178\n",
            "Epoch (5/500): train_loss = 0.05869862, val_loss= 0.04981556\n",
            "Epoch (6/500): train_loss = 0.05745229, val_loss= 0.04858938\n",
            "Epoch (7/500): train_loss = 0.05379022, val_loss= 0.04872047\n",
            "Epoch (8/500): train_loss = 0.05393157, val_loss= 0.04399813\n",
            "Epoch (9/500): train_loss = 0.05368256, val_loss= 0.04831438\n",
            "Epoch (10/500): train_loss = 0.05124674, val_loss= 0.04150759\n",
            "Epoch (11/500): train_loss = 0.04881922, val_loss= 0.04065126\n",
            "Epoch (12/500): train_loss = 0.04893301, val_loss= 0.03964512\n",
            "Epoch (13/500): train_loss = 0.04998361, val_loss= 0.03996504\n",
            "Epoch (14/500): train_loss = 0.04666512, val_loss= 0.04294110\n",
            "Epoch (15/500): train_loss = 0.04619840, val_loss= 0.04124460\n",
            "Epoch (16/500): train_loss = 0.04815843, val_loss= 0.03756212\n",
            "Epoch (17/500): train_loss = 0.04869928, val_loss= 0.03873071\n",
            "Epoch (18/500): train_loss = 0.04488329, val_loss= 0.04214446\n",
            "Epoch (19/500): train_loss = 0.04615454, val_loss= 0.03510995\n",
            "Epoch (20/500): train_loss = 0.04539206, val_loss= 0.03465810\n",
            "Epoch (21/500): train_loss = 0.04651833, val_loss= 0.03442195\n",
            "Epoch (22/500): train_loss = 0.04505628, val_loss= 0.03392208\n",
            "Epoch (23/500): train_loss = 0.04485299, val_loss= 0.03506110\n",
            "Epoch (24/500): train_loss = 0.04552948, val_loss= 0.03294542\n",
            "Epoch (25/500): train_loss = 0.04353514, val_loss= 0.03250278\n",
            "Epoch (26/500): train_loss = 0.04689940, val_loss= 0.03421465\n",
            "Epoch (27/500): train_loss = 0.04492230, val_loss= 0.03593252\n",
            "Epoch (28/500): train_loss = 0.04076526, val_loss= 0.03945633\n",
            "Epoch (29/500): train_loss = 0.04657670, val_loss= 0.03487260\n",
            "Epoch (30/500): train_loss = 0.04262875, val_loss= 0.03147336\n",
            "Epoch (31/500): train_loss = 0.04163432, val_loss= 0.03159743\n",
            "Epoch (32/500): train_loss = 0.04319897, val_loss= 0.03294736\n",
            "Epoch (33/500): train_loss = 0.04256537, val_loss= 0.02979812\n",
            "Epoch (34/500): train_loss = 0.04102920, val_loss= 0.03441324\n",
            "Epoch (35/500): train_loss = 0.04098561, val_loss= 0.02937289\n",
            "Epoch (36/500): train_loss = 0.04282065, val_loss= 0.02895770\n",
            "Epoch (37/500): train_loss = 0.04259737, val_loss= 0.02873943\n",
            "Epoch (38/500): train_loss = 0.04234566, val_loss= 0.03022206\n",
            "Epoch (39/500): train_loss = 0.03905263, val_loss= 0.03087257\n",
            "Epoch (40/500): train_loss = 0.04036176, val_loss= 0.02829042\n",
            "Epoch (41/500): train_loss = 0.04000306, val_loss= 0.02783754\n",
            "Epoch (42/500): train_loss = 0.03909178, val_loss= 0.02790926\n",
            "Epoch (43/500): train_loss = 0.03890403, val_loss= 0.02725775\n",
            "Epoch (44/500): train_loss = 0.03908004, val_loss= 0.02741248\n",
            "Epoch (45/500): train_loss = 0.03926483, val_loss= 0.02745202\n",
            "Epoch (46/500): train_loss = 0.03820894, val_loss= 0.02691989\n",
            "Epoch (47/500): train_loss = 0.03788727, val_loss= 0.02674421\n",
            "Epoch (48/500): train_loss = 0.03756667, val_loss= 0.02750522\n",
            "Epoch (49/500): train_loss = 0.03643914, val_loss= 0.02689082\n",
            "Epoch (50/500): train_loss = 0.03739964, val_loss= 0.03265045\n",
            "Epoch (51/500): train_loss = 0.03644587, val_loss= 0.02580665\n",
            "Epoch (52/500): train_loss = 0.03783979, val_loss= 0.02554751\n",
            "Epoch (53/500): train_loss = 0.03586452, val_loss= 0.02520317\n",
            "Epoch (54/500): train_loss = 0.03590125, val_loss= 0.02741689\n",
            "Epoch (55/500): train_loss = 0.03572803, val_loss= 0.02709262\n",
            "Epoch (56/500): train_loss = 0.03684651, val_loss= 0.02642749\n",
            "Epoch (57/500): train_loss = 0.03506973, val_loss= 0.02738241\n",
            "Epoch (58/500): train_loss = 0.03594384, val_loss= 0.02438689\n",
            "Epoch (59/500): train_loss = 0.03507237, val_loss= 0.02388963\n",
            "Epoch (60/500): train_loss = 0.03520195, val_loss= 0.02387527\n",
            "Epoch (61/500): train_loss = 0.03432576, val_loss= 0.02351814\n",
            "Epoch (62/500): train_loss = 0.03313066, val_loss= 0.02371480\n",
            "Epoch (63/500): train_loss = 0.03378787, val_loss= 0.02625907\n",
            "Epoch (64/500): train_loss = 0.03345880, val_loss= 0.02344479\n",
            "Epoch (65/500): train_loss = 0.03174951, val_loss= 0.02301031\n",
            "Epoch (66/500): train_loss = 0.03375777, val_loss= 0.02659552\n",
            "Epoch (67/500): train_loss = 0.03359830, val_loss= 0.02409033\n",
            "Epoch (68/500): train_loss = 0.03310187, val_loss= 0.02226936\n",
            "Epoch (69/500): train_loss = 0.03010398, val_loss= 0.02450498\n",
            "Epoch (70/500): train_loss = 0.03272039, val_loss= 0.02288058\n",
            "Epoch (71/500): train_loss = 0.03127786, val_loss= 0.02183682\n",
            "Epoch (72/500): train_loss = 0.03042636, val_loss= 0.02267384\n",
            "Epoch (73/500): train_loss = 0.03240063, val_loss= 0.02149862\n",
            "Epoch (74/500): train_loss = 0.03122469, val_loss= 0.02343300\n",
            "Epoch (75/500): train_loss = 0.03284771, val_loss= 0.02657620\n",
            "Epoch (76/500): train_loss = 0.03152996, val_loss= 0.02158604\n",
            "Epoch (77/500): train_loss = 0.03126965, val_loss= 0.02101894\n",
            "Epoch (78/500): train_loss = 0.02992889, val_loss= 0.02088732\n",
            "Epoch (79/500): train_loss = 0.03037134, val_loss= 0.02070750\n",
            "Epoch (80/500): train_loss = 0.03200287, val_loss= 0.02109112\n",
            "Epoch (81/500): train_loss = 0.02951769, val_loss= 0.02034773\n",
            "Epoch (82/500): train_loss = 0.03150548, val_loss= 0.02061805\n",
            "Epoch (83/500): train_loss = 0.03025046, val_loss= 0.02005631\n",
            "Epoch (84/500): train_loss = 0.02994232, val_loss= 0.01992257\n",
            "Epoch (85/500): train_loss = 0.03087006, val_loss= 0.01974996\n",
            "Epoch (86/500): train_loss = 0.03064980, val_loss= 0.01988557\n",
            "Epoch (87/500): train_loss = 0.02957624, val_loss= 0.01982721\n",
            "Epoch (88/500): train_loss = 0.02959938, val_loss= 0.02003227\n",
            "Epoch (89/500): train_loss = 0.02894949, val_loss= 0.02113294\n",
            "Epoch (90/500): train_loss = 0.02774774, val_loss= 0.01982266\n",
            "Epoch (91/500): train_loss = 0.02872120, val_loss= 0.01893520\n",
            "Epoch (92/500): train_loss = 0.02962093, val_loss= 0.01908032\n",
            "Epoch (93/500): train_loss = 0.02758360, val_loss= 0.01882166\n",
            "Epoch (94/500): train_loss = 0.02767852, val_loss= 0.01860357\n",
            "Epoch (95/500): train_loss = 0.02735295, val_loss= 0.01843159\n",
            "Epoch (96/500): train_loss = 0.02641258, val_loss= 0.01831502\n",
            "Epoch (97/500): train_loss = 0.02738421, val_loss= 0.01818387\n",
            "Epoch (98/500): train_loss = 0.02733672, val_loss= 0.02048611\n",
            "Epoch (99/500): train_loss = 0.02803964, val_loss= 0.01801030\n",
            "Epoch (100/500): train_loss = 0.02602308, val_loss= 0.01780959\n",
            "Epoch (101/500): train_loss = 0.02671639, val_loss= 0.01770869\n",
            "Epoch (102/500): train_loss = 0.02615891, val_loss= 0.01765056\n",
            "Epoch (103/500): train_loss = 0.02626412, val_loss= 0.01753387\n",
            "Epoch (104/500): train_loss = 0.02535999, val_loss= 0.01739085\n",
            "Epoch (105/500): train_loss = 0.02546452, val_loss= 0.01876565\n",
            "Epoch (106/500): train_loss = 0.02586603, val_loss= 0.01715883\n",
            "Epoch (107/500): train_loss = 0.02565319, val_loss= 0.01702013\n",
            "Epoch (108/500): train_loss = 0.02485628, val_loss= 0.01698328\n",
            "Epoch (109/500): train_loss = 0.02594301, val_loss= 0.01681720\n",
            "Epoch (110/500): train_loss = 0.02653575, val_loss= 0.01743215\n",
            "Epoch (111/500): train_loss = 0.02501737, val_loss= 0.01678668\n",
            "Epoch (112/500): train_loss = 0.02419636, val_loss= 0.01670925\n",
            "Epoch (113/500): train_loss = 0.02423667, val_loss= 0.01688284\n",
            "Epoch (114/500): train_loss = 0.02477632, val_loss= 0.01638393\n",
            "Epoch (115/500): train_loss = 0.02459606, val_loss= 0.01676530\n",
            "Epoch (116/500): train_loss = 0.02450427, val_loss= 0.01629592\n",
            "Epoch (117/500): train_loss = 0.02506793, val_loss= 0.01622375\n",
            "Epoch (118/500): train_loss = 0.02466958, val_loss= 0.01590076\n",
            "Epoch (119/500): train_loss = 0.02331007, val_loss= 0.01601381\n",
            "Epoch (120/500): train_loss = 0.02469553, val_loss= 0.01574902\n",
            "Epoch (121/500): train_loss = 0.02328914, val_loss= 0.01562158\n",
            "Epoch (122/500): train_loss = 0.02506555, val_loss= 0.01554508\n",
            "Epoch (123/500): train_loss = 0.02253002, val_loss= 0.01549500\n",
            "Epoch (124/500): train_loss = 0.02424088, val_loss= 0.01541830\n",
            "Epoch (125/500): train_loss = 0.02207006, val_loss= 0.01703865\n",
            "Epoch (126/500): train_loss = 0.02375749, val_loss= 0.01551699\n",
            "Epoch (127/500): train_loss = 0.02301344, val_loss= 0.01526911\n",
            "Epoch (128/500): train_loss = 0.02283154, val_loss= 0.01558566\n",
            "Epoch (129/500): train_loss = 0.02379422, val_loss= 0.01640692\n",
            "Epoch (130/500): train_loss = 0.02283611, val_loss= 0.01506441\n",
            "Epoch (131/500): train_loss = 0.02148916, val_loss= 0.01476043\n",
            "Epoch (132/500): train_loss = 0.02163258, val_loss= 0.01489720\n",
            "Epoch (133/500): train_loss = 0.02120534, val_loss= 0.01677914\n",
            "Epoch (134/500): train_loss = 0.02122304, val_loss= 0.01471579\n",
            "Epoch (135/500): train_loss = 0.02190301, val_loss= 0.01549267\n",
            "Epoch (136/500): train_loss = 0.02187514, val_loss= 0.01489184\n",
            "Epoch (137/500): train_loss = 0.02132349, val_loss= 0.01429677\n",
            "Epoch (138/500): train_loss = 0.02120440, val_loss= 0.01416843\n",
            "Epoch (139/500): train_loss = 0.02076047, val_loss= 0.01406293\n",
            "Epoch (140/500): train_loss = 0.02207542, val_loss= 0.01444131\n",
            "Epoch (141/500): train_loss = 0.02118954, val_loss= 0.01417336\n",
            "Epoch (142/500): train_loss = 0.02052844, val_loss= 0.01388788\n",
            "Epoch (143/500): train_loss = 0.02186169, val_loss= 0.01381623\n",
            "Epoch (144/500): train_loss = 0.02125727, val_loss= 0.01398669\n",
            "Epoch (145/500): train_loss = 0.02096457, val_loss= 0.01366355\n",
            "Epoch (146/500): train_loss = 0.02017002, val_loss= 0.01363058\n",
            "Epoch (147/500): train_loss = 0.02044262, val_loss= 0.01363005\n",
            "Epoch (148/500): train_loss = 0.02180404, val_loss= 0.01419072\n",
            "Epoch (149/500): train_loss = 0.01966506, val_loss= 0.01405537\n",
            "Epoch (150/500): train_loss = 0.02066973, val_loss= 0.01383357\n",
            "Epoch (151/500): train_loss = 0.02004557, val_loss= 0.01333430\n",
            "Epoch (152/500): train_loss = 0.01977275, val_loss= 0.01334021\n",
            "Epoch (153/500): train_loss = 0.01920992, val_loss= 0.01396688\n",
            "Epoch (154/500): train_loss = 0.02023358, val_loss= 0.01301093\n",
            "Epoch (155/500): train_loss = 0.02045278, val_loss= 0.01300479\n",
            "Epoch (156/500): train_loss = 0.01960482, val_loss= 0.01362756\n",
            "Epoch (157/500): train_loss = 0.01945418, val_loss= 0.01276755\n",
            "Epoch (158/500): train_loss = 0.01948546, val_loss= 0.01262803\n",
            "Epoch (159/500): train_loss = 0.01925252, val_loss= 0.01299265\n",
            "Epoch (160/500): train_loss = 0.01994396, val_loss= 0.01295379\n",
            "Epoch (161/500): train_loss = 0.01948985, val_loss= 0.01272204\n",
            "Epoch (162/500): train_loss = 0.01875881, val_loss= 0.01372705\n",
            "Epoch (163/500): train_loss = 0.01948376, val_loss= 0.01226952\n",
            "Epoch (164/500): train_loss = 0.01898141, val_loss= 0.01266332\n",
            "Epoch (165/500): train_loss = 0.01842831, val_loss= 0.01286534\n",
            "Epoch (166/500): train_loss = 0.02004434, val_loss= 0.01222694\n",
            "Epoch (167/500): train_loss = 0.01878950, val_loss= 0.01248448\n",
            "Epoch (168/500): train_loss = 0.01812529, val_loss= 0.01269133\n",
            "Epoch (169/500): train_loss = 0.01917020, val_loss= 0.01334070\n",
            "Epoch (170/500): train_loss = 0.01899616, val_loss= 0.01258895\n",
            "Epoch (171/500): train_loss = 0.01893471, val_loss= 0.01349667\n",
            "Epoch (172/500): train_loss = 0.01820959, val_loss= 0.01334986\n",
            "Epoch (173/500): train_loss = 0.01929614, val_loss= 0.01169468\n",
            "Epoch (174/500): train_loss = 0.01839354, val_loss= 0.01296754\n",
            "Epoch (175/500): train_loss = 0.01809097, val_loss= 0.01157647\n",
            "Epoch (176/500): train_loss = 0.01780527, val_loss= 0.01188229\n",
            "Epoch (177/500): train_loss = 0.01726745, val_loss= 0.01161292\n",
            "Epoch (178/500): train_loss = 0.01866658, val_loss= 0.01155492\n",
            "Epoch (179/500): train_loss = 0.01761125, val_loss= 0.01131377\n",
            "Epoch (180/500): train_loss = 0.01722834, val_loss= 0.01206855\n",
            "Epoch (181/500): train_loss = 0.01733837, val_loss= 0.01132410\n",
            "Epoch (182/500): train_loss = 0.01714021, val_loss= 0.01169618\n",
            "Epoch (183/500): train_loss = 0.01734915, val_loss= 0.01133994\n",
            "Epoch (184/500): train_loss = 0.01867983, val_loss= 0.01460979\n",
            "Epoch (185/500): train_loss = 0.01791242, val_loss= 0.01204958\n",
            "Epoch (186/500): train_loss = 0.01785309, val_loss= 0.01102907\n",
            "Epoch (187/500): train_loss = 0.01650110, val_loss= 0.01090527\n",
            "Epoch (188/500): train_loss = 0.01734445, val_loss= 0.01088197\n",
            "Epoch (189/500): train_loss = 0.01684603, val_loss= 0.01362892\n",
            "Epoch (190/500): train_loss = 0.01747249, val_loss= 0.01081204\n",
            "Epoch (191/500): train_loss = 0.01708178, val_loss= 0.01091692\n",
            "Epoch (192/500): train_loss = 0.01605356, val_loss= 0.01090020\n",
            "Epoch (193/500): train_loss = 0.01654984, val_loss= 0.01057287\n",
            "Epoch (194/500): train_loss = 0.01689411, val_loss= 0.01052635\n",
            "Epoch (195/500): train_loss = 0.01639261, val_loss= 0.01050446\n",
            "Epoch (196/500): train_loss = 0.01653915, val_loss= 0.01074202\n",
            "Epoch (197/500): train_loss = 0.01633823, val_loss= 0.01047577\n",
            "Epoch (198/500): train_loss = 0.01686683, val_loss= 0.01041031\n",
            "Epoch (199/500): train_loss = 0.01627768, val_loss= 0.01032462\n",
            "Epoch (200/500): train_loss = 0.01635659, val_loss= 0.01029188\n",
            "Epoch (201/500): train_loss = 0.01593173, val_loss= 0.01062385\n",
            "Epoch (202/500): train_loss = 0.01734778, val_loss= 0.01021546\n",
            "Epoch (203/500): train_loss = 0.01590682, val_loss= 0.01009373\n",
            "Epoch (204/500): train_loss = 0.01613030, val_loss= 0.01013978\n",
            "Epoch (205/500): train_loss = 0.01573336, val_loss= 0.01025984\n",
            "Epoch (206/500): train_loss = 0.01586144, val_loss= 0.01022049\n",
            "Epoch (207/500): train_loss = 0.01650669, val_loss= 0.01038350\n",
            "Epoch (208/500): train_loss = 0.01539768, val_loss= 0.00988965\n",
            "Epoch (209/500): train_loss = 0.01592776, val_loss= 0.00982378\n",
            "Epoch (210/500): train_loss = 0.01571023, val_loss= 0.01009157\n",
            "Epoch (211/500): train_loss = 0.01573362, val_loss= 0.00979004\n",
            "Epoch (212/500): train_loss = 0.01506343, val_loss= 0.00967935\n",
            "Epoch (213/500): train_loss = 0.01518312, val_loss= 0.00980055\n",
            "Epoch (214/500): train_loss = 0.01553196, val_loss= 0.00971813\n",
            "Epoch (215/500): train_loss = 0.01487016, val_loss= 0.00955733\n",
            "Epoch (216/500): train_loss = 0.01581363, val_loss= 0.00984776\n",
            "Epoch (217/500): train_loss = 0.01515358, val_loss= 0.00961669\n",
            "Epoch (218/500): train_loss = 0.01533622, val_loss= 0.00956975\n",
            "Epoch (219/500): train_loss = 0.01548906, val_loss= 0.00941322\n",
            "Epoch (220/500): train_loss = 0.01499701, val_loss= 0.01048330\n",
            "Epoch (221/500): train_loss = 0.01514474, val_loss= 0.00957524\n",
            "Epoch (222/500): train_loss = 0.01490169, val_loss= 0.00926559\n",
            "Epoch (223/500): train_loss = 0.01460824, val_loss= 0.00925972\n",
            "Epoch (224/500): train_loss = 0.01513383, val_loss= 0.00918537\n",
            "Epoch (225/500): train_loss = 0.01461295, val_loss= 0.00929700\n",
            "Epoch (226/500): train_loss = 0.01450574, val_loss= 0.00909127\n",
            "Epoch (227/500): train_loss = 0.01482127, val_loss= 0.00912257\n",
            "Epoch (228/500): train_loss = 0.01449131, val_loss= 0.00903591\n",
            "Epoch (229/500): train_loss = 0.01440116, val_loss= 0.00898455\n",
            "Epoch (230/500): train_loss = 0.01418037, val_loss= 0.00911964\n",
            "Epoch (231/500): train_loss = 0.01419364, val_loss= 0.00889318\n",
            "Epoch (232/500): train_loss = 0.01491873, val_loss= 0.00897203\n",
            "Epoch (233/500): train_loss = 0.01452622, val_loss= 0.00980119\n",
            "Epoch (234/500): train_loss = 0.01350687, val_loss= 0.00952821\n",
            "Epoch (235/500): train_loss = 0.01414614, val_loss= 0.00935912\n",
            "Epoch (236/500): train_loss = 0.01387337, val_loss= 0.00914218\n",
            "Epoch (237/500): train_loss = 0.01405440, val_loss= 0.00865391\n",
            "Epoch (238/500): train_loss = 0.01375992, val_loss= 0.00861814\n",
            "Epoch (239/500): train_loss = 0.01386789, val_loss= 0.00859569\n",
            "Epoch (240/500): train_loss = 0.01342330, val_loss= 0.00893810\n",
            "Epoch (241/500): train_loss = 0.01380535, val_loss= 0.00897713\n",
            "Epoch (242/500): train_loss = 0.01377195, val_loss= 0.00877215\n",
            "Epoch (243/500): train_loss = 0.01379549, val_loss= 0.00854306\n",
            "Epoch (244/500): train_loss = 0.01354326, val_loss= 0.00850644\n",
            "Epoch (245/500): train_loss = 0.01349465, val_loss= 0.00916186\n",
            "Epoch (246/500): train_loss = 0.01399159, val_loss= 0.01026189\n",
            "Epoch (247/500): train_loss = 0.01375346, val_loss= 0.00903327\n",
            "Epoch (248/500): train_loss = 0.01371319, val_loss= 0.00985669\n",
            "Epoch (249/500): train_loss = 0.01406159, val_loss= 0.00863068\n",
            "Epoch (250/500): train_loss = 0.01302843, val_loss= 0.00827672\n",
            "Epoch (251/500): train_loss = 0.01381583, val_loss= 0.00820430\n",
            "Epoch (252/500): train_loss = 0.01310683, val_loss= 0.00819247\n",
            "Epoch (253/500): train_loss = 0.01396259, val_loss= 0.00844786\n",
            "Epoch (254/500): train_loss = 0.01327755, val_loss= 0.00859763\n",
            "Epoch (255/500): train_loss = 0.01337716, val_loss= 0.00829407\n",
            "Epoch (256/500): train_loss = 0.01321544, val_loss= 0.00819846\n",
            "Epoch (257/500): train_loss = 0.01322082, val_loss= 0.00816858\n",
            "Epoch (258/500): train_loss = 0.01312633, val_loss= 0.00808242\n",
            "Epoch (259/500): train_loss = 0.01286061, val_loss= 0.00827013\n",
            "Epoch (260/500): train_loss = 0.01315513, val_loss= 0.00842818\n",
            "Epoch (261/500): train_loss = 0.01352431, val_loss= 0.00802974\n",
            "Epoch (262/500): train_loss = 0.01308735, val_loss= 0.00823819\n",
            "Epoch (263/500): train_loss = 0.01281713, val_loss= 0.00786825\n",
            "Epoch (264/500): train_loss = 0.01275442, val_loss= 0.00781390\n",
            "Epoch (265/500): train_loss = 0.01282784, val_loss= 0.00774583\n",
            "Epoch (266/500): train_loss = 0.01249855, val_loss= 0.00784281\n",
            "Epoch (267/500): train_loss = 0.01252074, val_loss= 0.00782326\n",
            "Epoch (268/500): train_loss = 0.01229380, val_loss= 0.00830835\n",
            "Epoch (269/500): train_loss = 0.01259465, val_loss= 0.00815831\n",
            "Epoch (270/500): train_loss = 0.01258498, val_loss= 0.00761825\n",
            "Epoch (271/500): train_loss = 0.01258371, val_loss= 0.00755518\n",
            "Epoch (272/500): train_loss = 0.01253001, val_loss= 0.00769670\n",
            "Epoch (273/500): train_loss = 0.01220694, val_loss= 0.00764429\n",
            "Epoch (274/500): train_loss = 0.01269091, val_loss= 0.00767051\n",
            "Epoch (275/500): train_loss = 0.01268808, val_loss= 0.00832979\n",
            "Epoch (276/500): train_loss = 0.01247107, val_loss= 0.00755177\n",
            "Epoch (277/500): train_loss = 0.01234413, val_loss= 0.00785535\n",
            "Epoch (278/500): train_loss = 0.01215547, val_loss= 0.00736521\n",
            "Epoch (279/500): train_loss = 0.01206605, val_loss= 0.00792798\n",
            "Epoch (280/500): train_loss = 0.01216438, val_loss= 0.00730002\n",
            "Epoch (281/500): train_loss = 0.01240955, val_loss= 0.00763260\n",
            "Epoch (282/500): train_loss = 0.01231292, val_loss= 0.00772593\n",
            "Epoch (283/500): train_loss = 0.01204114, val_loss= 0.00733143\n",
            "Epoch (284/500): train_loss = 0.01222253, val_loss= 0.00728533\n",
            "Epoch (285/500): train_loss = 0.01171192, val_loss= 0.00753443\n",
            "Epoch (286/500): train_loss = 0.01229970, val_loss= 0.00715812\n",
            "Epoch (287/500): train_loss = 0.01231661, val_loss= 0.00717408\n",
            "Epoch (288/500): train_loss = 0.01208825, val_loss= 0.00744521\n",
            "Epoch (289/500): train_loss = 0.01204687, val_loss= 0.00853086\n",
            "Epoch (290/500): train_loss = 0.01208123, val_loss= 0.00736110\n",
            "Epoch (291/500): train_loss = 0.01157598, val_loss= 0.00710695\n",
            "Epoch (292/500): train_loss = 0.01159039, val_loss= 0.00701315\n",
            "Epoch (293/500): train_loss = 0.01138698, val_loss= 0.00708950\n",
            "Epoch (294/500): train_loss = 0.01156682, val_loss= 0.00711230\n",
            "Epoch (295/500): train_loss = 0.01162975, val_loss= 0.00722923\n",
            "Epoch (296/500): train_loss = 0.01198454, val_loss= 0.00688650\n",
            "Epoch (297/500): train_loss = 0.01162320, val_loss= 0.00692630\n",
            "Epoch (298/500): train_loss = 0.01153621, val_loss= 0.00703475\n",
            "Epoch (299/500): train_loss = 0.01204256, val_loss= 0.00681480\n",
            "Epoch (300/500): train_loss = 0.01167316, val_loss= 0.00684685\n",
            "Epoch (301/500): train_loss = 0.01215985, val_loss= 0.00739475\n",
            "Epoch (302/500): train_loss = 0.01141862, val_loss= 0.00705554\n",
            "Epoch (303/500): train_loss = 0.01164384, val_loss= 0.00672520\n",
            "Epoch (304/500): train_loss = 0.01146758, val_loss= 0.00696703\n",
            "Epoch (305/500): train_loss = 0.01132962, val_loss= 0.00675283\n",
            "Epoch (306/500): train_loss = 0.01114713, val_loss= 0.00746198\n",
            "Epoch (307/500): train_loss = 0.01145345, val_loss= 0.00703680\n",
            "Epoch (308/500): train_loss = 0.01108250, val_loss= 0.00677932\n",
            "Epoch (309/500): train_loss = 0.01192511, val_loss= 0.00716210\n",
            "Epoch (310/500): train_loss = 0.01135178, val_loss= 0.00717337\n",
            "Epoch (311/500): train_loss = 0.01140848, val_loss= 0.00686394\n",
            "Epoch (312/500): train_loss = 0.01158449, val_loss= 0.00671627\n",
            "Epoch (313/500): train_loss = 0.01107448, val_loss= 0.00690409\n",
            "Epoch (314/500): train_loss = 0.01091503, val_loss= 0.00650116\n",
            "Epoch (315/500): train_loss = 0.01137956, val_loss= 0.00651534\n",
            "Epoch (316/500): train_loss = 0.01107365, val_loss= 0.00680532\n",
            "Epoch (317/500): train_loss = 0.01079186, val_loss= 0.00641379\n",
            "Epoch (318/500): train_loss = 0.01108553, val_loss= 0.00691672\n",
            "Epoch (319/500): train_loss = 0.01109082, val_loss= 0.00654812\n",
            "Epoch (320/500): train_loss = 0.01081280, val_loss= 0.00659355\n",
            "Epoch (321/500): train_loss = 0.01061345, val_loss= 0.00638573\n",
            "Epoch (322/500): train_loss = 0.01127496, val_loss= 0.00632419\n",
            "Epoch (323/500): train_loss = 0.01078037, val_loss= 0.00693381\n",
            "Epoch (324/500): train_loss = 0.01082880, val_loss= 0.00647516\n",
            "Epoch (325/500): train_loss = 0.01052919, val_loss= 0.00652395\n",
            "Epoch (326/500): train_loss = 0.01080228, val_loss= 0.00621869\n",
            "Epoch (327/500): train_loss = 0.01117346, val_loss= 0.00624833\n",
            "Epoch (328/500): train_loss = 0.01099105, val_loss= 0.00650332\n",
            "Epoch (329/500): train_loss = 0.01056309, val_loss= 0.00615995\n",
            "Epoch (330/500): train_loss = 0.01089888, val_loss= 0.00627735\n",
            "Epoch (331/500): train_loss = 0.01029256, val_loss= 0.00691538\n",
            "Epoch (332/500): train_loss = 0.01088148, val_loss= 0.00655281\n",
            "Epoch (333/500): train_loss = 0.01041076, val_loss= 0.00705694\n",
            "Epoch (334/500): train_loss = 0.01041824, val_loss= 0.00614562\n",
            "Epoch (335/500): train_loss = 0.01007947, val_loss= 0.00604071\n",
            "Epoch (336/500): train_loss = 0.01075699, val_loss= 0.00632855\n",
            "Epoch (337/500): train_loss = 0.01054557, val_loss= 0.00630535\n",
            "Epoch (338/500): train_loss = 0.01036351, val_loss= 0.00609191\n",
            "Epoch (339/500): train_loss = 0.01046911, val_loss= 0.00620304\n",
            "Epoch (340/500): train_loss = 0.01033286, val_loss= 0.00612201\n",
            "Epoch (341/500): train_loss = 0.01044462, val_loss= 0.00594287\n",
            "Epoch (342/500): train_loss = 0.01068532, val_loss= 0.00613088\n",
            "Epoch (343/500): train_loss = 0.01002920, val_loss= 0.00592234\n",
            "Epoch (344/500): train_loss = 0.00993285, val_loss= 0.00720438\n",
            "Epoch (345/500): train_loss = 0.01030418, val_loss= 0.00624054\n",
            "Epoch (346/500): train_loss = 0.01039984, val_loss= 0.00614281\n",
            "Epoch (347/500): train_loss = 0.01001822, val_loss= 0.00619743\n",
            "Epoch (348/500): train_loss = 0.01007247, val_loss= 0.00628330\n",
            "Epoch (349/500): train_loss = 0.01051845, val_loss= 0.00625794\n",
            "Epoch (350/500): train_loss = 0.00990001, val_loss= 0.00585982\n",
            "Epoch (351/500): train_loss = 0.01013098, val_loss= 0.00572939\n",
            "Epoch (352/500): train_loss = 0.00989315, val_loss= 0.00573446\n",
            "Epoch (353/500): train_loss = 0.00985850, val_loss= 0.00573694\n",
            "Epoch (354/500): train_loss = 0.00949769, val_loss= 0.00583206\n",
            "Epoch (355/500): train_loss = 0.01002293, val_loss= 0.00568718\n",
            "Epoch (356/500): train_loss = 0.01011139, val_loss= 0.00569762\n",
            "Epoch (357/500): train_loss = 0.00994475, val_loss= 0.00601269\n",
            "Epoch (358/500): train_loss = 0.00973664, val_loss= 0.00572337\n",
            "Epoch (359/500): train_loss = 0.00971581, val_loss= 0.00630662\n",
            "Epoch (360/500): train_loss = 0.00989484, val_loss= 0.00572134\n",
            "Epoch (361/500): train_loss = 0.00990651, val_loss= 0.00616890\n",
            "Epoch (362/500): train_loss = 0.00966218, val_loss= 0.00603577\n",
            "Epoch (363/500): train_loss = 0.01007523, val_loss= 0.00567378\n",
            "Epoch (364/500): train_loss = 0.00966709, val_loss= 0.00550894\n",
            "Epoch (365/500): train_loss = 0.00999067, val_loss= 0.00551616\n",
            "Epoch (366/500): train_loss = 0.00981666, val_loss= 0.00565663\n",
            "Epoch (367/500): train_loss = 0.00950427, val_loss= 0.00594484\n",
            "Epoch (368/500): train_loss = 0.01029029, val_loss= 0.00594549\n",
            "Epoch (369/500): train_loss = 0.00947539, val_loss= 0.00545183\n",
            "Epoch (370/500): train_loss = 0.00970723, val_loss= 0.00550624\n",
            "Epoch (371/500): train_loss = 0.00962435, val_loss= 0.00542051\n",
            "Epoch (372/500): train_loss = 0.00946049, val_loss= 0.00569764\n",
            "Epoch (373/500): train_loss = 0.00991508, val_loss= 0.00591398\n",
            "Epoch (374/500): train_loss = 0.00922933, val_loss= 0.00535915\n",
            "Epoch (375/500): train_loss = 0.00928641, val_loss= 0.00533209\n",
            "Epoch (376/500): train_loss = 0.00963419, val_loss= 0.00567349\n",
            "Epoch (377/500): train_loss = 0.00941505, val_loss= 0.00554101\n",
            "Epoch (378/500): train_loss = 0.00927806, val_loss= 0.00532410\n",
            "Epoch (379/500): train_loss = 0.00949289, val_loss= 0.00563220\n",
            "Epoch (380/500): train_loss = 0.00944883, val_loss= 0.00535677\n",
            "Epoch (381/500): train_loss = 0.00954742, val_loss= 0.00586467\n",
            "Epoch (382/500): train_loss = 0.00918660, val_loss= 0.00521951\n",
            "Epoch (383/500): train_loss = 0.00924632, val_loss= 0.00536540\n",
            "Epoch (384/500): train_loss = 0.00955331, val_loss= 0.00538468\n",
            "Epoch (385/500): train_loss = 0.00928216, val_loss= 0.00547896\n",
            "Epoch (386/500): train_loss = 0.00934260, val_loss= 0.00545411\n",
            "Epoch (387/500): train_loss = 0.00930829, val_loss= 0.00543315\n",
            "Epoch (388/500): train_loss = 0.00903969, val_loss= 0.00585362\n",
            "Epoch (389/500): train_loss = 0.00920914, val_loss= 0.00522417\n",
            "Epoch (390/500): train_loss = 0.00935425, val_loss= 0.00527310\n",
            "Epoch (391/500): train_loss = 0.00926695, val_loss= 0.00519565\n",
            "Epoch (392/500): train_loss = 0.00914029, val_loss= 0.00521232\n",
            "Epoch (393/500): train_loss = 0.00925170, val_loss= 0.00505739\n",
            "Epoch (394/500): train_loss = 0.00933077, val_loss= 0.00511163\n",
            "Epoch (395/500): train_loss = 0.00912575, val_loss= 0.00546902\n",
            "Epoch (396/500): train_loss = 0.00897623, val_loss= 0.00505872\n",
            "Epoch (397/500): train_loss = 0.00913382, val_loss= 0.00525626\n",
            "Epoch (398/500): train_loss = 0.00896237, val_loss= 0.00499136\n",
            "Epoch (399/500): train_loss = 0.00909778, val_loss= 0.00507977\n",
            "Epoch (400/500): train_loss = 0.00903336, val_loss= 0.00496542\n",
            "Epoch (401/500): train_loss = 0.00940828, val_loss= 0.00521781\n",
            "Epoch (402/500): train_loss = 0.00879769, val_loss= 0.00520801\n",
            "Epoch (403/500): train_loss = 0.00890733, val_loss= 0.00523321\n",
            "Epoch (404/500): train_loss = 0.00891504, val_loss= 0.00522490\n",
            "Epoch (405/500): train_loss = 0.00895258, val_loss= 0.00508111\n",
            "Epoch (406/500): train_loss = 0.00853794, val_loss= 0.00493079\n",
            "Epoch (407/500): train_loss = 0.00900121, val_loss= 0.00499078\n",
            "Epoch (408/500): train_loss = 0.00863011, val_loss= 0.00500703\n",
            "Epoch (409/500): train_loss = 0.00871089, val_loss= 0.00482885\n",
            "Epoch (410/500): train_loss = 0.00875082, val_loss= 0.00491252\n",
            "Epoch (411/500): train_loss = 0.00891348, val_loss= 0.00498798\n",
            "Epoch (412/500): train_loss = 0.00871584, val_loss= 0.00487049\n",
            "Epoch (413/500): train_loss = 0.00841386, val_loss= 0.00478127\n",
            "Epoch (414/500): train_loss = 0.00862777, val_loss= 0.00518742\n",
            "Epoch (415/500): train_loss = 0.00862182, val_loss= 0.00496064\n",
            "Epoch (416/500): train_loss = 0.00855067, val_loss= 0.00515575\n",
            "Epoch (417/500): train_loss = 0.00884603, val_loss= 0.00500320\n",
            "Epoch (418/500): train_loss = 0.00878068, val_loss= 0.00499243\n",
            "Epoch (419/500): train_loss = 0.00848601, val_loss= 0.00483905\n",
            "Epoch (420/500): train_loss = 0.00864205, val_loss= 0.00473031\n",
            "Epoch (421/500): train_loss = 0.00842709, val_loss= 0.00475146\n",
            "Epoch (422/500): train_loss = 0.00859089, val_loss= 0.00493580\n",
            "Epoch (423/500): train_loss = 0.00864160, val_loss= 0.00476395\n",
            "Epoch (424/500): train_loss = 0.00847607, val_loss= 0.00499080\n",
            "Epoch (425/500): train_loss = 0.00830122, val_loss= 0.00480550\n",
            "Epoch (426/500): train_loss = 0.00856578, val_loss= 0.00467283\n",
            "Epoch (427/500): train_loss = 0.00856755, val_loss= 0.00470957\n",
            "Epoch (428/500): train_loss = 0.00821372, val_loss= 0.00505961\n",
            "Epoch (429/500): train_loss = 0.00853985, val_loss= 0.00523285\n",
            "Epoch (430/500): train_loss = 0.00874890, val_loss= 0.00470508\n",
            "Epoch (431/500): train_loss = 0.00838002, val_loss= 0.00476210\n",
            "Epoch (432/500): train_loss = 0.00839673, val_loss= 0.00503504\n",
            "Epoch (433/500): train_loss = 0.00840313, val_loss= 0.00460986\n",
            "Epoch (434/500): train_loss = 0.00828667, val_loss= 0.00453222\n",
            "Epoch (435/500): train_loss = 0.00836731, val_loss= 0.00453013\n",
            "Epoch (436/500): train_loss = 0.00831051, val_loss= 0.00489448\n",
            "Epoch (437/500): train_loss = 0.00821823, val_loss= 0.00467156\n",
            "Epoch (438/500): train_loss = 0.00828225, val_loss= 0.00456658\n",
            "Epoch (439/500): train_loss = 0.00820328, val_loss= 0.00468944\n",
            "Epoch (440/500): train_loss = 0.00827422, val_loss= 0.00466856\n",
            "Epoch (441/500): train_loss = 0.00812984, val_loss= 0.00514078\n",
            "Epoch (442/500): train_loss = 0.00837816, val_loss= 0.00470757\n",
            "Epoch (443/500): train_loss = 0.00814127, val_loss= 0.00454785\n",
            "Epoch (444/500): train_loss = 0.00811480, val_loss= 0.00449698\n",
            "Epoch (445/500): train_loss = 0.00802919, val_loss= 0.00470086\n",
            "Epoch (446/500): train_loss = 0.00808484, val_loss= 0.00446809\n",
            "Epoch (447/500): train_loss = 0.00810205, val_loss= 0.00457838\n",
            "Epoch (448/500): train_loss = 0.00825090, val_loss= 0.00436535\n",
            "Epoch (449/500): train_loss = 0.00809421, val_loss= 0.00449964\n",
            "Epoch (450/500): train_loss = 0.00801805, val_loss= 0.00435801\n",
            "Epoch (451/500): train_loss = 0.00820129, val_loss= 0.00442263\n",
            "Epoch (452/500): train_loss = 0.00785180, val_loss= 0.00496815\n",
            "Epoch (453/500): train_loss = 0.00787763, val_loss= 0.00431259\n",
            "Epoch (454/500): train_loss = 0.00815504, val_loss= 0.00433298\n",
            "Epoch (455/500): train_loss = 0.00791514, val_loss= 0.00427184\n",
            "Epoch (456/500): train_loss = 0.00792056, val_loss= 0.00437918\n",
            "Epoch (457/500): train_loss = 0.00776288, val_loss= 0.00438217\n",
            "Epoch (458/500): train_loss = 0.00801041, val_loss= 0.00434095\n",
            "Epoch (459/500): train_loss = 0.00770810, val_loss= 0.00463956\n",
            "Epoch (460/500): train_loss = 0.00820935, val_loss= 0.00441869\n",
            "Epoch (461/500): train_loss = 0.00795340, val_loss= 0.00434462\n",
            "Epoch (462/500): train_loss = 0.00770949, val_loss= 0.00433429\n",
            "Epoch (463/500): train_loss = 0.00776281, val_loss= 0.00459186\n",
            "Epoch (464/500): train_loss = 0.00760047, val_loss= 0.00514359\n",
            "Epoch (465/500): train_loss = 0.00813550, val_loss= 0.00475357\n",
            "Epoch (466/500): train_loss = 0.00772903, val_loss= 0.00463240\n",
            "Epoch (467/500): train_loss = 0.00765136, val_loss= 0.00418917\n",
            "Epoch (468/500): train_loss = 0.00778018, val_loss= 0.00416265\n",
            "Epoch (469/500): train_loss = 0.00781319, val_loss= 0.00421324\n",
            "Epoch (470/500): train_loss = 0.00774140, val_loss= 0.00465259\n",
            "Epoch (471/500): train_loss = 0.00770871, val_loss= 0.00519197\n",
            "Epoch (472/500): train_loss = 0.00785972, val_loss= 0.00461801\n",
            "Epoch (473/500): train_loss = 0.00781152, val_loss= 0.00483483\n",
            "Epoch (474/500): train_loss = 0.00762734, val_loss= 0.00407354\n",
            "Epoch (475/500): train_loss = 0.00782141, val_loss= 0.00408610\n",
            "Epoch (476/500): train_loss = 0.00773260, val_loss= 0.00457539\n",
            "Epoch (477/500): train_loss = 0.00782188, val_loss= 0.00459651\n",
            "Epoch (478/500): train_loss = 0.00797973, val_loss= 0.00423486\n",
            "Epoch (479/500): train_loss = 0.00745946, val_loss= 0.00406559\n",
            "Epoch (480/500): train_loss = 0.00777247, val_loss= 0.00431442\n",
            "Epoch (481/500): train_loss = 0.00793586, val_loss= 0.00448481\n",
            "Epoch (482/500): train_loss = 0.00743255, val_loss= 0.00468824\n",
            "Epoch (483/500): train_loss = 0.00747997, val_loss= 0.00401459\n",
            "Epoch (484/500): train_loss = 0.00774453, val_loss= 0.00403547\n",
            "Epoch (485/500): train_loss = 0.00744870, val_loss= 0.00425532\n",
            "Epoch (486/500): train_loss = 0.00781512, val_loss= 0.00412610\n",
            "Epoch (487/500): train_loss = 0.00734720, val_loss= 0.00424020\n",
            "Epoch (488/500): train_loss = 0.00741833, val_loss= 0.00406008\n",
            "Epoch (489/500): train_loss = 0.00770820, val_loss= 0.00407870\n",
            "Epoch (490/500): train_loss = 0.00732913, val_loss= 0.00441426\n",
            "Epoch (491/500): train_loss = 0.00748134, val_loss= 0.00409592\n",
            "Epoch (492/500): train_loss = 0.00753945, val_loss= 0.00391970\n",
            "Epoch (493/500): train_loss = 0.00770477, val_loss= 0.00422889\n",
            "Epoch (494/500): train_loss = 0.00731490, val_loss= 0.00390434\n",
            "Epoch (495/500): train_loss = 0.00735036, val_loss= 0.00407833\n",
            "Epoch (496/500): train_loss = 0.00715653, val_loss= 0.00388633\n",
            "Epoch (497/500): train_loss = 0.00735523, val_loss= 0.00390763\n",
            "Epoch (498/500): train_loss = 0.00732492, val_loss= 0.00415058\n",
            "Epoch (499/500): train_loss = 0.00758226, val_loss= 0.00466382\n",
            "Epoch (500/500): train_loss = 0.00737585, val_loss= 0.00407527\n"
          ]
        }
      ]
    },
    {
      "cell_type": "markdown",
      "metadata": {
        "id": "FkyS3P5Pxci4"
      },
      "source": [
        "Como se puede observar, tanto el error de entrenamiento como el de validación comienzan a bajar, lo que nos indica que el entrenamiento se esta realizando de forma correcta."
      ]
    },
    {
      "cell_type": "markdown",
      "metadata": {
        "id": "3vxeeRbVxfbz"
      },
      "source": [
        "### Predicción (0.5 puntos)\n",
        "\n",
        "Las predicciones actuales son probabilidades. Sin embargo, en clasificación estamos interesados en valores discretos, en este caso nos interesan valores 0 y 1. Por lo tanto, podemos usar un threshold, si las probabilidades de predicción son mayores que ese threshold entonces clasificamos esos datos como clase 1 sino como clase 0. "
      ]
    },
    {
      "cell_type": "code",
      "metadata": {
        "id": "jV0Dw7y3xkwc"
      },
      "source": [
        "def predict(X, model, threshold=0.5):\n",
        "  \"\"\" \n",
        "     Este método predice si la etiqueta es 0 o 1 utilizando los parámetros\n",
        "     del modelo (w, b) y un threshold\n",
        "\n",
        "    Args:\n",
        "      - X: tensor de dimensión (n x m), donde n es el número de datos y m\n",
        "           es el número de características\n",
        "      - model: modelo que recibe la data de entrada y devuelve probabilidades\n",
        "      - threshold: umbral para obtener valores discretos a partir de probabilidades\n",
        "\n",
        "    Returns:\n",
        "      - y_pred: tensor de dimensión (n x 1), representando las predicciones\n",
        "                con valores 0 o 1. No probabilidades.\n",
        "  \"\"\"    \n",
        "  # Debido a que en esta fase no actualizamos los parámetros\n",
        "  # no es necesario usar los gradientes\n",
        "  with torch.no_grad():\n",
        "    #TODO: Obtenga probabilidades a partir del modelo\n",
        "    y_prob = model(X)\n",
        "\n",
        "    #TODO: Convierta las probabilidades en 0 (si activación < threshold) o \n",
        "    # 1 (si activación >= threshold), almacenar las predicciones en un tensor y_pred\n",
        "    #      Se recomienda implementar la versión vectorizada (sin bucles)\n",
        "    y_pred = torch.where(y_prob<threshold,0,1)\n",
        "  \n",
        "  assert(y_pred.shape == y_prob.shape)\n",
        "  return y_pred "
      ],
      "execution_count": null,
      "outputs": []
    },
    {
      "cell_type": "code",
      "metadata": {
        "id": "Qc6sqlBNGTlZ"
      },
      "source": [
        "# Probemos la implementación\n",
        "y_pred_val = predict(X_val, model)"
      ],
      "execution_count": null,
      "outputs": []
    },
    {
      "cell_type": "markdown",
      "metadata": {
        "id": "HDI3e_KDxwtI"
      },
      "source": [
        "Podemos visualizar el límite de decisión, para ello será necesario acceder a los pesos y bias del modelo"
      ]
    },
    {
      "cell_type": "code",
      "metadata": {
        "id": "lu8Di2Mmx1bM",
        "colab": {
          "base_uri": "https://localhost:8080/",
          "height": 265
        },
        "outputId": "54260791-1f89-4e2e-e882-6bc00acb5bbe"
      },
      "source": [
        "# Accedemos a los pesos y bias, cambiamos las dimensinoes de los pesos acorde\n",
        "# a la implementación inicial\n",
        "w_model = model.linear.weight.reshape(-1, 1).detach()\n",
        "b_model = model.linear.bias.detach()\n",
        "plot_decision_boundary(X_val, y_pred_val, w_model, b_model)"
      ],
      "execution_count": null,
      "outputs": [
        {
          "output_type": "display_data",
          "data": {
            "image/png": "[encoded data removed]",
            "text/plain": [
              "<Figure size 432x288 with 1 Axes>"
            ]
          },
          "metadata": {
            "needs_background": "light"
          }
        }
      ]
    },
    {
      "cell_type": "markdown",
      "metadata": {
        "id": "bphOjgZdzvcx"
      },
      "source": [
        "### Métrica de Evaluación (0.5 puntos)\n",
        "\n",
        "La implementación realizada en la primera parte es válida para esta sección. Por lo tanto, solo deberá usar el método 'accuracy' para mostrar los resultados finales."
      ]
    },
    {
      "cell_type": "code",
      "metadata": {
        "id": "L05EGdS9z70j",
        "colab": {
          "base_uri": "https://localhost:8080/"
        },
        "outputId": "8ef5c7ae-4a01-4dcd-b471-cf26d1cb34a0"
      },
      "source": [
        "# TODO: Obtenga predicciones discretas para la data entrenamiento y validación\n",
        "y_pred_val = predict(X_val, model)\n",
        "y_pred_train = predict(X_train, model)\n",
        "\n",
        "# TODO: Calcule el accuracy de ambas predicciones\n",
        "train_acc = accuracy(y_val,y_pred_val)\n",
        "val_acc = accuracy(y_train,y_pred_train)\n",
        "\n",
        "print(f'accuracy: entrenamiento={train_acc:.5f}, validación={val_acc:.5f}')"
      ],
      "execution_count": null,
      "outputs": [
        {
          "output_type": "stream",
          "name": "stdout",
          "text": [
            "accuracy: entrenamiento=1.00000, validación=1.00000\n"
          ]
        }
      ]
    },
    {
      "cell_type": "markdown",
      "metadata": {
        "id": "A2qMijMWCKt1"
      },
      "source": [
        "Podemos observar que el accuracy es perfecto debido a que el conjunto de datos sintético es linealmente separable y es fácil de clasificar."
      ]
    },
    {
      "cell_type": "markdown",
      "metadata": {
        "id": "0xTopmGh1IOk"
      },
      "source": [
        "### Prueba Final (0.5 puntos)\n",
        "\n",
        "Es momento de realizar predicciones finales para la data de prueba (test)."
      ]
    },
    {
      "cell_type": "code",
      "metadata": {
        "id": "yXmfnq-D1WCa",
        "colab": {
          "base_uri": "https://localhost:8080/"
        },
        "outputId": "a72d3d21-62ce-43dc-c007-6d5b3525c909"
      },
      "source": [
        "# TODO: Obtenga predicciones discretas para la data de prueba\n",
        "y_pred_test = predict(X_test, model)\n",
        "\n",
        "# TODO: Calcule el accuracy de la data de prueba\n",
        "test_acc = accuracy(y_test,y_pred_test)\n",
        "\n",
        "print(f'Accuracy de data de prueba={test_acc:.5f}')\n"
      ],
      "execution_count": null,
      "outputs": [
        {
          "output_type": "stream",
          "name": "stdout",
          "text": [
            "Accuracy de data de prueba=0.99500\n"
          ]
        }
      ]
    }
  ]
}