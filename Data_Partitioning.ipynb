{
  "nbformat": 4,
  "nbformat_minor": 2,
  "metadata": {
    "colab": {
      "name": "DiegoMiranda_TA1.ipynb",
      "provenance": [],
      "collapsed_sections": [],
      "include_colab_link": true
    },
    "kernelspec": {
      "display_name": "Python 3",
      "name": "python3"
    },
    "language_info": {
      "name": "python"
    }
  },
  "cells": [
    {
      "cell_type": "markdown",
      "source": [
        "<a href=\"https://colab.research.google.com/github/Malvodio/DeepHistory/blob/main/Data_Partitioning.ipynb\" target=\"_parent\"><img src=\"https://colab.research.google.com/assets/colab-badge.svg\" alt=\"Open In Colab\"/></a>"
      ],
      "metadata": {
        "id": "view-in-github",
        "colab_type": "text"
      }
    },
    {
      "cell_type": "code",
      "execution_count": null,
      "source": [
        "%matplotlib inline\r\n",
        "import torch # operaciones sobre tensores\r\n",
        "import random # para números aleatorios"
      ],
      "outputs": [],
      "metadata": {
        "id": "q5ven54VJgzg"
      }
    },
    {
      "cell_type": "markdown",
      "source": [
        "## Seeds para reproducibilidad\n",
        "\n",
        "Un paso muy importante a la hora de implementar nuestros modelos es el uso de `seeds` que permitirá reproducir los resultados obtenidos."
      ],
      "metadata": {
        "id": "pk4-SHPOWEIu"
      }
    },
    {
      "cell_type": "code",
      "execution_count": null,
      "source": [
        "# Función para establecer el \"seed\"\r\n",
        "def set_seed(seed):\r\n",
        "  random.seed(seed)        # seed para generación de números aleatorios\r\n",
        "  torch.manual_seed(seed)  # seed de torch\r\n",
        "\r\n",
        "set_seed(42)"
      ],
      "outputs": [],
      "metadata": {
        "id": "06tqtCEHWZ68"
      }
    },
    {
      "cell_type": "markdown",
      "source": [
        "#### Partitioning on mini batches\r\n",
        "\r\n",
        "<p align=\"center\">\r\n",
        "<img src=\"https://drive.google.com/file/d/1nT4K74Ouxj08r6Mdat5Km6WCpB6k3ZGx/preview\" width=\"800px\" />\r\n",
        "<p/>\r\n"
      ],
      "metadata": {
        "id": "YC-_BIkaIBay"
      }
    },
    {
      "cell_type": "code",
      "execution_count": null,
      "source": [
        "def data_iter(X, y, batch_size, shuffle=True):\r\n",
        "  \"\"\"\r\n",
        "    Este método particiona la data en mini lotes de forma aleatoria acorde al \r\n",
        "    batch_size. En caso el número de datos, n, no sea divisible por el batch_size,\r\n",
        "    considerar los datos faltantes como un lote. Por ejemplo: Si n = 11 y \r\n",
        "    batch_size=3 entonces tenemos tres lotes con 3 muestras y un lote con 2 muestras\r\n",
        "\r\n",
        "    Args:\r\n",
        "      - X: tensor de dimensión (n, m), donde n es el número de datos y m\r\n",
        "           es el número de características\r\n",
        "      - y: tensor de dimensión (n, 1), representando los valores reales\r\n",
        "      - batch_size: tamaño de cada lote\r\n",
        "      - shuffle: True para que los datos se aleatoricen en cada época\r\n",
        "\r\n",
        "    Returns:\r\n",
        "      - Los lotes actuales mediante 'yield' para usar el método como iterador\r\n",
        "  \"\"\"\r\n",
        "  n = X.shape[0]\r\n",
        "  \r\n",
        "  if shuffle:    \r\n",
        "    indices = torch.randperm(n)\r\n",
        "  else:\r\n",
        "    indices = range(n)\r\n",
        "\r\n",
        "  # Iteramos sobre los datos considerando el tamaño de cada lote (batch_size)\r\n",
        "  for i in range(0, n, batch_size):\r\n",
        "    \r\n",
        "    batch_indices = indices[i:i+batch_size if i+batch_size <=n else n]\r\n",
        "    X_batch, y_batch = X[batch_indices,:],y[batch_indices,:]\r\n",
        "    yield X_batch, y_batch"
      ],
      "outputs": [],
      "metadata": {
        "id": "X4yR-xedMhM1"
      }
    },
    {
      "cell_type": "markdown",
      "source": [
        "Probaremos la implementación mostrando el tamaño de cada lote:"
      ],
      "metadata": {
        "id": "NwpOIVifMmBr"
      }
    },
    {
      "cell_type": "code",
      "execution_count": null,
      "source": [
        "# Tamaño de cada lote\r\n",
        "batch_size = 32\r\n",
        "\r\n",
        "# Número total de muestras\r\n",
        "total_samples = 0\r\n",
        "\r\n",
        "# Iteramos sobre todos los datos y mostramos el tamaño de cada lote\r\n",
        "for i, (X_batch, y_batch) in enumerate(data_iter(X_train, y_train, batch_size), 1):\r\n",
        "  total_samples += X_batch.shape[0]\r\n",
        "  print(f'Lote {i} tiene tamaño {X_batch.shape[0]}')\r\n",
        "\r\n",
        "if total_samples == X_train.shape[0]:\r\n",
        "  print(':) El número total de muestras por lotes es correcto.')\r\n",
        "else:\r\n",
        "  print(':( El número total de muestras por lotes difiere del total de muestras.')"
      ],
      "outputs": [
        {
          "output_type": "stream",
          "name": "stdout",
          "text": [
            "Lote 1 tiene tamaño 32\n",
            "Lote 2 tiene tamaño 32\n",
            "Lote 3 tiene tamaño 32\n",
            "Lote 4 tiene tamaño 32\n",
            "Lote 5 tiene tamaño 32\n",
            "Lote 6 tiene tamaño 32\n",
            "Lote 7 tiene tamaño 32\n",
            "Lote 8 tiene tamaño 32\n",
            "Lote 9 tiene tamaño 32\n",
            "Lote 10 tiene tamaño 32\n",
            "Lote 11 tiene tamaño 32\n",
            "Lote 12 tiene tamaño 32\n",
            "Lote 13 tiene tamaño 32\n",
            "Lote 14 tiene tamaño 32\n",
            "Lote 15 tiene tamaño 32\n",
            "Lote 16 tiene tamaño 32\n",
            "Lote 17 tiene tamaño 32\n",
            "Lote 18 tiene tamaño 32\n",
            "Lote 19 tiene tamaño 24\n",
            ":) El número total de muestras por lotes es correcto.\n"
          ]
        }
      ],
      "metadata": {
        "id": "USiYGTuVMmLh",
        "colab": {
          "base_uri": "https://localhost:8080/"
        },
        "outputId": "f64da6f3-ce68-484b-e38b-d577b4c28684"
      }
    }
  ]
}