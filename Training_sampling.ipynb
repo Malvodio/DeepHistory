{
  "nbformat": 4,
  "nbformat_minor": 0,
  "metadata": {
    "colab": {
      "name": "DiegoMiranda_TA1.ipynb",
      "provenance": [],
      "collapsed_sections": [],
      "include_colab_link": true
    },
    "kernelspec": {
      "display_name": "Python 3",
      "name": "python3"
    },
    "language_info": {
      "name": "python"
    },
    "accelerator": "GPU",
    "widgets": {
      "application/vnd.jupyter.widget-state+json": {
        "bfb3a9bdbbbb479e831bf0d0b86017bd": {
          "model_module": "@jupyter-widgets/controls",
          "model_name": "HBoxModel",
          "model_module_version": "1.5.0",
          "state": {
            "_view_name": "HBoxView",
            "_dom_classes": [],
            "_model_name": "HBoxModel",
            "_view_module": "@jupyter-widgets/controls",
            "_model_module_version": "1.5.0",
            "_view_count": null,
            "_view_module_version": "1.5.0",
            "box_style": "",
            "layout": "IPY_MODEL_4b554bf7d76742e1a2527cb2bfdbfc63",
            "_model_module": "@jupyter-widgets/controls",
            "children": [
              "IPY_MODEL_9aa61b43548e490498195beb8b3b4be9",
              "IPY_MODEL_03e5463efd4441598cab3c8a827afa2b",
              "IPY_MODEL_541a3dcf254b41968944a04fc66db6cc"
            ]
          }
        },
        "4b554bf7d76742e1a2527cb2bfdbfc63": {
          "model_module": "@jupyter-widgets/base",
          "model_name": "LayoutModel",
          "model_module_version": "1.2.0",
          "state": {
            "_view_name": "LayoutView",
            "grid_template_rows": null,
            "right": null,
            "justify_content": null,
            "_view_module": "@jupyter-widgets/base",
            "overflow": null,
            "_model_module_version": "1.2.0",
            "_view_count": null,
            "flex_flow": null,
            "width": null,
            "min_width": null,
            "border": null,
            "align_items": null,
            "bottom": null,
            "_model_module": "@jupyter-widgets/base",
            "top": null,
            "grid_column": null,
            "overflow_y": null,
            "overflow_x": null,
            "grid_auto_flow": null,
            "grid_area": null,
            "grid_template_columns": null,
            "flex": null,
            "_model_name": "LayoutModel",
            "justify_items": null,
            "grid_row": null,
            "max_height": null,
            "align_content": null,
            "visibility": null,
            "align_self": null,
            "height": null,
            "min_height": null,
            "padding": null,
            "grid_auto_rows": null,
            "grid_gap": null,
            "max_width": null,
            "order": null,
            "_view_module_version": "1.2.0",
            "grid_template_areas": null,
            "object_position": null,
            "object_fit": null,
            "grid_auto_columns": null,
            "margin": null,
            "display": null,
            "left": null
          }
        },
        "9aa61b43548e490498195beb8b3b4be9": {
          "model_module": "@jupyter-widgets/controls",
          "model_name": "HTMLModel",
          "model_module_version": "1.5.0",
          "state": {
            "_view_name": "HTMLView",
            "style": "IPY_MODEL_6f7f7237e321415683e86414e4c6582c",
            "_dom_classes": [],
            "description": "",
            "_model_name": "HTMLModel",
            "placeholder": "​",
            "_view_module": "@jupyter-widgets/controls",
            "_model_module_version": "1.5.0",
            "value": "100%",
            "_view_count": null,
            "_view_module_version": "1.5.0",
            "description_tooltip": null,
            "_model_module": "@jupyter-widgets/controls",
            "layout": "IPY_MODEL_10d9c2653fc04b9588f2067a8968e8aa"
          }
        },
        "03e5463efd4441598cab3c8a827afa2b": {
          "model_module": "@jupyter-widgets/controls",
          "model_name": "FloatProgressModel",
          "model_module_version": "1.5.0",
          "state": {
            "_view_name": "ProgressView",
            "style": "IPY_MODEL_a909fa4e868a4508b8994d60fb8b12d2",
            "_dom_classes": [],
            "description": "",
            "_model_name": "FloatProgressModel",
            "bar_style": "success",
            "max": 574673361,
            "_view_module": "@jupyter-widgets/controls",
            "_model_module_version": "1.5.0",
            "value": 574673361,
            "_view_count": null,
            "_view_module_version": "1.5.0",
            "orientation": "horizontal",
            "min": 0,
            "description_tooltip": null,
            "_model_module": "@jupyter-widgets/controls",
            "layout": "IPY_MODEL_6586d36b36c74e2dbd9e6a369b571cda"
          }
        },
        "541a3dcf254b41968944a04fc66db6cc": {
          "model_module": "@jupyter-widgets/controls",
          "model_name": "HTMLModel",
          "model_module_version": "1.5.0",
          "state": {
            "_view_name": "HTMLView",
            "style": "IPY_MODEL_ead7f2fb1c38433dba04033cc6c8b9ea",
            "_dom_classes": [],
            "description": "",
            "_model_name": "HTMLModel",
            "placeholder": "​",
            "_view_module": "@jupyter-widgets/controls",
            "_model_module_version": "1.5.0",
            "value": " 548M/548M [00:11&lt;00:00, 42.5MB/s]",
            "_view_count": null,
            "_view_module_version": "1.5.0",
            "description_tooltip": null,
            "_model_module": "@jupyter-widgets/controls",
            "layout": "IPY_MODEL_d88b9524190148d0bf83c56696e2aec0"
          }
        },
        "6f7f7237e321415683e86414e4c6582c": {
          "model_module": "@jupyter-widgets/controls",
          "model_name": "DescriptionStyleModel",
          "model_module_version": "1.5.0",
          "state": {
            "_view_name": "StyleView",
            "_model_name": "DescriptionStyleModel",
            "description_width": "",
            "_view_module": "@jupyter-widgets/base",
            "_model_module_version": "1.5.0",
            "_view_count": null,
            "_view_module_version": "1.2.0",
            "_model_module": "@jupyter-widgets/controls"
          }
        },
        "10d9c2653fc04b9588f2067a8968e8aa": {
          "model_module": "@jupyter-widgets/base",
          "model_name": "LayoutModel",
          "model_module_version": "1.2.0",
          "state": {
            "_view_name": "LayoutView",
            "grid_template_rows": null,
            "right": null,
            "justify_content": null,
            "_view_module": "@jupyter-widgets/base",
            "overflow": null,
            "_model_module_version": "1.2.0",
            "_view_count": null,
            "flex_flow": null,
            "width": null,
            "min_width": null,
            "border": null,
            "align_items": null,
            "bottom": null,
            "_model_module": "@jupyter-widgets/base",
            "top": null,
            "grid_column": null,
            "overflow_y": null,
            "overflow_x": null,
            "grid_auto_flow": null,
            "grid_area": null,
            "grid_template_columns": null,
            "flex": null,
            "_model_name": "LayoutModel",
            "justify_items": null,
            "grid_row": null,
            "max_height": null,
            "align_content": null,
            "visibility": null,
            "align_self": null,
            "height": null,
            "min_height": null,
            "padding": null,
            "grid_auto_rows": null,
            "grid_gap": null,
            "max_width": null,
            "order": null,
            "_view_module_version": "1.2.0",
            "grid_template_areas": null,
            "object_position": null,
            "object_fit": null,
            "grid_auto_columns": null,
            "margin": null,
            "display": null,
            "left": null
          }
        },
        "a909fa4e868a4508b8994d60fb8b12d2": {
          "model_module": "@jupyter-widgets/controls",
          "model_name": "ProgressStyleModel",
          "model_module_version": "1.5.0",
          "state": {
            "_view_name": "StyleView",
            "_model_name": "ProgressStyleModel",
            "description_width": "",
            "_view_module": "@jupyter-widgets/base",
            "_model_module_version": "1.5.0",
            "_view_count": null,
            "_view_module_version": "1.2.0",
            "bar_color": null,
            "_model_module": "@jupyter-widgets/controls"
          }
        },
        "6586d36b36c74e2dbd9e6a369b571cda": {
          "model_module": "@jupyter-widgets/base",
          "model_name": "LayoutModel",
          "model_module_version": "1.2.0",
          "state": {
            "_view_name": "LayoutView",
            "grid_template_rows": null,
            "right": null,
            "justify_content": null,
            "_view_module": "@jupyter-widgets/base",
            "overflow": null,
            "_model_module_version": "1.2.0",
            "_view_count": null,
            "flex_flow": null,
            "width": null,
            "min_width": null,
            "border": null,
            "align_items": null,
            "bottom": null,
            "_model_module": "@jupyter-widgets/base",
            "top": null,
            "grid_column": null,
            "overflow_y": null,
            "overflow_x": null,
            "grid_auto_flow": null,
            "grid_area": null,
            "grid_template_columns": null,
            "flex": null,
            "_model_name": "LayoutModel",
            "justify_items": null,
            "grid_row": null,
            "max_height": null,
            "align_content": null,
            "visibility": null,
            "align_self": null,
            "height": null,
            "min_height": null,
            "padding": null,
            "grid_auto_rows": null,
            "grid_gap": null,
            "max_width": null,
            "order": null,
            "_view_module_version": "1.2.0",
            "grid_template_areas": null,
            "object_position": null,
            "object_fit": null,
            "grid_auto_columns": null,
            "margin": null,
            "display": null,
            "left": null
          }
        },
        "ead7f2fb1c38433dba04033cc6c8b9ea": {
          "model_module": "@jupyter-widgets/controls",
          "model_name": "DescriptionStyleModel",
          "model_module_version": "1.5.0",
          "state": {
            "_view_name": "StyleView",
            "_model_name": "DescriptionStyleModel",
            "description_width": "",
            "_view_module": "@jupyter-widgets/base",
            "_model_module_version": "1.5.0",
            "_view_count": null,
            "_view_module_version": "1.2.0",
            "_model_module": "@jupyter-widgets/controls"
          }
        },
        "d88b9524190148d0bf83c56696e2aec0": {
          "model_module": "@jupyter-widgets/base",
          "model_name": "LayoutModel",
          "model_module_version": "1.2.0",
          "state": {
            "_view_name": "LayoutView",
            "grid_template_rows": null,
            "right": null,
            "justify_content": null,
            "_view_module": "@jupyter-widgets/base",
            "overflow": null,
            "_model_module_version": "1.2.0",
            "_view_count": null,
            "flex_flow": null,
            "width": null,
            "min_width": null,
            "border": null,
            "align_items": null,
            "bottom": null,
            "_model_module": "@jupyter-widgets/base",
            "top": null,
            "grid_column": null,
            "overflow_y": null,
            "overflow_x": null,
            "grid_auto_flow": null,
            "grid_area": null,
            "grid_template_columns": null,
            "flex": null,
            "_model_name": "LayoutModel",
            "justify_items": null,
            "grid_row": null,
            "max_height": null,
            "align_content": null,
            "visibility": null,
            "align_self": null,
            "height": null,
            "min_height": null,
            "padding": null,
            "grid_auto_rows": null,
            "grid_gap": null,
            "max_width": null,
            "order": null,
            "_view_module_version": "1.2.0",
            "grid_template_areas": null,
            "object_position": null,
            "object_fit": null,
            "grid_auto_columns": null,
            "margin": null,
            "display": null,
            "left": null
          }
        }
      }
    }
  },
  "cells": [
    {
      "cell_type": "markdown",
      "metadata": {
        "id": "view-in-github",
        "colab_type": "text"
      },
      "source": [
        "<a href=\"https://colab.research.google.com/github/Malvodio/DeepHistory/blob/main/Training_sampling.ipynb\" target=\"_parent\"><img src=\"https://colab.research.google.com/assets/colab-badge.svg\" alt=\"Open In Colab\"/></a>"
      ]
    },
    {
      "cell_type": "code",
      "metadata": {
        "id": "FEMAIh7Ifa9s",
        "colab": {
          "base_uri": "https://localhost:8080/"
        },
        "outputId": "878429ff-c1e0-426c-876a-c2b81f6771cd"
      },
      "source": [
        "from google.colab import drive\n",
        "drive.mount('/content/drive')"
      ],
      "execution_count": 1,
      "outputs": [
        {
          "output_type": "stream",
          "name": "stdout",
          "text": [
            "Drive already mounted at /content/drive; to attempt to forcibly remount, call drive.mount(\"/content/drive\", force_remount=True).\n"
          ]
        }
      ]
    },
    {
      "cell_type": "code",
      "metadata": {
        "colab": {
          "base_uri": "https://localhost:8080/"
        },
        "id": "kcnrakDu0JfO",
        "outputId": "4cc37b2d-bc59-45d3-bb01-4353f5384b06"
      },
      "source": [
        "cd drive/MyDrive"
      ],
      "execution_count": 1,
      "outputs": [
        {
          "output_type": "stream",
          "name": "stdout",
          "text": [
            "/content/drive/MyDrive\n"
          ]
        }
      ]
    },
    {
      "cell_type": "code",
      "metadata": {
        "colab": {
          "base_uri": "https://localhost:8080/"
        },
        "id": "t0X1r04F08s_",
        "outputId": "1cb16bc0-ea54-4acf-9a2a-a410e2318df9"
      },
      "source": [
        "!git clone https://github.com/Malvodio/DeepHistory"
      ],
      "execution_count": 3,
      "outputs": [
        {
          "output_type": "stream",
          "name": "stdout",
          "text": [
            "Cloning into 'DeepHistory'...\n",
            "remote: Enumerating objects: 697, done.\u001b[K\n",
            "remote: Counting objects: 100% (697/697), done.\u001b[K\n",
            "remote: Compressing objects: 100% (681/681), done.\u001b[K\n",
            "remote: Total 697 (delta 76), reused 617 (delta 10), pack-reused 0\u001b[K\n",
            "Receiving objects: 100% (697/697), 108.87 MiB | 3.41 MiB/s, done.\n",
            "Resolving deltas: 100% (76/76), done.\n",
            "Checking out files: 100% (575/575), done.\n"
          ]
        }
      ]
    },
    {
      "cell_type": "code",
      "metadata": {
        "id": "q5ven54VJgzg"
      },
      "source": [
        "%matplotlib inline\n",
        "import numpy as np \n",
        "import torch\n",
        "import random\n",
        "import os"
      ],
      "execution_count": 2,
      "outputs": []
    },
    {
      "cell_type": "markdown",
      "metadata": {
        "id": "pk4-SHPOWEIu"
      },
      "source": [
        "## Seeds para reproducibilidad\n"
      ]
    },
    {
      "cell_type": "code",
      "metadata": {
        "id": "06tqtCEHWZ68"
      },
      "source": [
        "def set_seed(seed):\n",
        "  random.seed(seed)        \n",
        "  torch.manual_seed(seed)  \n",
        "\n",
        "set_seed(42)"
      ],
      "execution_count": 3,
      "outputs": []
    },
    {
      "cell_type": "markdown",
      "metadata": {
        "id": "YC-_BIkaIBay"
      },
      "source": [
        "## Partitioning on mini batches\n",
        "\n",
        "![WhatsApp Image 2021-09-08 at 21.36.46.jpeg](data:image/jpeg;base64,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)\n"
      ]
    },
    {
      "cell_type": "code",
      "metadata": {
        "id": "NN1x27yWmoa-"
      },
      "source": [
        "main_path = '/content/drive/MyDrive/DeepHistory/data/vox-png/train' #Cambiar la ruta de ser necesario\n",
        "#test_path = '/content/drive/MyDrive/vox-png'\n",
        "batch_index_path = '/content/drive/MyDrive/DeepHistory/logs'\n",
        "fbatches='batches.txt'"
      ],
      "execution_count": 10,
      "outputs": []
    },
    {
      "cell_type": "code",
      "metadata": {
        "id": "X4yR-xedMhM1"
      },
      "source": [
        "def directory_iter(files, batch_size, shuffle=True):\n",
        "  n = files.shape[0]\n",
        "  \n",
        "  if shuffle:\n",
        "    indices = np.random.permutation(n)\n",
        "  else:\n",
        "    indices = range(n)\n",
        "\n",
        "  for i in range(0, n, batch_size):\n",
        "    batch_indices = indices[i:i+batch_size if i+batch_size <=n else n]\n",
        "    #files_batch = files[batch_indices]\n",
        "    yield batch_indices"
      ],
      "execution_count": 5,
      "outputs": []
    },
    {
      "cell_type": "markdown",
      "metadata": {
        "id": "NwpOIVifMmBr"
      },
      "source": [
        "Probaremos la implementación mostrando el tamaño de cada lote:"
      ]
    },
    {
      "cell_type": "code",
      "metadata": {
        "id": "USiYGTuVMmLh",
        "colab": {
          "base_uri": "https://localhost:8080/"
        },
        "outputId": "8d96b4fa-6726-4588-d557-c93f5e05584f"
      },
      "source": [
        "files=np.array(os.listdir(main_path))\n",
        "batch_size = 5\n",
        "total_samples = 0\n",
        "mini_directory_bt=[]\n",
        "\n",
        "if os.path.isfile(os.path.join(batch_index_path,fbatches)):\n",
        "  os.remove(os.path.join(batch_index_path,fbatches))\n",
        "\n",
        "with open(os.path.join(batch_index_path,fbatches), 'w') as f:\n",
        "  for i, batch_indices in enumerate(directory_iter(files, batch_size), 1):\n",
        "    total_samples += batch_indices.shape[0]\n",
        "    #print(f'Lote {i} tiene tamaño {batch_indices.shape[0]}')\n",
        "    for index in batch_indices:\n",
        "      f.write(\"%s \" % index)\n",
        "    f.write(\"\\n\")\n",
        "\n",
        "if total_samples == files.shape[0]:\n",
        "  print(':) El número total de muestras por lotes es correcto.')\n",
        "else:\n",
        "  print(':( El número total de muestras por lotes difiere del total de muestras.')"
      ],
      "execution_count": 12,
      "outputs": [
        {
          "output_type": "stream",
          "name": "stdout",
          "text": [
            ":) El número total de muestras por lotes es correcto.\n"
          ]
        }
      ]
    },
    {
      "cell_type": "code",
      "metadata": {
        "colab": {
          "base_uri": "https://localhost:8080/"
        },
        "id": "XHObMCV5k0cm",
        "outputId": "5af6e5c1-299f-4a3a-ed5a-0f8cc89b90ab"
      },
      "source": [
        "cd DeepHistory/"
      ],
      "execution_count": 13,
      "outputs": [
        {
          "output_type": "stream",
          "name": "stdout",
          "text": [
            "[Errno 2] No such file or directory: 'DeepHistory/'\n",
            "/content/drive/MyDrive/DeepHistory\n"
          ]
        }
      ]
    },
    {
      "cell_type": "code",
      "metadata": {
        "colab": {
          "base_uri": "https://localhost:8080/",
          "height": 35
        },
        "id": "z_nbReaplLAm",
        "outputId": "55136292-9769-46ce-8d42-f13698931c87"
      },
      "source": [
        "torch.cuda.get_device_name(0)"
      ],
      "execution_count": 14,
      "outputs": [
        {
          "output_type": "execute_result",
          "data": {
            "application/vnd.google.colaboratory.intrinsic+json": {
              "type": "string"
            },
            "text/plain": [
              "'Tesla K80'"
            ]
          },
          "metadata": {},
          "execution_count": 14
        }
      ]
    },
    {
      "cell_type": "code",
      "metadata": {
        "id": "Hwtojg9IjFFm"
      },
      "source": [
        "from shutil import copy\n",
        "import imageio\n",
        "import numpy as np\n",
        "import sys\n",
        "import uuid\n",
        "import yaml\n",
        "import torch\n",
        "import matplotlib.pyplot as plt\n",
        "import matplotlib.animation as animation\n",
        "import warnings\n",
        "from time import gmtime, strftime\n",
        "from skimage import img_as_ubyte\n",
        "from ctypes import cdll\n",
        "from train import train\n",
        "from modules.generator import OcclusionAwareGenerator\n",
        "from modules.discriminator import MultiScaleDiscriminator\n",
        "from modules.keypoint_detector import KPDetector\n",
        "from frames_dataset import FramesDataset,FramesDatasetPartitioning\n",
        "from modules.util import DownBlock2d\n",
        "from tqdm import trange\n",
        "from torch.utils.data import DataLoader\n",
        "from logger import Logger\n",
        "from modules.model import GeneratorFullModel, DiscriminatorFullModel\n",
        "from torch.optim.lr_scheduler import MultiStepLR\n",
        "from sync_batchnorm import DataParallelWithCallback\n",
        "from frames_dataset import DatasetRepeater\n",
        "from demo import load_checkpoints, make_animation, load_checkpoints_Unet_3"
      ],
      "execution_count": 15,
      "outputs": []
    },
    {
      "cell_type": "code",
      "metadata": {
        "colab": {
          "base_uri": "https://localhost:8080/"
        },
        "id": "2mP43OslnnJ-",
        "outputId": "feb9e33f-161a-4356-82bb-76102a963705"
      },
      "source": [
        "batchf = './logs/batches.txt'\n",
        "config = './config/prueba.yaml'\n",
        "\n",
        "num_batch=4\n",
        "\n",
        "batch_list=[]\n",
        "with open(batchf, 'r') as f:\n",
        "  for line in f.readlines():\n",
        "    batch_list.append(list(map(int, line.rstrip().split(\" \"))))\n",
        "\n",
        "\n",
        "with open(config) as f:\n",
        "        config = yaml.load(f)\n",
        "\n",
        "dataset = FramesDatasetPartitioning(is_train=1, **config['dataset_params'],batches_list=batch_list[num_batch])"
      ],
      "execution_count": 16,
      "outputs": [
        {
          "output_type": "stream",
          "name": "stdout",
          "text": [
            "Use predefined train-test split.\n",
            "18061\n"
          ]
        }
      ]
    },
    {
      "cell_type": "code",
      "metadata": {
        "colab": {
          "base_uri": "https://localhost:8080/"
        },
        "id": "km65rJmmAOnV",
        "outputId": "c12f9e97-1535-40b4-a6e3-78336d5a3076"
      },
      "source": [
        "print(batch_list[num_batch])\n",
        "print(dataset.videos)"
      ],
      "execution_count": 18,
      "outputs": [
        {
          "output_type": "stream",
          "name": "stdout",
          "text": [
            "[12941, 15351, 13318, 6832, 4154]\n",
            "['id10406#qyRPFNiPvJs#002398#003163.mp4'\n",
            " 'id10130#rOyppZrYO0A#001866#002078.mp4'\n",
            " 'id10231#PyZ7LqrciCs#001608#001708.mp4'\n",
            " 'id10818#VaxjUkL42s4#000270#000459.mp4'\n",
            " 'id10904#oHlsoMOOD1U#004815#004913.mp4']\n"
          ]
        }
      ]
    },
    {
      "cell_type": "code",
      "metadata": {
        "colab": {
          "base_uri": "https://localhost:8080/",
          "height": 154,
          "referenced_widgets": [
            "bfb3a9bdbbbb479e831bf0d0b86017bd",
            "4b554bf7d76742e1a2527cb2bfdbfc63",
            "9aa61b43548e490498195beb8b3b4be9",
            "03e5463efd4441598cab3c8a827afa2b",
            "541a3dcf254b41968944a04fc66db6cc",
            "6f7f7237e321415683e86414e4c6582c",
            "10d9c2653fc04b9588f2067a8968e8aa",
            "a909fa4e868a4508b8994d60fb8b12d2",
            "6586d36b36c74e2dbd9e6a369b571cda",
            "ead7f2fb1c38433dba04033cc6c8b9ea",
            "d88b9524190148d0bf83c56696e2aec0"
          ]
        },
        "id": "W1-eAjMjjgzO",
        "outputId": "ac4647f8-46a7-4081-8d67-6587d1c0af5b"
      },
      "source": [
        "warnings.filterwarnings(\"ignore\")\n",
        "\n",
        "config = './config/prueba.yaml'\n",
        "device_ids = [0]\n",
        "#checkpoint = './models/vox-adv-cpk.pth.tar'\n",
        "checkpoint = None\n",
        "log_dir = './logs'\n",
        "batchf= './logs/batches.txt'\n",
        "\n",
        "num_batch=4\n",
        "\n",
        "batch_list=[]\n",
        "with open(batchf, 'r') as f:\n",
        "  for line in f.readlines():\n",
        "    batch_list.append(list(map(int, line.rstrip().split(\" \"))))\n",
        "\n",
        "if __name__ == \"__main__\":\n",
        "    \n",
        "    with open(config) as f:\n",
        "        config = yaml.load(f)\n",
        "        \n",
        "    generator = OcclusionAwareGenerator(**config['model_params']['generator_params'], **config['model_params']['common_params'])\n",
        "\n",
        "    if torch.cuda.is_available():\n",
        "        generator.to(device_ids[0])\n",
        "\n",
        "    discriminator = MultiScaleDiscriminator(**config['model_params']['discriminator_params'], **config['model_params']['common_params'])\n",
        "\n",
        "    if torch.cuda.is_available():\n",
        "        discriminator.to(device_ids[0])\n",
        "\n",
        "    kp_detector = KPDetector(**config['model_params']['kp_detector_params'], **config['model_params']['common_params'])\n",
        "\n",
        "    if torch.cuda.is_available():\n",
        "        kp_detector.to(device_ids[0])\n",
        "            \n",
        "    dataset = FramesDatasetPartitioning(is_train=1, **config['dataset_params'],batches_list=batch_list[num_batch])\n",
        "\n",
        "    print(\"Training...\")\n",
        "\n",
        "    train_params = config['train_params']\n",
        "\n",
        "    optimizer_generator = torch.optim.Adam(generator.parameters(), lr=train_params['lr_generator'], betas=(0.5, 0.999))\n",
        "    optimizer_discriminator = torch.optim.Adam(discriminator.parameters(), lr=train_params['lr_discriminator'], betas=(0.5, 0.999))\n",
        "    optimizer_kp_detector = torch.optim.Adam(kp_detector.parameters(), lr=train_params['lr_kp_detector'], betas=(0.5, 0.999))\n",
        "\n",
        "    if checkpoint is not None:\n",
        "        start_epoch = load_cpk(checkpoint, generator, discriminator, kp_detector, optimizer_generator, optimizer_discriminator, None if train_params['lr_kp_detector'] == 0 else optimizer_kp_detector)\n",
        "    else:\n",
        "        start_epoch = 0\n",
        "\n",
        "    scheduler_generator = MultiStepLR(optimizer_generator, train_params['epoch_milestones'], gamma=0.1, last_epoch=start_epoch - 1)\n",
        "\n",
        "    scheduler_discriminator = MultiStepLR(optimizer_discriminator, train_params['epoch_milestones'], gamma=0.1, last_epoch=start_epoch - 1)\n",
        "\n",
        "    scheduler_kp_detector = MultiStepLR(optimizer_kp_detector, train_params['epoch_milestones'], gamma=0.1, last_epoch=-1 + start_epoch * (train_params['lr_kp_detector'] != 0))\n",
        "\n",
        "    if 'num_repeats' in train_params or train_params['num_repeats'] != 1:\n",
        "        dataset = DatasetRepeater(dataset, train_params['num_repeats'])\n",
        "\n",
        "    dataloader = DataLoader(dataset, batch_size=train_params['batch_size'], shuffle=True, num_workers=6, drop_last=True)\n",
        "\n",
        "    generator_full = GeneratorFullModel(kp_detector, generator, discriminator, train_params)\n",
        "    discriminator_full = DiscriminatorFullModel(kp_detector, generator, discriminator, train_params)\n",
        "\n",
        "    if torch.cuda.is_available():\n",
        "        generator_full = DataParallelWithCallback(generator_full, device_ids=device_ids)\n",
        "        discriminator_full = DataParallelWithCallback(discriminator_full, device_ids=device_ids)\n",
        "\n",
        "    with Logger(log_dir=log_dir, visualizer_params=config['visualizer_params'], checkpoint_freq=train_params['checkpoint_freq']) as logger:\n",
        "        for epoch in trange(start_epoch, train_params['num_epochs']):\n",
        "            for x in dataloader:\n",
        "                #print(dataloader)\n",
        "                losses_generator, generated = generator_full(x)\n",
        "\n",
        "                loss_values = [val.mean() for val in losses_generator.values()]\n",
        "                loss = sum(loss_values)\n",
        "\n",
        "                loss.backward()\n",
        "                optimizer_generator.step()\n",
        "                optimizer_generator.zero_grad()\n",
        "                optimizer_kp_detector.step()\n",
        "                optimizer_kp_detector.zero_grad()\n",
        "\n",
        "                if train_params['loss_weights']['generator_gan'] != 0:\n",
        "                    optimizer_discriminator.zero_grad()\n",
        "                    losses_discriminator = discriminator_full(x, generated)\n",
        "                    loss_values = [val.mean() for val in losses_discriminator.values()]\n",
        "                    loss = sum(loss_values)\n",
        "\n",
        "                    loss.backward()\n",
        "                    optimizer_discriminator.step()\n",
        "                    optimizer_discriminator.zero_grad()\n",
        "                else:\n",
        "                    losses_discriminator = {}\n",
        "\n",
        "                losses_generator.update(losses_discriminator)\n",
        "                losses = {key: value.mean().detach().data.cpu().numpy() for key, value in losses_generator.items()}\n",
        "                logger.log_iter(losses=losses)\n",
        "\n",
        "            scheduler_generator.step()\n",
        "            scheduler_discriminator.step()\n",
        "            scheduler_kp_detector.step()\n",
        "            \n",
        "            logger.log_epoch(epoch, {'generator': generator, 'discriminator': discriminator, 'kp_detector': kp_detector, 'optimizer_generator': optimizer_generator, 'optimizer_discriminator': optimizer_discriminator, 'optimizer_kp_detector': optimizer_kp_detector}, inp=x, out=generated)"
      ],
      "execution_count": 19,
      "outputs": [
        {
          "output_type": "stream",
          "name": "stdout",
          "text": [
            "Use predefined train-test split.\n",
            "18061\n",
            "Training...\n"
          ]
        },
        {
          "output_type": "stream",
          "name": "stderr",
          "text": [
            "Downloading: \"https://download.pytorch.org/models/vgg19-dcbb9e9d.pth\" to /root/.cache/torch/hub/checkpoints/vgg19-dcbb9e9d.pth\n"
          ]
        },
        {
          "output_type": "display_data",
          "data": {
            "application/vnd.jupyter.widget-view+json": {
              "model_id": "bfb3a9bdbbbb479e831bf0d0b86017bd",
              "version_minor": 0,
              "version_major": 2
            },
            "text/plain": [
              "  0%|          | 0.00/548M [00:00<?, ?B/s]"
            ]
          },
          "metadata": {}
        },
        {
          "output_type": "stream",
          "name": "stderr",
          "text": [
            "100%|██████████| 10/10 [41:34<00:00, 249.41s/it]\n"
          ]
        }
      ]
    }
  ]
}